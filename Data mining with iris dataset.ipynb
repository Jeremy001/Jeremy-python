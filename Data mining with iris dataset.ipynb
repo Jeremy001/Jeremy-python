{
 "cells": [
  {
   "cell_type": "markdown",
   "metadata": {},
   "source": [
    "# Data mining with iris dataset\n",
    "***"
   ]
  },
  {
   "cell_type": "markdown",
   "metadata": {},
   "source": [
    "- 1: About iris\n",
    "- 2: Logistic Regression\n",
    "- 3: Dicission Tree\n",
    "- 4: Random Forest\n",
    "- 5: SVM\n",
    "- 6: KNN\n",
    "- 7: Model Evaluation\n",
    "- 8: Parameter adjustment"
   ]
  },
  {
   "cell_type": "markdown",
   "metadata": {},
   "source": [
    "## 1: About iris\n",
    "***"
   ]
  },
  {
   "cell_type": "markdown",
   "metadata": {},
   "source": [
    "- 图片赏析\n",
    "- 加载数据\n",
    "- 可视化"
   ]
  },
  {
   "cell_type": "markdown",
   "metadata": {},
   "source": [
    "先来看看鸢尾花长什么样子？\n",
    "\n",
    "依次是 setosa, versicolor, verginica"
   ]
  },
  {
   "cell_type": "markdown",
   "metadata": {},
   "source": [
    "<table><tr>\n",
    "<td><img src=\"https://upload.wikimedia.org/wikipedia/commons/thumb/5/56/Kosaciec_szczecinkowaty_Iris_setosa.jpg/675px-Kosaciec_szczecinkowaty_Iris_setosa.jpg\" width = \"300\" height = \"420\" align = center border=0></td>\n",
    "<td><img src=\"https://upload.wikimedia.org/wikipedia/commons/thumb/4/41/Iris_versicolor_3.jpg/330px-Iris_versicolor_3.jpg\" width = \"300\" height = \"420\" align = center border=0></td>\n",
    "<td><img src=\"https://upload.wikimedia.org/wikipedia/commons/thumb/9/9f/Iris_virginica.jpg/330px-Iris_virginica.jpg\"  width = \"300\" height = \"420\" align = center border=0></td>\n",
    "</tr></table>\n",
    "\n",
    "[Iris flower data set](https://en.wikipedia.org/wiki/Iris_flower_data_set)"
   ]
  },
  {
   "cell_type": "markdown",
   "metadata": {},
   "source": [
    "欣赏完了花朵，开始干活！！！"
   ]
  },
  {
   "cell_type": "code",
   "execution_count": 1,
   "metadata": {
    "collapsed": true
   },
   "outputs": [],
   "source": [
    "# 导入类\n",
    "import numpy as np\n",
    "import pandas as pd\n",
    "import matplotlib.pyplot as plt\n",
    "import seaborn as sns"
   ]
  },
  {
   "cell_type": "code",
   "execution_count": 2,
   "metadata": {
    "collapsed": true
   },
   "outputs": [],
   "source": [
    "# 加载iris数据集\n",
    "iris = sns.load_dataset('iris')"
   ]
  },
  {
   "cell_type": "code",
   "execution_count": 3,
   "metadata": {
    "collapsed": false
   },
   "outputs": [
    {
     "data": {
      "text/html": [
       "<div>\n",
       "<style>\n",
       "    .dataframe thead tr:only-child th {\n",
       "        text-align: right;\n",
       "    }\n",
       "\n",
       "    .dataframe thead th {\n",
       "        text-align: left;\n",
       "    }\n",
       "\n",
       "    .dataframe tbody tr th {\n",
       "        vertical-align: top;\n",
       "    }\n",
       "</style>\n",
       "<table border=\"1\" class=\"dataframe\">\n",
       "  <thead>\n",
       "    <tr style=\"text-align: right;\">\n",
       "      <th></th>\n",
       "      <th>sepal_length</th>\n",
       "      <th>sepal_width</th>\n",
       "      <th>petal_length</th>\n",
       "      <th>petal_width</th>\n",
       "      <th>species</th>\n",
       "    </tr>\n",
       "  </thead>\n",
       "  <tbody>\n",
       "    <tr>\n",
       "      <th>0</th>\n",
       "      <td>5.1</td>\n",
       "      <td>3.5</td>\n",
       "      <td>1.4</td>\n",
       "      <td>0.2</td>\n",
       "      <td>setosa</td>\n",
       "    </tr>\n",
       "    <tr>\n",
       "      <th>1</th>\n",
       "      <td>4.9</td>\n",
       "      <td>3.0</td>\n",
       "      <td>1.4</td>\n",
       "      <td>0.2</td>\n",
       "      <td>setosa</td>\n",
       "    </tr>\n",
       "    <tr>\n",
       "      <th>2</th>\n",
       "      <td>4.7</td>\n",
       "      <td>3.2</td>\n",
       "      <td>1.3</td>\n",
       "      <td>0.2</td>\n",
       "      <td>setosa</td>\n",
       "    </tr>\n",
       "    <tr>\n",
       "      <th>3</th>\n",
       "      <td>4.6</td>\n",
       "      <td>3.1</td>\n",
       "      <td>1.5</td>\n",
       "      <td>0.2</td>\n",
       "      <td>setosa</td>\n",
       "    </tr>\n",
       "    <tr>\n",
       "      <th>4</th>\n",
       "      <td>5.0</td>\n",
       "      <td>3.6</td>\n",
       "      <td>1.4</td>\n",
       "      <td>0.2</td>\n",
       "      <td>setosa</td>\n",
       "    </tr>\n",
       "  </tbody>\n",
       "</table>\n",
       "</div>"
      ],
      "text/plain": [
       "   sepal_length  sepal_width  petal_length  petal_width species\n",
       "0           5.1          3.5           1.4          0.2  setosa\n",
       "1           4.9          3.0           1.4          0.2  setosa\n",
       "2           4.7          3.2           1.3          0.2  setosa\n",
       "3           4.6          3.1           1.5          0.2  setosa\n",
       "4           5.0          3.6           1.4          0.2  setosa"
      ]
     },
     "execution_count": 3,
     "metadata": {},
     "output_type": "execute_result"
    }
   ],
   "source": [
    "# 了解iris数据集\n",
    "iris.head()"
   ]
  },
  {
   "cell_type": "code",
   "execution_count": 4,
   "metadata": {
    "collapsed": false
   },
   "outputs": [
    {
     "data": {
      "text/plain": [
       "(150, 5)"
      ]
     },
     "execution_count": 4,
     "metadata": {},
     "output_type": "execute_result"
    }
   ],
   "source": [
    "iris.shape"
   ]
  },
  {
   "cell_type": "code",
   "execution_count": 5,
   "metadata": {
    "collapsed": false
   },
   "outputs": [
    {
     "data": {
      "text/html": [
       "<div>\n",
       "<style>\n",
       "    .dataframe thead tr:only-child th {\n",
       "        text-align: right;\n",
       "    }\n",
       "\n",
       "    .dataframe thead th {\n",
       "        text-align: left;\n",
       "    }\n",
       "\n",
       "    .dataframe tbody tr th {\n",
       "        vertical-align: top;\n",
       "    }\n",
       "</style>\n",
       "<table border=\"1\" class=\"dataframe\">\n",
       "  <thead>\n",
       "    <tr style=\"text-align: right;\">\n",
       "      <th></th>\n",
       "      <th>sepal_length</th>\n",
       "      <th>sepal_width</th>\n",
       "      <th>petal_length</th>\n",
       "      <th>petal_width</th>\n",
       "    </tr>\n",
       "  </thead>\n",
       "  <tbody>\n",
       "    <tr>\n",
       "      <th>count</th>\n",
       "      <td>150.000000</td>\n",
       "      <td>150.000000</td>\n",
       "      <td>150.000000</td>\n",
       "      <td>150.000000</td>\n",
       "    </tr>\n",
       "    <tr>\n",
       "      <th>mean</th>\n",
       "      <td>5.843333</td>\n",
       "      <td>3.057333</td>\n",
       "      <td>3.758000</td>\n",
       "      <td>1.199333</td>\n",
       "    </tr>\n",
       "    <tr>\n",
       "      <th>std</th>\n",
       "      <td>0.828066</td>\n",
       "      <td>0.435866</td>\n",
       "      <td>1.765298</td>\n",
       "      <td>0.762238</td>\n",
       "    </tr>\n",
       "    <tr>\n",
       "      <th>min</th>\n",
       "      <td>4.300000</td>\n",
       "      <td>2.000000</td>\n",
       "      <td>1.000000</td>\n",
       "      <td>0.100000</td>\n",
       "    </tr>\n",
       "    <tr>\n",
       "      <th>25%</th>\n",
       "      <td>5.100000</td>\n",
       "      <td>2.800000</td>\n",
       "      <td>1.600000</td>\n",
       "      <td>0.300000</td>\n",
       "    </tr>\n",
       "    <tr>\n",
       "      <th>50%</th>\n",
       "      <td>5.800000</td>\n",
       "      <td>3.000000</td>\n",
       "      <td>4.350000</td>\n",
       "      <td>1.300000</td>\n",
       "    </tr>\n",
       "    <tr>\n",
       "      <th>75%</th>\n",
       "      <td>6.400000</td>\n",
       "      <td>3.300000</td>\n",
       "      <td>5.100000</td>\n",
       "      <td>1.800000</td>\n",
       "    </tr>\n",
       "    <tr>\n",
       "      <th>max</th>\n",
       "      <td>7.900000</td>\n",
       "      <td>4.400000</td>\n",
       "      <td>6.900000</td>\n",
       "      <td>2.500000</td>\n",
       "    </tr>\n",
       "  </tbody>\n",
       "</table>\n",
       "</div>"
      ],
      "text/plain": [
       "       sepal_length  sepal_width  petal_length  petal_width\n",
       "count    150.000000   150.000000    150.000000   150.000000\n",
       "mean       5.843333     3.057333      3.758000     1.199333\n",
       "std        0.828066     0.435866      1.765298     0.762238\n",
       "min        4.300000     2.000000      1.000000     0.100000\n",
       "25%        5.100000     2.800000      1.600000     0.300000\n",
       "50%        5.800000     3.000000      4.350000     1.300000\n",
       "75%        6.400000     3.300000      5.100000     1.800000\n",
       "max        7.900000     4.400000      6.900000     2.500000"
      ]
     },
     "execution_count": 5,
     "metadata": {},
     "output_type": "execute_result"
    }
   ],
   "source": [
    "iris.describe()"
   ]
  },
  {
   "cell_type": "code",
   "execution_count": 6,
   "metadata": {
    "collapsed": false
   },
   "outputs": [
    {
     "data": {
      "text/plain": [
       "<seaborn.axisgrid.PairGrid at 0x1545ad18748>"
      ]
     },
     "execution_count": 6,
     "metadata": {},
     "output_type": "execute_result"
    },
    {
     "data": {
      "image/png": "iVBORw0KGgoAAAANSUhEUgAAAxYAAALACAYAAAAOruQhAAAABHNCSVQICAgIfAhkiAAAAAlwSFlz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\nGjAayFcAAAAASUVORK5CYII=\n",
      "text/plain": [
       "<matplotlib.figure.Figure at 0x1545b8db2b0>"
      ]
     },
     "metadata": {},
     "output_type": "display_data"
    }
   ],
   "source": [
    "# 可视化\n",
    "%matplotlib inline\n",
    "sns.set()\n",
    "sns.pairplot(iris, hue = 'species')"
   ]
  },
  {
   "cell_type": "markdown",
   "metadata": {},
   "source": [
    "## 2: Logistic Regression\n",
    "***"
   ]
  },
  {
   "cell_type": "markdown",
   "metadata": {},
   "source": [
    "总的来说，Logistic回归的过程就是根据样本求解分类直线（或者超平面）的参数的过程，求解的方法是极大似然估计法，但是因为似然方程最后求导无法得到解析解，所以用了梯度下降法去逐步优化得到极值。\n",
    "\n",
    "sigmoid分布：\n",
    "<img src=\"http://upload.wikimedia.org/wikipedia/commons/thumb/8/88/Logistic-curve.svg/320px-Logistic-curve.svg.png?_=3109276\" width = \"400\" height = \"600\" align = center border=0 />\n",
    "\n",
    "梯度下降法：\n",
    "<img src = \"https://gss0.bdstatic.com/94o3dSag_xI4khGkpoWK1HF6hhy/baike/crop%3D21%2C0%2C512%2C338%3Bc0%3Dbaike80%2C5%2C5%2C80%2C26/sign=bbeecdb1f0dcd100d9d3a2614fb9763c/dcc451da81cb39db36d400ead8160924ab183071.jpg\" width = \"400\" height = \"600\" align = center border = 1 />\n"
   ]
  },
  {
   "cell_type": "code",
   "execution_count": 7,
   "metadata": {
    "collapsed": true
   },
   "outputs": [],
   "source": [
    "# data preprocessing\n",
    "## 通过sklearn.dataset加载iris数据集\n",
    "from sklearn.datasets import load_iris\n",
    "iris = load_iris()"
   ]
  },
  {
   "cell_type": "code",
<<<<<<< HEAD
   "execution_count": 8,
   "metadata": {},
=======
   "execution_count": 23,
   "metadata": {
    "collapsed": false
   },
>>>>>>> 0286233ddf781246c3949813c145bd9acde51362
   "outputs": [
    {
     "name": "stdout",
     "output_type": "stream",
     "text": [
      "<class 'sklearn.datasets.base.Bunch'>\n",
      "[0 0 0 0 0 0 0 0 0 0 0 0 0 0 0 0 0 0 0 0 0 0 0 0 0 0 0 0 0 0 0 0 0 0 0 0 0\n",
      " 0 0 0 0 0 0 0 0 0 0 0 0 0 1 1 1 1 1 1 1 1 1 1 1 1 1 1 1 1 1 1 1 1 1 1 1 1\n",
      " 1 1 1 1 1 1 1 1 1 1 1 1 1 1 1 1 1 1 1 1 1 1 1 1 1 1 2 2 2 2 2 2 2 2 2 2 2\n",
      " 2 2 2 2 2 2 2 2 2 2 2 2 2 2 2 2 2 2 2 2 2 2 2 2 2 2 2 2 2 2 2 2 2 2 2 2 2\n",
      " 2 2]\n",
      "['sepal length (cm)', 'sepal width (cm)', 'petal length (cm)', 'petal width (cm)']\n",
      "['setosa' 'versicolor' 'virginica']\n"
     ]
    }
   ],
   "source": [
    "print(type(iris))\n",
    "#print(iris.data)\n",
    "print(iris.target)\n",
    "print(iris.feature_names)\n",
    "print(iris.target_names)"
   ]
  },
  {
   "cell_type": "code",
<<<<<<< HEAD
   "execution_count": 9,
   "metadata": {},
=======
   "execution_count": 26,
   "metadata": {
    "collapsed": false
   },
>>>>>>> 0286233ddf781246c3949813c145bd9acde51362
   "outputs": [
    {
     "name": "stderr",
     "output_type": "stream",
     "text": [
      "d:\\application\\python\\python36\\lib\\site-packages\\sklearn\\cross_validation.py:44: DeprecationWarning: This module was deprecated in version 0.18 in favor of the model_selection module into which all the refactored classes and functions are moved. Also note that the interface of the new CV iterators are different from that of this module. This module will be removed in 0.20.\n",
      "  \"This module will be removed in 0.20.\", DeprecationWarning)\n"
     ]
    }
   ],
   "source": [
    "## 把iris拆分成训练样本和测试样本\n",
    "from sklearn.cross_validation import train_test_split\n",
    "X_train, X_test, y_train, y_test = train_test_split(iris.data[50:], \n",
    "                                                    iris.target[50:], \n",
    "                                                    test_size = 0.4, \n",
    "                                                    random_state = 1234)"
   ]
  },
  {
   "cell_type": "code",
<<<<<<< HEAD
   "execution_count": 10,
   "metadata": {},
=======
   "execution_count": 30,
   "metadata": {
    "collapsed": false
   },
>>>>>>> 0286233ddf781246c3949813c145bd9acde51362
   "outputs": [
    {
     "data": {
      "text/plain": [
       "LogisticRegression(C=1.0, class_weight=None, dual=False, fit_intercept=True,\n",
       "          intercept_scaling=1, max_iter=1000, multi_class='ovr', n_jobs=1,\n",
       "          penalty='l2', random_state=None, solver='liblinear', tol=0.0001,\n",
       "          verbose=0, warm_start=False)"
      ]
     },
     "execution_count": 10,
     "metadata": {},
     "output_type": "execute_result"
    }
   ],
   "source": [
    "# modeling\n",
    "from sklearn.linear_model.logistic import LogisticRegression\n",
    "clf_lg = LogisticRegression(max_iter=1000)\n",
    "clf_lg.fit(X_train, y_train)\n",
    "# 模型可以设置很多参数，目前使用默认参数"
   ]
  },
  {
   "cell_type": "code",
   "execution_count": 11,
   "metadata": {
    "collapsed": true
   },
   "outputs": [],
   "source": [
    "# prediction\n",
    "y_pred = clf_lg.predict(X_test)"
   ]
  },
  {
   "cell_type": "code",
<<<<<<< HEAD
   "execution_count": 12,
   "metadata": {},
=======
   "execution_count": 32,
   "metadata": {
    "collapsed": false
   },
>>>>>>> 0286233ddf781246c3949813c145bd9acde51362
   "outputs": [
    {
     "name": "stdout",
     "output_type": "stream",
     "text": [
      "Accuracy:\n",
      "0.925\n",
      "Confusion Matrix:\n",
      "[[13  1]\n",
      " [ 2 24]]\n"
     ]
    }
   ],
   "source": [
    "# model evaluation\n",
    "from sklearn import metrics\n",
    "print('Accuracy:')\n",
    "print(metrics.accuracy_score(y_test, y_pred))\n",
    "print('Confusion Matrix:')\n",
    "print(metrics.confusion_matrix(y_test, y_pred))\n",
    "## 每一行表示样本的实际标记，如标记为1有18个样本，2有22个样本\n",
    "## 每一列表示模型划分的标记，如模型划分为1的有17个样本，2有23个样本。其中，有一个样本实际为1但模型划分为2；"
   ]
  },
  {
   "cell_type": "markdown",
   "metadata": {},
   "source": [
    "**混淆矩阵下的指标：**\n",
    "\n",
    "TP：True Positive，即正确预测出的正样本个数\n",
    "\n",
    "FP：False Positive，即错误预测出的正样本个数（本来是负样本，被我们预测成了正样本）\n",
    "\n",
    "TN：True Negative，即正确预测出的负样本个数\n",
    "\n",
    "FN：False Negative，即错误预测出的负样本个数（本来是正样本，被我们预测成了负样本）\n",
    "\n",
    "**分类模型评价指标：**\n",
    "\n",
    "Precision：TP÷(TP+FP)，分类器预测出的正样本中，真实正样本的比例\n",
    "\n",
    "Recall：TP÷(TP+FN)，在所有真实正样本中，分类器中能找到多少\n",
    "\n",
    "Accuracy：(TP+TN)÷(TP+NP+TN+FN)，分类器对整体的判断能力，即正确预测的比例"
   ]
  },
  {
   "cell_type": "markdown",
   "metadata": {
    "collapsed": true
   },
   "source": [
    "## 3: Decission Tree\n",
    "***"
   ]
  },
  {
   "cell_type": "markdown",
   "metadata": {
    "collapsed": true
   },
   "source": [
    "**理论**\n",
    "<img src = \"http://images.cnblogs.com/cnblogs_com/leoo2sk/WindowsLiveWriter/34d255f282ae_B984/1_3.png\" />\n",
    "\n",
    "1. 为什么先选择年龄来划分？\n",
    "\n",
    "2. 年龄的划分为什么是是否<=30？\n",
    "\n",
    "要说明以上两个问题，先要了解以下这些概念：\n",
    "\n",
    "- 熵：随机变量的不确定性，衡量信息量的大小\n",
    "\n",
    "<img src = \"http://images2015.cnblogs.com/blog/1094293/201703/1094293-20170323162933986-429761079.png\" />\n",
    "\n",
    "<img src = \"http://images2015.cnblogs.com/blog/1094293/201703/1094293-20170317154810807-1726620815.png\" />\n",
    "\n",
    "- 信息增益：熵 - 条件熵， 衡量信息的纯度的提升量\n",
    "\n",
    "<table><tr>\n",
    "<td><img src=\"http://images2015.cnblogs.com/blog/993405/201610/993405-20161013113413078-639880046.png\" /></td>\n",
    "<td><img src=\"http://images2015.cnblogs.com/blog/993405/201610/993405-20161013115042171-1072293200.png\" /></td>\n",
    "</tr></table>\n",
    "\n",
    "- 信息增益比：惩罚参数 * 信息增益\n",
    "\n",
    "<img src = \"http://images2015.cnblogs.com/blog/1094293/201703/1094293-20170317133854323-1046650322.png\" />\n",
    "\n",
    "- 基尼系数：样本被选中的概率 * 样本被分错的概率\n",
    "\n",
    "<img src = \"http://images2015.cnblogs.com/blog/1094293/201703/1094293-20170317141739932-1276625834.png\" />\n",
    "\n",
    "参考文档:\n",
    "\n",
    "1.[信息增益，信息增益比，基尼系数](http://www.cnblogs.com/muzixi/p/6566803.html)\n",
    "\n",
    "2.[如何理解信息增益](https://www.zhihu.com/question/22104055)"
   ]
  },
  {
   "cell_type": "code",
<<<<<<< HEAD
   "execution_count": 13,
   "metadata": {},
=======
   "execution_count": 12,
   "metadata": {
    "collapsed": false
   },
>>>>>>> 0286233ddf781246c3949813c145bd9acde51362
   "outputs": [
    {
     "name": "stdout",
     "output_type": "stream",
     "text": [
      "Accuracy:\n",
      "0.925\n",
      "Confusion Matrix:\n",
      "[[12  2]\n",
      " [ 1 25]]\n"
     ]
    }
   ],
   "source": [
    "# 先来实现一下上面的二分类\n",
    "## 划分训练集和测试集\n",
    "X_train, X_test, y_train, y_test = train_test_split(iris.data[50:], \n",
    "                                                    iris.target[50:], \n",
    "                                                    test_size = 0.4, \n",
    "                                                    random_state = 1234)\n",
    "## 导入决策树类\n",
    "from sklearn.tree import DecisionTreeClassifier\n",
    "## modeling\n",
    "clf_dt = DecisionTreeClassifier()\n",
    "clf_dt.fit(X_train, y_train)\n",
    "## 预测\n",
    "y_pred = clf_dt.predict(X_test)\n",
    "## model evaluation\n",
    "print('Accuracy:')\n",
    "print(metrics.accuracy_score(y_test, y_pred))\n",
    "print('Confusion Matrix:')\n",
    "print(metrics.confusion_matrix(y_test, y_pred))"
   ]
  },
  {
   "cell_type": "code",
   "execution_count": 14,
   "metadata": {
    "collapsed": true
   },
   "outputs": [],
   "source": [
    "# 再来对iris整个数据集都进行一下分类\n",
    "## 把iris拆分成训练集和测试集\n",
    "X_train, X_test, y_train, y_test = train_test_split(iris.data, iris.target, test_size = 0.4, random_state = 123)"
   ]
  },
  {
   "cell_type": "code",
<<<<<<< HEAD
   "execution_count": 15,
   "metadata": {},
=======
   "execution_count": 14,
   "metadata": {
    "collapsed": false
   },
>>>>>>> 0286233ddf781246c3949813c145bd9acde51362
   "outputs": [
    {
     "data": {
      "text/plain": [
       "DecisionTreeClassifier(class_weight=None, criterion='gini', max_depth=None,\n",
       "            max_features=None, max_leaf_nodes=None,\n",
       "            min_impurity_split=1e-07, min_samples_leaf=1,\n",
       "            min_samples_split=2, min_weight_fraction_leaf=0.0,\n",
       "            presort=False, random_state=None, splitter='best')"
      ]
     },
     "execution_count": 15,
     "metadata": {},
     "output_type": "execute_result"
    }
   ],
   "source": [
    "# modeling\n",
    "from sklearn import tree\n",
    "clf_dt = tree.DecisionTreeClassifier()\n",
    "clf_dt.fit(X_train, y_train)"
   ]
  },
  {
   "cell_type": "code",
   "execution_count": 16,
   "metadata": {
    "collapsed": true
   },
   "outputs": [],
   "source": [
    "# prediction\n",
    "y_pred = clf_dt.predict(X_test)"
   ]
  },
  {
   "cell_type": "code",
<<<<<<< HEAD
   "execution_count": 17,
   "metadata": {},
=======
   "execution_count": 16,
   "metadata": {
    "collapsed": false
   },
>>>>>>> 0286233ddf781246c3949813c145bd9acde51362
   "outputs": [
    {
     "name": "stdout",
     "output_type": "stream",
     "text": [
      "Accuracy:\n",
      "0.966666666667\n",
      "Confusion Matrix:\n",
      "[[22  0  0]\n",
      " [ 0 16  0]\n",
      " [ 0  2 20]]\n"
     ]
    }
   ],
   "source": [
    "# model evaluation\n",
    "print('Accuracy:')\n",
    "print(metrics.accuracy_score(y_test, y_pred))\n",
    "print('Confusion Matrix:')\n",
    "print(metrics.confusion_matrix(y_test, y_pred))"
   ]
  },
  {
   "cell_type": "code",
<<<<<<< HEAD
   "execution_count": 18,
   "metadata": {},
=======
   "execution_count": 17,
   "metadata": {
    "collapsed": false
   },
>>>>>>> 0286233ddf781246c3949813c145bd9acde51362
   "outputs": [
    {
     "data": {
      "image/svg+xml": [
       "<?xml version=\"1.0\" encoding=\"UTF-8\" standalone=\"no\"?>\r\n",
       "<!DOCTYPE svg PUBLIC \"-//W3C//DTD SVG 1.1//EN\"\r\n",
       " \"http://www.w3.org/Graphics/SVG/1.1/DTD/svg11.dtd\">\r\n",
       "<!-- Generated by graphviz version 2.38.0 (20140413.2041)\r\n",
       " -->\r\n",
       "<!-- Title: Tree Pages: 1 -->\r\n",
       "<svg width=\"629pt\" height=\"671pt\"\r\n",
       " viewBox=\"0.00 0.00 629.00 671.00\" xmlns=\"http://www.w3.org/2000/svg\" xmlns:xlink=\"http://www.w3.org/1999/xlink\">\r\n",
       "<g id=\"graph0\" class=\"graph\" transform=\"scale(1 1) rotate(0) translate(4 667)\">\r\n",
       "<title>Tree</title>\r\n",
       "<polygon fill=\"white\" stroke=\"none\" points=\"-4,4 -4,-667 625,-667 625,4 -4,4\"/>\r\n",
       "<!-- 0 -->\r\n",
       "<g id=\"node1\" class=\"node\"><title>0</title>\r\n",
       "<path fill=\"#39e581\" fill-opacity=\"0.098039\" stroke=\"black\" d=\"M307,-663C307,-663 180,-663 180,-663 174,-663 168,-657 168,-651 168,-651 168,-592 168,-592 168,-586 174,-580 180,-580 180,-580 307,-580 307,-580 313,-580 319,-586 319,-592 319,-592 319,-651 319,-651 319,-657 313,-663 307,-663\"/>\r\n",
       "<text text-anchor=\"start\" x=\"176\" y=\"-647.8\" font-family=\"Helvetica,sans-Serif\" font-size=\"14.00\">petal width (cm) ≤ 0.8</text>\r\n",
       "<text text-anchor=\"start\" x=\"202\" y=\"-632.8\" font-family=\"Helvetica,sans-Serif\" font-size=\"14.00\">gini = 0.6637</text>\r\n",
       "<text text-anchor=\"start\" x=\"200\" y=\"-617.8\" font-family=\"Helvetica,sans-Serif\" font-size=\"14.00\">samples = 90</text>\r\n",
       "<text text-anchor=\"start\" x=\"183\" y=\"-602.8\" font-family=\"Helvetica,sans-Serif\" font-size=\"14.00\">value = [28, 34, 28]</text>\r\n",
       "<text text-anchor=\"start\" x=\"188\" y=\"-587.8\" font-family=\"Helvetica,sans-Serif\" font-size=\"14.00\">class = versicolor</text>\r\n",
       "</g>\r\n",
       "<!-- 1 -->\r\n",
       "<g id=\"node2\" class=\"node\"><title>1</title>\r\n",
       "<path fill=\"#e58139\" stroke=\"black\" d=\"M213,-536.5C213,-536.5 116,-536.5 116,-536.5 110,-536.5 104,-530.5 104,-524.5 104,-524.5 104,-480.5 104,-480.5 104,-474.5 110,-468.5 116,-468.5 116,-468.5 213,-468.5 213,-468.5 219,-468.5 225,-474.5 225,-480.5 225,-480.5 225,-524.5 225,-524.5 225,-530.5 219,-536.5 213,-536.5\"/>\r\n",
       "<text text-anchor=\"start\" x=\"135.5\" y=\"-521.3\" font-family=\"Helvetica,sans-Serif\" font-size=\"14.00\">gini = 0.0</text>\r\n",
       "<text text-anchor=\"start\" x=\"121\" y=\"-506.3\" font-family=\"Helvetica,sans-Serif\" font-size=\"14.00\">samples = 28</text>\r\n",
       "<text text-anchor=\"start\" x=\"112\" y=\"-491.3\" font-family=\"Helvetica,sans-Serif\" font-size=\"14.00\">value = [28, 0, 0]</text>\r\n",
       "<text text-anchor=\"start\" x=\"118.5\" y=\"-476.3\" font-family=\"Helvetica,sans-Serif\" font-size=\"14.00\">class = setosa</text>\r\n",
       "</g>\r\n",
       "<!-- 0&#45;&gt;1 -->\r\n",
       "<g id=\"edge1\" class=\"edge\"><title>0&#45;&gt;1</title>\r\n",
       "<path fill=\"none\" stroke=\"black\" d=\"M216.091,-579.907C208.492,-568.652 200.231,-556.418 192.593,-545.106\"/>\r\n",
       "<polygon fill=\"black\" stroke=\"black\" points=\"195.391,-542.996 186.895,-536.667 189.59,-546.913 195.391,-542.996\"/>\r\n",
       "<text text-anchor=\"middle\" x=\"182.136\" y=\"-557.51\" font-family=\"Helvetica,sans-Serif\" font-size=\"14.00\">True</text>\r\n",
       "</g>\r\n",
       "<!-- 2 -->\r\n",
       "<g id=\"node3\" class=\"node\"><title>2</title>\r\n",
       "<path fill=\"#39e581\" fill-opacity=\"0.176471\" stroke=\"black\" d=\"M390,-544C390,-544 255,-544 255,-544 249,-544 243,-538 243,-532 243,-532 243,-473 243,-473 243,-467 249,-461 255,-461 255,-461 390,-461 390,-461 396,-461 402,-467 402,-473 402,-473 402,-532 402,-532 402,-538 396,-544 390,-544\"/>\r\n",
       "<text text-anchor=\"start\" x=\"251\" y=\"-528.8\" font-family=\"Helvetica,sans-Serif\" font-size=\"14.00\">petal width (cm) ≤ 1.75</text>\r\n",
       "<text text-anchor=\"start\" x=\"281\" y=\"-513.8\" font-family=\"Helvetica,sans-Serif\" font-size=\"14.00\">gini = 0.4953</text>\r\n",
       "<text text-anchor=\"start\" x=\"279\" y=\"-498.8\" font-family=\"Helvetica,sans-Serif\" font-size=\"14.00\">samples = 62</text>\r\n",
       "<text text-anchor=\"start\" x=\"266\" y=\"-483.8\" font-family=\"Helvetica,sans-Serif\" font-size=\"14.00\">value = [0, 34, 28]</text>\r\n",
       "<text text-anchor=\"start\" x=\"267\" y=\"-468.8\" font-family=\"Helvetica,sans-Serif\" font-size=\"14.00\">class = versicolor</text>\r\n",
       "</g>\r\n",
       "<!-- 0&#45;&gt;2 -->\r\n",
       "<g id=\"edge2\" class=\"edge\"><title>0&#45;&gt;2</title>\r\n",
       "<path fill=\"none\" stroke=\"black\" d=\"M270.909,-579.907C276.914,-571.014 283.331,-561.509 289.529,-552.331\"/>\r\n",
       "<polygon fill=\"black\" stroke=\"black\" points=\"292.444,-554.267 295.14,-544.021 286.643,-550.35 292.444,-554.267\"/>\r\n",
       "<text text-anchor=\"middle\" x=\"299.898\" y=\"-564.864\" font-family=\"Helvetica,sans-Serif\" font-size=\"14.00\">False</text>\r\n",
       "</g>\r\n",
       "<!-- 3 -->\r\n",
       "<g id=\"node4\" class=\"node\"><title>3</title>\r\n",
       "<path fill=\"#39e581\" fill-opacity=\"0.909804\" stroke=\"black\" d=\"M302,-425C302,-425 161,-425 161,-425 155,-425 149,-419 149,-413 149,-413 149,-354 149,-354 149,-348 155,-342 161,-342 161,-342 302,-342 302,-342 308,-342 314,-348 314,-354 314,-354 314,-413 314,-413 314,-419 308,-425 302,-425\"/>\r\n",
       "<text text-anchor=\"start\" x=\"157\" y=\"-409.8\" font-family=\"Helvetica,sans-Serif\" font-size=\"14.00\">petal length (cm) ≤ 5.35</text>\r\n",
       "<text text-anchor=\"start\" x=\"190\" y=\"-394.8\" font-family=\"Helvetica,sans-Serif\" font-size=\"14.00\">gini = 0.1528</text>\r\n",
       "<text text-anchor=\"start\" x=\"188\" y=\"-379.8\" font-family=\"Helvetica,sans-Serif\" font-size=\"14.00\">samples = 36</text>\r\n",
       "<text text-anchor=\"start\" x=\"179\" y=\"-364.8\" font-family=\"Helvetica,sans-Serif\" font-size=\"14.00\">value = [0, 33, 3]</text>\r\n",
       "<text text-anchor=\"start\" x=\"176\" y=\"-349.8\" font-family=\"Helvetica,sans-Serif\" font-size=\"14.00\">class = versicolor</text>\r\n",
       "</g>\r\n",
       "<!-- 2&#45;&gt;3 -->\r\n",
       "<g id=\"edge3\" class=\"edge\"><title>2&#45;&gt;3</title>\r\n",
       "<path fill=\"none\" stroke=\"black\" d=\"M290.928,-460.907C283.94,-451.923 276.467,-442.315 269.261,-433.05\"/>\r\n",
       "<polygon fill=\"black\" stroke=\"black\" points=\"271.918,-430.766 263.016,-425.021 266.393,-435.063 271.918,-430.766\"/>\r\n",
       "</g>\r\n",
       "<!-- 10 -->\r\n",
       "<g id=\"node11\" class=\"node\"><title>10</title>\r\n",
       "<path fill=\"#8139e5\" fill-opacity=\"0.960784\" stroke=\"black\" d=\"M485,-425C485,-425 344,-425 344,-425 338,-425 332,-419 332,-413 332,-413 332,-354 332,-354 332,-348 338,-342 344,-342 344,-342 485,-342 485,-342 491,-342 497,-348 497,-354 497,-354 497,-413 497,-413 497,-419 491,-425 485,-425\"/>\r\n",
       "<text text-anchor=\"start\" x=\"340\" y=\"-409.8\" font-family=\"Helvetica,sans-Serif\" font-size=\"14.00\">petal length (cm) ≤ 4.85</text>\r\n",
       "<text text-anchor=\"start\" x=\"377\" y=\"-394.8\" font-family=\"Helvetica,sans-Serif\" font-size=\"14.00\">gini = 0.074</text>\r\n",
       "<text text-anchor=\"start\" x=\"371\" y=\"-379.8\" font-family=\"Helvetica,sans-Serif\" font-size=\"14.00\">samples = 26</text>\r\n",
       "<text text-anchor=\"start\" x=\"362\" y=\"-364.8\" font-family=\"Helvetica,sans-Serif\" font-size=\"14.00\">value = [0, 1, 25]</text>\r\n",
       "<text text-anchor=\"start\" x=\"364.5\" y=\"-349.8\" font-family=\"Helvetica,sans-Serif\" font-size=\"14.00\">class = virginica</text>\r\n",
       "</g>\r\n",
       "<!-- 2&#45;&gt;10 -->\r\n",
       "<g id=\"edge10\" class=\"edge\"><title>2&#45;&gt;10</title>\r\n",
       "<path fill=\"none\" stroke=\"black\" d=\"M354.419,-460.907C361.484,-451.923 369.039,-442.315 376.324,-433.05\"/>\r\n",
       "<polygon fill=\"black\" stroke=\"black\" points=\"379.208,-435.045 382.637,-425.021 373.705,-430.718 379.208,-435.045\"/>\r\n",
       "</g>\r\n",
       "<!-- 4 -->\r\n",
       "<g id=\"node5\" class=\"node\"><title>4</title>\r\n",
       "<path fill=\"#39e581\" fill-opacity=\"0.968627\" stroke=\"black\" d=\"M147,-306C147,-306 12,-306 12,-306 6,-306 0,-300 0,-294 0,-294 0,-235 0,-235 0,-229 6,-223 12,-223 12,-223 147,-223 147,-223 153,-223 159,-229 159,-235 159,-235 159,-294 159,-294 159,-300 153,-306 147,-306\"/>\r\n",
       "<text text-anchor=\"start\" x=\"8\" y=\"-290.8\" font-family=\"Helvetica,sans-Serif\" font-size=\"14.00\">petal width (cm) ≤ 1.65</text>\r\n",
       "<text text-anchor=\"start\" x=\"38\" y=\"-275.8\" font-family=\"Helvetica,sans-Serif\" font-size=\"14.00\">gini = 0.0571</text>\r\n",
       "<text text-anchor=\"start\" x=\"36\" y=\"-260.8\" font-family=\"Helvetica,sans-Serif\" font-size=\"14.00\">samples = 34</text>\r\n",
       "<text text-anchor=\"start\" x=\"27\" y=\"-245.8\" font-family=\"Helvetica,sans-Serif\" font-size=\"14.00\">value = [0, 33, 1]</text>\r\n",
       "<text text-anchor=\"start\" x=\"24\" y=\"-230.8\" font-family=\"Helvetica,sans-Serif\" font-size=\"14.00\">class = versicolor</text>\r\n",
       "</g>\r\n",
       "<!-- 3&#45;&gt;4 -->\r\n",
       "<g id=\"edge4\" class=\"edge\"><title>3&#45;&gt;4</title>\r\n",
       "<path fill=\"none\" stroke=\"black\" d=\"M178.764,-341.907C166.385,-332.379 153.094,-322.148 140.39,-312.37\"/>\r\n",
       "<polygon fill=\"black\" stroke=\"black\" points=\"142.202,-309.347 132.142,-306.021 137.932,-314.894 142.202,-309.347\"/>\r\n",
       "</g>\r\n",
       "<!-- 9 -->\r\n",
       "<g id=\"node10\" class=\"node\"><title>9</title>\r\n",
       "<path fill=\"#8139e5\" stroke=\"black\" d=\"M281.5,-298.5C281.5,-298.5 189.5,-298.5 189.5,-298.5 183.5,-298.5 177.5,-292.5 177.5,-286.5 177.5,-286.5 177.5,-242.5 177.5,-242.5 177.5,-236.5 183.5,-230.5 189.5,-230.5 189.5,-230.5 281.5,-230.5 281.5,-230.5 287.5,-230.5 293.5,-236.5 293.5,-242.5 293.5,-242.5 293.5,-286.5 293.5,-286.5 293.5,-292.5 287.5,-298.5 281.5,-298.5\"/>\r\n",
       "<text text-anchor=\"start\" x=\"206.5\" y=\"-283.3\" font-family=\"Helvetica,sans-Serif\" font-size=\"14.00\">gini = 0.0</text>\r\n",
       "<text text-anchor=\"start\" x=\"196\" y=\"-268.3\" font-family=\"Helvetica,sans-Serif\" font-size=\"14.00\">samples = 2</text>\r\n",
       "<text text-anchor=\"start\" x=\"187\" y=\"-253.3\" font-family=\"Helvetica,sans-Serif\" font-size=\"14.00\">value = [0, 0, 2]</text>\r\n",
       "<text text-anchor=\"start\" x=\"185.5\" y=\"-238.3\" font-family=\"Helvetica,sans-Serif\" font-size=\"14.00\">class = virginica</text>\r\n",
       "</g>\r\n",
       "<!-- 3&#45;&gt;9 -->\r\n",
       "<g id=\"edge9\" class=\"edge\"><title>3&#45;&gt;9</title>\r\n",
       "<path fill=\"none\" stroke=\"black\" d=\"M232.888,-341.907C233.254,-331.204 233.65,-319.615 234.02,-308.776\"/>\r\n",
       "<polygon fill=\"black\" stroke=\"black\" points=\"237.522,-308.781 234.366,-298.667 230.526,-308.541 237.522,-308.781\"/>\r\n",
       "</g>\r\n",
       "<!-- 5 -->\r\n",
       "<g id=\"node6\" class=\"node\"><title>5</title>\r\n",
       "<path fill=\"#39e581\" stroke=\"black\" d=\"M127,-179.5C127,-179.5 24,-179.5 24,-179.5 18,-179.5 12,-173.5 12,-167.5 12,-167.5 12,-123.5 12,-123.5 12,-117.5 18,-111.5 24,-111.5 24,-111.5 127,-111.5 127,-111.5 133,-111.5 139,-117.5 139,-123.5 139,-123.5 139,-167.5 139,-167.5 139,-173.5 133,-179.5 127,-179.5\"/>\r\n",
       "<text text-anchor=\"start\" x=\"46.5\" y=\"-164.3\" font-family=\"Helvetica,sans-Serif\" font-size=\"14.00\">gini = 0.0</text>\r\n",
       "<text text-anchor=\"start\" x=\"32\" y=\"-149.3\" font-family=\"Helvetica,sans-Serif\" font-size=\"14.00\">samples = 32</text>\r\n",
       "<text text-anchor=\"start\" x=\"23\" y=\"-134.3\" font-family=\"Helvetica,sans-Serif\" font-size=\"14.00\">value = [0, 32, 0]</text>\r\n",
       "<text text-anchor=\"start\" x=\"20\" y=\"-119.3\" font-family=\"Helvetica,sans-Serif\" font-size=\"14.00\">class = versicolor</text>\r\n",
       "</g>\r\n",
       "<!-- 4&#45;&gt;5 -->\r\n",
       "<g id=\"edge5\" class=\"edge\"><title>4&#45;&gt;5</title>\r\n",
       "<path fill=\"none\" stroke=\"black\" d=\"M78.1122,-222.907C77.7463,-212.204 77.3501,-200.615 76.9795,-189.776\"/>\r\n",
       "<polygon fill=\"black\" stroke=\"black\" points=\"80.4736,-189.541 76.6339,-179.667 73.4777,-189.781 80.4736,-189.541\"/>\r\n",
       "</g>\r\n",
       "<!-- 6 -->\r\n",
       "<g id=\"node7\" class=\"node\"><title>6</title>\r\n",
       "<path fill=\"none\" stroke=\"black\" d=\"M306,-187C306,-187 169,-187 169,-187 163,-187 157,-181 157,-175 157,-175 157,-116 157,-116 157,-110 163,-104 169,-104 169,-104 306,-104 306,-104 312,-104 318,-110 318,-116 318,-116 318,-175 318,-175 318,-181 312,-187 306,-187\"/>\r\n",
       "<text text-anchor=\"start\" x=\"165\" y=\"-171.8\" font-family=\"Helvetica,sans-Serif\" font-size=\"14.00\">sepal length (cm) ≤ 5.8</text>\r\n",
       "<text text-anchor=\"start\" x=\"208.5\" y=\"-156.8\" font-family=\"Helvetica,sans-Serif\" font-size=\"14.00\">gini = 0.5</text>\r\n",
       "<text text-anchor=\"start\" x=\"198\" y=\"-141.8\" font-family=\"Helvetica,sans-Serif\" font-size=\"14.00\">samples = 2</text>\r\n",
       "<text text-anchor=\"start\" x=\"189\" y=\"-126.8\" font-family=\"Helvetica,sans-Serif\" font-size=\"14.00\">value = [0, 1, 1]</text>\r\n",
       "<text text-anchor=\"start\" x=\"182\" y=\"-111.8\" font-family=\"Helvetica,sans-Serif\" font-size=\"14.00\">class = versicolor</text>\r\n",
       "</g>\r\n",
       "<!-- 4&#45;&gt;6 -->\r\n",
       "<g id=\"edge6\" class=\"edge\"><title>4&#45;&gt;6</title>\r\n",
       "<path fill=\"none\" stroke=\"black\" d=\"M134.317,-222.907C147.308,-213.288 161.264,-202.953 174.583,-193.09\"/>\r\n",
       "<polygon fill=\"black\" stroke=\"black\" points=\"176.826,-195.785 182.78,-187.021 172.66,-190.159 176.826,-195.785\"/>\r\n",
       "</g>\r\n",
       "<!-- 7 -->\r\n",
       "<g id=\"node8\" class=\"node\"><title>7</title>\r\n",
       "<path fill=\"#8139e5\" stroke=\"black\" d=\"M213.5,-68C213.5,-68 121.5,-68 121.5,-68 115.5,-68 109.5,-62 109.5,-56 109.5,-56 109.5,-12 109.5,-12 109.5,-6 115.5,-0 121.5,-0 121.5,-0 213.5,-0 213.5,-0 219.5,-0 225.5,-6 225.5,-12 225.5,-12 225.5,-56 225.5,-56 225.5,-62 219.5,-68 213.5,-68\"/>\r\n",
       "<text text-anchor=\"start\" x=\"138.5\" y=\"-52.8\" font-family=\"Helvetica,sans-Serif\" font-size=\"14.00\">gini = 0.0</text>\r\n",
       "<text text-anchor=\"start\" x=\"128\" y=\"-37.8\" font-family=\"Helvetica,sans-Serif\" font-size=\"14.00\">samples = 1</text>\r\n",
       "<text text-anchor=\"start\" x=\"119\" y=\"-22.8\" font-family=\"Helvetica,sans-Serif\" font-size=\"14.00\">value = [0, 0, 1]</text>\r\n",
       "<text text-anchor=\"start\" x=\"117.5\" y=\"-7.8\" font-family=\"Helvetica,sans-Serif\" font-size=\"14.00\">class = virginica</text>\r\n",
       "</g>\r\n",
       "<!-- 6&#45;&gt;7 -->\r\n",
       "<g id=\"edge7\" class=\"edge\"><title>6&#45;&gt;7</title>\r\n",
       "<path fill=\"none\" stroke=\"black\" d=\"M211.435,-103.726C205.837,-94.9703 199.913,-85.7032 194.289,-76.9051\"/>\r\n",
       "<polygon fill=\"black\" stroke=\"black\" points=\"197.123,-74.8399 188.787,-68.2996 191.225,-78.6103 197.123,-74.8399\"/>\r\n",
       "</g>\r\n",
       "<!-- 8 -->\r\n",
       "<g id=\"node9\" class=\"node\"><title>8</title>\r\n",
       "<path fill=\"#39e581\" stroke=\"black\" d=\"M359,-68C359,-68 256,-68 256,-68 250,-68 244,-62 244,-56 244,-56 244,-12 244,-12 244,-6 250,-0 256,-0 256,-0 359,-0 359,-0 365,-0 371,-6 371,-12 371,-12 371,-56 371,-56 371,-62 365,-68 359,-68\"/>\r\n",
       "<text text-anchor=\"start\" x=\"278.5\" y=\"-52.8\" font-family=\"Helvetica,sans-Serif\" font-size=\"14.00\">gini = 0.0</text>\r\n",
       "<text text-anchor=\"start\" x=\"268\" y=\"-37.8\" font-family=\"Helvetica,sans-Serif\" font-size=\"14.00\">samples = 1</text>\r\n",
       "<text text-anchor=\"start\" x=\"259\" y=\"-22.8\" font-family=\"Helvetica,sans-Serif\" font-size=\"14.00\">value = [0, 1, 0]</text>\r\n",
       "<text text-anchor=\"start\" x=\"252\" y=\"-7.8\" font-family=\"Helvetica,sans-Serif\" font-size=\"14.00\">class = versicolor</text>\r\n",
       "</g>\r\n",
       "<!-- 6&#45;&gt;8 -->\r\n",
       "<g id=\"edge8\" class=\"edge\"><title>6&#45;&gt;8</title>\r\n",
       "<path fill=\"none\" stroke=\"black\" d=\"M263.565,-103.726C269.163,-94.9703 275.087,-85.7032 280.711,-76.9051\"/>\r\n",
       "<polygon fill=\"black\" stroke=\"black\" points=\"283.775,-78.6103 286.213,-68.2996 277.877,-74.8399 283.775,-78.6103\"/>\r\n",
       "</g>\r\n",
       "<!-- 11 -->\r\n",
       "<g id=\"node12\" class=\"node\"><title>11</title>\r\n",
       "<path fill=\"none\" stroke=\"black\" d=\"M470,-306C470,-306 339,-306 339,-306 333,-306 327,-300 327,-294 327,-294 327,-235 327,-235 327,-229 333,-223 339,-223 339,-223 470,-223 470,-223 476,-223 482,-229 482,-235 482,-235 482,-294 482,-294 482,-300 476,-306 470,-306\"/>\r\n",
       "<text text-anchor=\"start\" x=\"335\" y=\"-290.8\" font-family=\"Helvetica,sans-Serif\" font-size=\"14.00\">sepal width (cm) ≤ 3.0</text>\r\n",
       "<text text-anchor=\"start\" x=\"375.5\" y=\"-275.8\" font-family=\"Helvetica,sans-Serif\" font-size=\"14.00\">gini = 0.5</text>\r\n",
       "<text text-anchor=\"start\" x=\"365\" y=\"-260.8\" font-family=\"Helvetica,sans-Serif\" font-size=\"14.00\">samples = 2</text>\r\n",
       "<text text-anchor=\"start\" x=\"356\" y=\"-245.8\" font-family=\"Helvetica,sans-Serif\" font-size=\"14.00\">value = [0, 1, 1]</text>\r\n",
       "<text text-anchor=\"start\" x=\"349\" y=\"-230.8\" font-family=\"Helvetica,sans-Serif\" font-size=\"14.00\">class = versicolor</text>\r\n",
       "</g>\r\n",
       "<!-- 10&#45;&gt;11 -->\r\n",
       "<g id=\"edge11\" class=\"edge\"><title>10&#45;&gt;11</title>\r\n",
       "<path fill=\"none\" stroke=\"black\" d=\"M411.031,-341.907C410.317,-333.558 409.557,-324.671 408.818,-316.02\"/>\r\n",
       "<polygon fill=\"black\" stroke=\"black\" points=\"412.302,-315.686 407.963,-306.021 405.328,-316.283 412.302,-315.686\"/>\r\n",
       "</g>\r\n",
       "<!-- 14 -->\r\n",
       "<g id=\"node15\" class=\"node\"><title>14</title>\r\n",
       "<path fill=\"#8139e5\" stroke=\"black\" d=\"M609,-298.5C609,-298.5 512,-298.5 512,-298.5 506,-298.5 500,-292.5 500,-286.5 500,-286.5 500,-242.5 500,-242.5 500,-236.5 506,-230.5 512,-230.5 512,-230.5 609,-230.5 609,-230.5 615,-230.5 621,-236.5 621,-242.5 621,-242.5 621,-286.5 621,-286.5 621,-292.5 615,-298.5 609,-298.5\"/>\r\n",
       "<text text-anchor=\"start\" x=\"531.5\" y=\"-283.3\" font-family=\"Helvetica,sans-Serif\" font-size=\"14.00\">gini = 0.0</text>\r\n",
       "<text text-anchor=\"start\" x=\"517\" y=\"-268.3\" font-family=\"Helvetica,sans-Serif\" font-size=\"14.00\">samples = 24</text>\r\n",
       "<text text-anchor=\"start\" x=\"508\" y=\"-253.3\" font-family=\"Helvetica,sans-Serif\" font-size=\"14.00\">value = [0, 0, 24]</text>\r\n",
       "<text text-anchor=\"start\" x=\"510.5\" y=\"-238.3\" font-family=\"Helvetica,sans-Serif\" font-size=\"14.00\">class = virginica</text>\r\n",
       "</g>\r\n",
       "<!-- 10&#45;&gt;14 -->\r\n",
       "<g id=\"edge14\" class=\"edge\"><title>10&#45;&gt;14</title>\r\n",
       "<path fill=\"none\" stroke=\"black\" d=\"M465.154,-341.907C480.025,-329.99 496.265,-316.976 511.06,-305.12\"/>\r\n",
       "<polygon fill=\"black\" stroke=\"black\" points=\"513.497,-307.652 519.112,-298.667 509.12,-302.189 513.497,-307.652\"/>\r\n",
       "</g>\r\n",
       "<!-- 12 -->\r\n",
       "<g id=\"node13\" class=\"node\"><title>12</title>\r\n",
       "<path fill=\"#8139e5\" stroke=\"black\" d=\"M447.5,-179.5C447.5,-179.5 355.5,-179.5 355.5,-179.5 349.5,-179.5 343.5,-173.5 343.5,-167.5 343.5,-167.5 343.5,-123.5 343.5,-123.5 343.5,-117.5 349.5,-111.5 355.5,-111.5 355.5,-111.5 447.5,-111.5 447.5,-111.5 453.5,-111.5 459.5,-117.5 459.5,-123.5 459.5,-123.5 459.5,-167.5 459.5,-167.5 459.5,-173.5 453.5,-179.5 447.5,-179.5\"/>\r\n",
       "<text text-anchor=\"start\" x=\"372.5\" y=\"-164.3\" font-family=\"Helvetica,sans-Serif\" font-size=\"14.00\">gini = 0.0</text>\r\n",
       "<text text-anchor=\"start\" x=\"362\" y=\"-149.3\" font-family=\"Helvetica,sans-Serif\" font-size=\"14.00\">samples = 1</text>\r\n",
       "<text text-anchor=\"start\" x=\"353\" y=\"-134.3\" font-family=\"Helvetica,sans-Serif\" font-size=\"14.00\">value = [0, 0, 1]</text>\r\n",
       "<text text-anchor=\"start\" x=\"351.5\" y=\"-119.3\" font-family=\"Helvetica,sans-Serif\" font-size=\"14.00\">class = virginica</text>\r\n",
       "</g>\r\n",
       "<!-- 11&#45;&gt;12 -->\r\n",
       "<g id=\"edge12\" class=\"edge\"><title>11&#45;&gt;12</title>\r\n",
       "<path fill=\"none\" stroke=\"black\" d=\"M403.459,-222.907C403.185,-212.204 402.888,-200.615 402.61,-189.776\"/>\r\n",
       "<polygon fill=\"black\" stroke=\"black\" points=\"406.106,-189.574 402.35,-179.667 399.108,-189.753 406.106,-189.574\"/>\r\n",
       "</g>\r\n",
       "<!-- 13 -->\r\n",
       "<g id=\"node14\" class=\"node\"><title>13</title>\r\n",
       "<path fill=\"#39e581\" stroke=\"black\" d=\"M593,-179.5C593,-179.5 490,-179.5 490,-179.5 484,-179.5 478,-173.5 478,-167.5 478,-167.5 478,-123.5 478,-123.5 478,-117.5 484,-111.5 490,-111.5 490,-111.5 593,-111.5 593,-111.5 599,-111.5 605,-117.5 605,-123.5 605,-123.5 605,-167.5 605,-167.5 605,-173.5 599,-179.5 593,-179.5\"/>\r\n",
       "<text text-anchor=\"start\" x=\"512.5\" y=\"-164.3\" font-family=\"Helvetica,sans-Serif\" font-size=\"14.00\">gini = 0.0</text>\r\n",
       "<text text-anchor=\"start\" x=\"502\" y=\"-149.3\" font-family=\"Helvetica,sans-Serif\" font-size=\"14.00\">samples = 1</text>\r\n",
       "<text text-anchor=\"start\" x=\"493\" y=\"-134.3\" font-family=\"Helvetica,sans-Serif\" font-size=\"14.00\">value = [0, 1, 0]</text>\r\n",
       "<text text-anchor=\"start\" x=\"486\" y=\"-119.3\" font-family=\"Helvetica,sans-Serif\" font-size=\"14.00\">class = versicolor</text>\r\n",
       "</g>\r\n",
       "<!-- 11&#45;&gt;13 -->\r\n",
       "<g id=\"edge13\" class=\"edge\"><title>11&#45;&gt;13</title>\r\n",
       "<path fill=\"none\" stroke=\"black\" d=\"M452.031,-222.907C465.857,-211.101 480.943,-198.217 494.721,-186.45\"/>\r\n",
       "<polygon fill=\"black\" stroke=\"black\" points=\"497.332,-188.823 502.664,-179.667 492.786,-183.5 497.332,-188.823\"/>\r\n",
       "</g>\r\n",
       "</g>\r\n",
       "</svg>\r\n"
      ],
      "text/plain": [
       "<graphviz.files.Source at 0x1545e695748>"
      ]
     },
     "execution_count": 18,
     "metadata": {},
     "output_type": "execute_result"
    }
   ],
   "source": [
    "# 绘制决策树\n",
    "import graphviz\n",
    "dot_data = tree.export_graphviz(clf_dt, out_file = None, \n",
    "                                feature_names = iris.feature_names, \n",
    "                                class_names = iris.target_names, \n",
    "                                filled = True, \n",
    "                                rounded = True, \n",
    "                                special_characters = True)\n",
    "graph = graphviz.Source(dot_data)\n",
    "graph"
   ]
  },
  {
   "cell_type": "markdown",
   "metadata": {},
   "source": [
    "## 4: Random Forest\n",
    "***"
   ]
  },
  {
   "cell_type": "markdown",
   "metadata": {
    "collapsed": true
   },
   "source": [
    "森林，顾名思义，就是有非常多的树；\n",
    "\n",
    "随机，是因为每棵决策树不再根据特定指标去筛选划分的变量，而是从特征变量中随机选择若干个变量来生成决策树；\n",
    "\n",
    "最后决策机制：投票！"
   ]
  },
  {
   "cell_type": "code",
<<<<<<< HEAD
   "execution_count": 19,
   "metadata": {},
=======
   "execution_count": 18,
   "metadata": {
    "collapsed": false
   },
>>>>>>> 0286233ddf781246c3949813c145bd9acde51362
   "outputs": [
    {
     "data": {
      "text/plain": [
       "RandomForestClassifier(bootstrap=True, class_weight=None, criterion='gini',\n",
       "            max_depth=None, max_features='auto', max_leaf_nodes=None,\n",
       "            min_impurity_split=1e-07, min_samples_leaf=1,\n",
       "            min_samples_split=2, min_weight_fraction_leaf=0.0,\n",
       "            n_estimators=10, n_jobs=1, oob_score=False, random_state=None,\n",
       "            verbose=0, warm_start=False)"
      ]
     },
     "execution_count": 19,
     "metadata": {},
     "output_type": "execute_result"
    }
   ],
   "source": [
    "# random forest\n",
    "## 把iris拆分成训练集和测试集\n",
    "X_train, X_test, y_train, y_test = train_test_split(iris.data, iris.target, test_size = 0.4, random_state = 123)\n",
    "## 导入随机森林类\n",
    "from sklearn.ensemble import RandomForestClassifier\n",
    "## modeling\n",
    "clf_rf = RandomForestClassifier()\n",
    "clf_rf.fit(X_train, y_train)\n",
    "## 随机森林中有一些超参数，比如决策树的数量，通过设置这些超参数，可以得到不同的模型。"
   ]
  },
  {
   "cell_type": "code",
   "execution_count": 20,
   "metadata": {
    "collapsed": true
   },
   "outputs": [],
   "source": [
    "## prediction\n",
    "y_pred = clf_rf.predict(X_test)"
   ]
  },
  {
   "cell_type": "code",
<<<<<<< HEAD
   "execution_count": 21,
   "metadata": {},
=======
   "execution_count": 20,
   "metadata": {
    "collapsed": false
   },
>>>>>>> 0286233ddf781246c3949813c145bd9acde51362
   "outputs": [
    {
     "name": "stdout",
     "output_type": "stream",
     "text": [
      "Accuracy:\n",
      "0.966666666667\n",
      "Confusion Matrix:\n",
      "[[22  0  0]\n",
      " [ 0 16  0]\n",
      " [ 0  2 20]]\n"
     ]
    }
   ],
   "source": [
    "## model evaluation\n",
    "print('Accuracy:')\n",
    "print(metrics.accuracy_score(y_test, y_pred))\n",
    "print('Confusion Matrix:')\n",
    "print(metrics.confusion_matrix(y_test, y_pred))"
   ]
  },
  {
   "cell_type": "code",
   "execution_count": null,
   "metadata": {
    "collapsed": true
   },
   "outputs": [],
   "source": []
  },
  {
   "cell_type": "markdown",
   "metadata": {},
   "source": [
    "## 5: SVM\n",
    "***"
   ]
  },
  {
   "cell_type": "markdown",
   "metadata": {},
   "source": [
    "如果线性可分，那就分；\n",
    "\n",
    "如果线性不可分，映射到高维空间，找到线性可分的边界；\n",
    "\n",
    "总之，就是找到一个合适的超平面，把样本分开；"
   ]
  },
  {
   "cell_type": "code",
<<<<<<< HEAD
   "execution_count": 22,
   "metadata": {},
=======
   "execution_count": 25,
   "metadata": {
    "collapsed": false
   },
>>>>>>> 0286233ddf781246c3949813c145bd9acde51362
   "outputs": [
    {
     "data": {
      "text/plain": [
       "SVC(C=1.0, cache_size=200, class_weight=None, coef0=0.0,\n",
       "  decision_function_shape=None, degree=3, gamma='auto', kernel='rbf',\n",
       "  max_iter=-1, probability=False, random_state=None, shrinking=True,\n",
       "  tol=0.001, verbose=False)"
      ]
     },
     "execution_count": 22,
     "metadata": {},
     "output_type": "execute_result"
    }
   ],
   "source": [
    "# SVM\n",
    "## 把iris拆分成训练集和测试集\n",
    "X_train, X_test, y_train, y_test = train_test_split(iris.data, iris.target, test_size = 0.4, random_state = 123)\n",
    "## 导入随机森林类\n",
    "from sklearn.svm import SVC\n",
    "clf_svc = SVC()\n",
    "## modeling \n",
    "clf_svc.fit(X_train, y_train)\n",
    "## 超参数：kernel, gamma,..."
   ]
  },
  {
   "cell_type": "code",
   "execution_count": 23,
   "metadata": {
    "collapsed": true
   },
   "outputs": [],
   "source": [
    "## prediction\n",
    "y_pred = clf_svc.predict(X_test)"
   ]
  },
  {
   "cell_type": "code",
   "execution_count": 24,
   "metadata": {
    "collapsed": false
   },
   "outputs": [
    {
     "name": "stdout",
     "output_type": "stream",
     "text": [
      "Accuracy:\n",
      "0.966666666667\n",
      "Confusion Matrix:\n",
      "[[22  0  0]\n",
      " [ 0 16  0]\n",
      " [ 0  2 20]]\n"
     ]
    }
   ],
   "source": [
    "## modeling evaluation\n",
    "print('Accuracy:')\n",
    "print(metrics.accuracy_score(y_test, y_pred))\n",
    "print('Confusion Matrix:')\n",
    "print(metrics.confusion_matrix(y_test, y_pred))"
   ]
  },
  {
   "cell_type": "code",
   "execution_count": null,
   "metadata": {
    "collapsed": true
   },
   "outputs": [],
   "source": []
  },
  {
   "cell_type": "code",
   "execution_count": null,
   "metadata": {
    "collapsed": true
   },
   "outputs": [],
   "source": []
  },
  {
   "cell_type": "markdown",
   "metadata": {},
   "source": [
    "## 6: KNN\n",
    "***"
   ]
  },
  {
   "cell_type": "code",
   "execution_count": null,
   "metadata": {
    "collapsed": true
   },
   "outputs": [],
   "source": []
  },
  {
   "cell_type": "markdown",
   "metadata": {},
   "source": [
    "## 7: Model Evaluation\n",
    "***"
   ]
  },
  {
   "cell_type": "code",
   "execution_count": null,
   "metadata": {
    "collapsed": true
   },
   "outputs": [],
   "source": []
  },
  {
   "cell_type": "markdown",
   "metadata": {},
   "source": [
    "## 8: Parameter adjustment\n",
    "***"
   ]
  },
  {
   "cell_type": "code",
   "execution_count": null,
   "metadata": {
    "collapsed": true
   },
   "outputs": [],
   "source": []
  }
 ],
 "metadata": {
  "anaconda-cloud": {},
  "kernelspec": {
   "display_name": "Python [default]",
   "language": "python",
   "name": "python3"
  },
  "language_info": {
   "codemirror_mode": {
    "name": "ipython",
    "version": 3
   },
   "file_extension": ".py",
   "mimetype": "text/x-python",
   "name": "python",
   "nbconvert_exporter": "python",
   "pygments_lexer": "ipython3",
   "version": "3.5.2"
  },
  "toc": {
   "colors": {
    "hover_highlight": "#DAA520",
    "navigate_num": "#000000",
    "navigate_text": "#333333",
    "running_highlight": "#FF0000",
    "selected_highlight": "#FFD700",
    "sidebar_border": "#EEEEEE",
    "wrapper_background": "#FFFFFF"
   },
   "moveMenuLeft": true,
   "nav_menu": {
    "height": "47px",
    "width": "254px"
   },
   "navigate_menu": true,
   "number_sections": false,
   "sideBar": true,
   "threshold": 4,
   "toc_cell": false,
   "toc_position": {
    "height": "547px",
    "left": "0px",
    "right": "1388px",
    "top": "52px",
    "width": "274px"
   },
   "toc_section_display": "block",
   "toc_window_display": true,
   "widenNotebook": false
  }
 },
 "nbformat": 4,
 "nbformat_minor": 2
}
