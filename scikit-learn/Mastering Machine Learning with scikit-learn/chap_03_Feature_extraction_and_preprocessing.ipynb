{
 "cells": [
  {
   "cell_type": "markdown",
   "metadata": {},
   "source": [
    "## chapter 03 Feature Extraction And Preprocessing\n",
    "\n",
    "- 3.1 Extracting features from categorical variables\n",
    "- 3.2 Extracting features from text\n",
    "- 2.3 polynomial regression 多项式回归\n",
    "- 2.4 how to train models & cost function"
   ]
  },
  {
   "cell_type": "markdown",
   "metadata": {},
   "source": [
    "### 3.1 Extracting features from categorical variables\n",
    "\n",
    "对分类变量一般使用one-hot编码，有人会想到用整数0,1,2,...来分别表示分类变量，但一般不建议这么做，因为编码成整数，实际上添加了一个人工信息，即这些变量是有序的，0<1<2<..."
   ]
  },
  {
   "cell_type": "code",
   "execution_count": 1,
   "metadata": {},
   "outputs": [
    {
     "data": {
      "text/plain": [
       "array([[ 0.,  1.,  0.],\n",
       "       [ 0.,  0.,  1.],\n",
       "       [ 1.,  0.,  0.]])"
      ]
     },
     "execution_count": 1,
     "metadata": {},
     "output_type": "execute_result"
    }
   ],
   "source": [
    "# 对分类变量一般使用one-hot编码\n",
    "from sklearn.feature_extraction import DictVectorizer\n",
    "onehot_encoder = DictVectorizer()\n",
    "instances = [{'city':'New York'}, {'city':'San Francisco'}, {'city':'Chapel Hill'}]\n",
    "onehot_encoder.fit_transform(instances).toarray()"
   ]
  },
  {
   "cell_type": "markdown",
   "metadata": {},
   "source": [
    "### 3.2 Extracting features from text\n",
    "\n",
    "- bag of words:词袋\n",
    "\n",
    "词袋类似one-hot编码，可以认为是后者的一个特例。\n",
    "\n",
    "词袋模型忽略文本中词语的语法，词语出现的顺序等。\n",
    "\n",
    "词袋模型基于一个直觉假设：含有相似词语的文本，具有相似的含义。虽然这个直觉对于有些文本是不一定适用的，有时不同文本虽然含有相同词汇，但是顺序不同，含义就不同。\n",
    "\n",
    "\n",
    "\n"
   ]
  },
  {
   "cell_type": "code",
   "execution_count": 6,
   "metadata": {},
   "outputs": [
    {
     "name": "stdout",
     "output_type": "stream",
     "text": [
      "bag of words:\n",
      "[[1 1 0 1 0 1 0 1]\n",
      " [1 1 1 0 1 0 1 0]]\n",
      "----------------------------------------\n",
      "Vocabulary\n",
      "{'unc': 7, 'played': 5, 'duke': 1, 'in': 3, 'basketball': 0, 'lost': 4, 'the': 6, 'game': 2}\n"
     ]
    }
   ],
   "source": [
    "# bag of words\n",
    "\n",
    "## 导入类\n",
    "from sklearn.feature_extraction.text import CountVectorizer\n",
    "\n",
    "## 语料库corpus\n",
    "corpus = ['UNC played Duke in basketball', \n",
    "          'Duke lost the basketball game']\n",
    "\n",
    "## 得到词袋模型\n",
    "vectorizer = CountVectorizer()\n",
    "print('bag of words:')\n",
    "print(vectorizer.fit_transform(corpus).todense())\n",
    "\n",
    "## 从语料库切词得到的字典\n",
    "print('----------------------------------------')\n",
    "print('Vocabulary')\n",
    "print(vectorizer.vocabulary_)\n",
    "\n",
    "## 解释\n",
    "## Vocabulary中的单词是有顺序的，第一个是basketball\n",
    "## 词袋模型的编码与单词的顺序是对应的，1表示文本中含有该单词，0表示不含有"
   ]
  },
  {
   "cell_type": "code",
   "execution_count": 10,
   "metadata": {},
   "outputs": [
    {
     "name": "stdout",
     "output_type": "stream",
     "text": [
      "bag of words:\n",
      "[[0 1 1 0 1 0 1 0 0 1]\n",
      " [0 1 1 1 0 1 0 0 1 0]\n",
      " [1 0 0 0 0 0 0 1 0 0]]\n",
      "-----------------------------------------\n",
      "Vocabulary\n",
      "{'unc': 9, 'played': 6, 'duke': 2, 'in': 4, 'basketball': 1, 'lost': 5, 'the': 8, 'game': 3, 'ate': 0, 'sandwich': 7}\n"
     ]
    },
    {
     "name": "stderr",
     "output_type": "stream",
     "text": [
      "d:\\application\\python\\python36\\lib\\site-packages\\sklearn\\utils\\validation.py:395: DeprecationWarning: Passing 1d arrays as data is deprecated in 0.17 and will raise ValueError in 0.19. Reshape your data either using X.reshape(-1, 1) if your data has a single feature or X.reshape(1, -1) if it contains a single sample.\n",
      "  DeprecationWarning)\n",
      "d:\\application\\python\\python36\\lib\\site-packages\\sklearn\\utils\\validation.py:395: DeprecationWarning: Passing 1d arrays as data is deprecated in 0.17 and will raise ValueError in 0.19. Reshape your data either using X.reshape(-1, 1) if your data has a single feature or X.reshape(1, -1) if it contains a single sample.\n",
      "  DeprecationWarning)\n"
     ]
    },
    {
     "name": "stdout",
     "output_type": "stream",
     "text": [
      "文本1和文本2的距离: [[ 2.44948974]]\n",
      "文本1和文本3的距离: [[ 2.64575131]]\n",
      "文本2和文本3的距离: [[ 2.64575131]]\n"
     ]
    },
    {
     "name": "stderr",
     "output_type": "stream",
     "text": [
      "d:\\application\\python\\python36\\lib\\site-packages\\sklearn\\utils\\validation.py:395: DeprecationWarning: Passing 1d arrays as data is deprecated in 0.17 and will raise ValueError in 0.19. Reshape your data either using X.reshape(-1, 1) if your data has a single feature or X.reshape(1, -1) if it contains a single sample.\n",
      "  DeprecationWarning)\n",
      "d:\\application\\python\\python36\\lib\\site-packages\\sklearn\\utils\\validation.py:395: DeprecationWarning: Passing 1d arrays as data is deprecated in 0.17 and will raise ValueError in 0.19. Reshape your data either using X.reshape(-1, 1) if your data has a single feature or X.reshape(1, -1) if it contains a single sample.\n",
      "  DeprecationWarning)\n",
      "d:\\application\\python\\python36\\lib\\site-packages\\sklearn\\utils\\validation.py:395: DeprecationWarning: Passing 1d arrays as data is deprecated in 0.17 and will raise ValueError in 0.19. Reshape your data either using X.reshape(-1, 1) if your data has a single feature or X.reshape(1, -1) if it contains a single sample.\n",
      "  DeprecationWarning)\n",
      "d:\\application\\python\\python36\\lib\\site-packages\\sklearn\\utils\\validation.py:395: DeprecationWarning: Passing 1d arrays as data is deprecated in 0.17 and will raise ValueError in 0.19. Reshape your data either using X.reshape(-1, 1) if your data has a single feature or X.reshape(1, -1) if it contains a single sample.\n",
      "  DeprecationWarning)\n"
     ]
    }
   ],
   "source": [
    "# bag of words(2)\n",
    "## 增加一条文本\n",
    "\n",
    "## 导入类\n",
    "from sklearn.feature_extraction.text import CountVectorizer\n",
    "\n",
    "## 语料库\n",
    "corpus = ['UNC played Duke in basketball', \n",
    "          'Duke lost the basketball game', \n",
    "          'I ate a sandwich']\n",
    "\n",
    "## 词袋模型\n",
    "vectorizer = CountVectorizer()\n",
    "print('bag of words:')\n",
    "print(vectorizer.fit_transform(corpus).todense())\n",
    "\n",
    "## 字典\n",
    "print('-----------------------------------------')\n",
    "print('Vocabulary')\n",
    "print(vectorizer.vocabulary_)\n",
    "\n",
    "## 计算三条文本之间的距离\n",
    "## 文本1和文本2较为相似，与文本3差异较大\n",
    "from sklearn.metrics.pairwise import euclidean_distances\n",
    "counts = [[0, 1, 1, 0, 1, 0, 1, 0, 0, 1],\n",
    "          [0, 1, 1, 1, 0, 1, 0, 0, 1, 0],\n",
    "          [1, 0, 0, 0, 0, 0, 0, 1, 0, 0]]\n",
    "# 文本两两比较，计算距离\n",
    "print('文本1和文本2的距离:', euclidean_distances(counts[0], counts[1]))\n",
    "print('文本1和文本3的距离:', euclidean_distances(counts[0], counts[2]))\n",
    "print('文本2和文本3的距离:', euclidean_distances(counts[1], counts[2]))"
   ]
  },
  {
   "cell_type": "code",
   "execution_count": null,
   "metadata": {
    "collapsed": true
   },
   "outputs": [],
   "source": []
  },
  {
   "cell_type": "code",
   "execution_count": null,
   "metadata": {
    "collapsed": true
   },
   "outputs": [],
   "source": []
  },
  {
   "cell_type": "code",
   "execution_count": null,
   "metadata": {
    "collapsed": true
   },
   "outputs": [],
   "source": []
  },
  {
   "cell_type": "code",
   "execution_count": null,
   "metadata": {
    "collapsed": true
   },
   "outputs": [],
   "source": []
  },
  {
   "cell_type": "code",
   "execution_count": null,
   "metadata": {
    "collapsed": true
   },
   "outputs": [],
   "source": []
  },
  {
   "cell_type": "code",
   "execution_count": null,
   "metadata": {
    "collapsed": true
   },
   "outputs": [],
   "source": []
  },
  {
   "cell_type": "code",
   "execution_count": null,
   "metadata": {
    "collapsed": true
   },
   "outputs": [],
   "source": []
  },
  {
   "cell_type": "code",
   "execution_count": null,
   "metadata": {
    "collapsed": true
   },
   "outputs": [],
   "source": []
  },
  {
   "cell_type": "code",
   "execution_count": null,
   "metadata": {
    "collapsed": true
   },
   "outputs": [],
   "source": []
  }
 ],
 "metadata": {
  "anaconda-cloud": {},
  "kernelspec": {
   "display_name": "Python 3",
   "language": "python",
   "name": "python3"
  },
  "language_info": {
   "codemirror_mode": {
    "name": "ipython",
    "version": 3
   },
   "file_extension": ".py",
   "mimetype": "text/x-python",
   "name": "python",
   "nbconvert_exporter": "python",
   "pygments_lexer": "ipython3",
   "version": "3.6.1"
  }
 },
 "nbformat": 4,
 "nbformat_minor": 1
}
