{
 "cells": [
  {
   "cell_type": "markdown",
   "metadata": {},
   "source": [
    "## chapter 02 Linear Regression\n",
    "\n",
    "- 2.1 simple linear regression 一元线性回归\n",
    "- 2.2 multiple linear regression 多元线性回归\n",
    "- 2.3 polynomial regression 多项式回归\n",
    "- 2.4 how to train models & cost function"
   ]
  },
  {
   "cell_type": "markdown",
   "metadata": {},
   "source": [
    "### 2.1 simple linear regression 一元线性回归"
   ]
  },
  {
   "cell_type": "code",
   "execution_count": 1,
   "metadata": {
    "collapsed": true
   },
   "outputs": [],
   "source": [
    "# load libraries\n",
    "%matplotlib inline\n",
    "import numpy as np\n",
    "import matplotlib.pyplot as plt\n",
    "import seaborn as sns"
   ]
  },
  {
   "cell_type": "code",
   "execution_count": 2,
   "metadata": {
    "collapsed": true
   },
   "outputs": [],
   "source": [
    "# data\n",
    "X = [[6], [8], [10], [14], [18]]\n",
    "y = [[7], [9], [13], [17.5], [18]]"
   ]
  },
  {
   "cell_type": "code",
   "execution_count": 3,
   "metadata": {},
   "outputs": [
    {
     "data": {
      "image/png": "[encoded data removed]",
      "text/plain": [
       "<matplotlib.figure.Figure at 0x22410705438>"
      ]
     },
     "metadata": {},
     "output_type": "display_data"
    }
   ],
   "source": [
    "# plot X and y\n",
    "plt.figure()\n",
    "plt.title('Pizza price plotted against diameter')\n",
    "plt.xlabel('Diameter in inches')\n",
    "plt.ylabel('Price in dollars')\n",
    "plt.plot(X, y, 'k.')\n",
    "plt.axis([0, 25, 0, 25])\n",
    "plt.grid(True)\n",
    "plt.show()"
   ]
  },
  {
   "cell_type": "code",
   "execution_count": 4,
   "metadata": {},
   "outputs": [
    {
     "name": "stdout",
     "output_type": "stream",
     "text": [
      "A 12\" pizza should cost: $13.68\n"
     ]
    },
    {
     "name": "stderr",
     "output_type": "stream",
     "text": [
      "d:\\application\\python\\python36\\lib\\site-packages\\sklearn\\utils\\validation.py:395: DeprecationWarning: Passing 1d arrays as data is deprecated in 0.17 and will raise ValueError in 0.19. Reshape your data either using X.reshape(-1, 1) if your data has a single feature or X.reshape(1, -1) if it contains a single sample.\n",
      "  DeprecationWarning)\n",
      "d:\\application\\python\\python36\\lib\\site-packages\\sklearn\\utils\\validation.py:395: DeprecationWarning: Passing 1d arrays as data is deprecated in 0.17 and will raise ValueError in 0.19. Reshape your data either using X.reshape(-1, 1) if your data has a single feature or X.reshape(1, -1) if it contains a single sample.\n",
      "  DeprecationWarning)\n"
     ]
    }
   ],
   "source": [
    "# Linear regression model\n",
    "from sklearn.linear_model import LinearRegression\n",
    "# 初始化\n",
    "lrg = LinearRegression()\n",
    "# 训练\n",
    "lrg.fit(X, y)\n",
    "# 预测\n",
    "lrg.predict([12])\n",
    "print('A 12\" pizza should cost: $%.2f' % lrg.predict([12])[0])"
   ]
  },
  {
   "cell_type": "code",
   "execution_count": 5,
   "metadata": {},
   "outputs": [
    {
     "name": "stdout",
     "output_type": "stream",
     "text": [
      "Residual sum of squares: 1.75\n"
     ]
    }
   ],
   "source": [
    "# evaluating the fitness of model using cost function\n",
    "## cost function, loss function\n",
    "## residuals or training errors\n",
    "## prediction errors or test errors\n",
    "## residual sum of squares\n",
    "print('Residual sum of squares: %.2f' % np.mean((lrg.predict(X) - y) ** 2))"
   ]
  },
  {
   "cell_type": "code",
   "execution_count": 7,
   "metadata": {},
   "outputs": [
    {
     "name": "stdout",
     "output_type": "stream",
     "text": [
      "var_x = 23.2\n",
      "cov_xy = 22.65\n",
      "0.976293103448\n",
      "1.96551724138\n",
      "if x = 11, then y =  12.7048\n"
     ]
    }
   ],
   "source": [
    "# variance \n",
    "var_x = np.var([6, 8, 10, 14, 18], ddof = 1)\n",
    "print('var_x =', var_x)\n",
    "# covariance\n",
    "cov_xy = np.cov([6, 8, 10, 14, 18], [7, 9, 13, 17.5, 18])[0][1]\n",
    "print('cov_xy =', cov_xy)\n",
    "# β = cov_xy / var_x\n",
    "beta = cov_xy / var_x\n",
    "print(beta)\n",
    "# α = ybar - β * xbar\n",
    "xbar = (6 + 8 + 10 + 14 + 18) / 5\n",
    "ybar = (7 + 9 + 13 + 17.5 + 18) / 5\n",
    "alpha = ybar - beta * xbar\n",
    "print(alpha)\n",
    "# model\n",
    "# y = 1.9655 + 0.9763 * x\n",
    "print('if x = 11, then y = ', 1.9655 + 0.9763 * 11)"
   ]
  },
  {
   "cell_type": "code",
   "execution_count": 14,
   "metadata": {},
   "outputs": [
    {
     "name": "stdout",
     "output_type": "stream",
     "text": [
      "ss_total =  56.8\n",
      "ss_res =  19.198213589999995\n",
      "R-squared =  0.6620032818661973\n"
     ]
    }
   ],
   "source": [
    "# Evaluating model\n",
    "# test dataset\n",
    "X_test = [[8], [9], [11], [16], [12]]\n",
    "y_test = [[11], [8.5], [15], [18], [11]]\n",
    "# R-squared\n",
    "y_test_bar = (11 + 8.5 + 15 + 18 + 11) / 5    # 12.7\n",
    "ss_total = (11 - 12.7)**2 + (8.5 - 12.7)**2 + (15 - 12.7)**2 + (18 - 12.7)**2 + (11 - 12.7)**2\n",
    "print('ss_total = ', ss_total)\n",
    "fx1 = 1.9655 + 0.9763 * X_test[0][0]\n",
    "fx2 = 1.9655 + 0.9763 * X_test[1][0]\n",
    "fx3 = 1.9655 + 0.9763 * X_test[2][0]\n",
    "fx4 = 1.9655 + 0.9763 * X_test[3][0]\n",
    "fx5 = 1.9655 + 0.9763 * X_test[4][0]\n",
    "ss_res = (11 - fx1)**2 + (8.5 - fx2)**2 + (15 - fx3)**2 + (18 - fx4)**2 + (11 - fx5)**2\n",
    "print('ss_res = ', ss_res)\n",
    "R_squared = 1 - ss_res / ss_total\n",
    "print('R-squared = ', R_squared)"
   ]
  },
  {
   "cell_type": "code",
   "execution_count": 16,
   "metadata": {},
   "outputs": [
    {
     "data": {
      "text/plain": [
       "0.6620052929422553"
      ]
     },
     "execution_count": 16,
     "metadata": {},
     "output_type": "execute_result"
    }
   ],
   "source": [
    "# modeling using scikit-learn\n",
    "# evaluating model performance with R-squared\n",
    "lrg.score(X_test,  y_test)"
   ]
  },
  {
   "cell_type": "markdown",
   "metadata": {
    "collapsed": true
   },
   "source": [
    "### 2.2 multiple linear regression 多元线性回归"
   ]
  },
  {
   "cell_type": "code",
   "execution_count": 1,
   "metadata": {},
   "outputs": [
    {
     "name": "stdout",
     "output_type": "stream",
     "text": [
      "R-squared =  0.770167773132\n"
     ]
    }
   ],
   "source": [
    "# load pacakges\n",
    "from sklearn.linear_model import LinearRegression\n",
    "# prepare data\n",
    "X_train = [[6, 2], [8, 1], [10, 0], [14, 2], [18, 0]]\n",
    "y_train = [[7], [9], [13], [17.5], [18]]\n",
    "X_test = [[8, 2], [9, 0], [11, 2], [16, 2], [12, 0]]\n",
    "y_test = [[11], [8.5], [15], [18], [11]]\n",
    "# modeling\n",
    "lrg = LinearRegression()\n",
    "lrg.fit(X_train, y_train)\n",
    "# prediction\n",
    "predictions = lrg.predict(X_test)\n",
    "# evaluate model\n",
    "print('R-squared = ', lrg.score(X_test, y_test))"
   ]
  },
  {
   "cell_type": "code",
   "execution_count": 5,
   "metadata": {
    "scrolled": true
   },
   "outputs": [
    {
     "name": "stdout",
     "output_type": "stream",
     "text": [
      "Predicted:[ 10.0625], Target:[11]\n",
      "Predicted:[ 10.28125], Target:[8.5]\n",
      "Predicted:[ 13.09375], Target:[15]\n",
      "Predicted:[ 18.14583333], Target:[18]\n",
      "Predicted:[ 13.3125], Target:[11]\n"
     ]
    }
   ],
   "source": [
    "for i, prediction in enumerate(predictions):\n",
    "    print('Predicted:%s, Target:%s' % (prediction, y_test[i]))"
   ]
  },
  {
   "cell_type": "markdown",
   "metadata": {
    "collapsed": true
   },
   "source": [
    "### 2.3 polynomial regression 多项式回归"
   ]
  },
  {
   "cell_type": "code",
   "execution_count": 15,
   "metadata": {
    "collapsed": true
   },
   "outputs": [],
   "source": [
    "# load packages\n",
    "%matplotlib inline\n",
    "import numpy as np\n",
    "import matplotlib.pyplot as plt\n",
    "from sklearn.linear_model import LinearRegression\n",
    "from sklearn.preprocessing import PolynomialFeatures"
   ]
  },
  {
   "cell_type": "code",
   "execution_count": 12,
   "metadata": {},
   "outputs": [
    {
     "data": {
      "image/png": "[encoded data removed]",
      "text/plain": [
       "<matplotlib.figure.Figure at 0x1c536846240>"
      ]
     },
     "metadata": {},
     "output_type": "display_data"
    }
   ],
   "source": [
    "# prepare data\n",
    "X_train = [[6], [8], [10], [14], [18]]\n",
    "y_train = [[7], [9], [13], [17.5], [18]]\n",
    "X_test = [[6], [8], [11], [16]]\n",
    "y_test = [[8], [12], [15], [18]]\n",
    "\n",
    "# simple linear modeling\n",
    "regressor = LinearRegression()\n",
    "regressor.fit(X_train, y_train)\n",
    "xx = np.linspace(0, 26, 100)\n",
    "yy = regressor.predict(xx.reshape(xx.shape[0], 1))\n",
    "\n",
    "# plot\n",
    "plt.plot(xx, yy)\n",
    "\n",
    "# quadratic_featurizer\n",
    "# 通过PolynomialFeatures获得二次的特征，degree = 2\n",
    "quadratic_featurizer = PolynomialFeatures(degree = 2)\n",
    "# 把训练集转换成二次特征\n",
    "X_train_quadratic = quadratic_featurizer.fit_transform(X_train)\n",
    "# 把测试集转换成二次特征\n",
    "X_test_quadratic = quadratic_featurizer.transform(X_test)\n",
    "# regressor_quadratic\n",
    "regressor_quadratic = LinearRegression()\n",
    "regressor_quadratic.fit(X_train_quadratic, y_train)\n",
    "xx_quadratic = quadratic_featurizer.transform(xx.reshape(xx.shape[0], 1))\n",
    "\n",
    "# plot \n",
    "plt.plot(xx, regressor_quadratic.predict(xx_quadratic), \n",
    "         c = 'r', \n",
    "         linestyle = '--')\n",
    "plt.title('Pizza price regressed by diameter')\n",
    "plt.xlabel('Diameter in inches')\n",
    "plt.ylabel('Price in dollars')\n",
    "plt.axis([0, 25,0, 25])\n",
    "plt.grid(True)\n",
    "plt.scatter(X_train, y_train)\n",
    "plt.show()"
   ]
  },
  {
   "cell_type": "code",
   "execution_count": 13,
   "metadata": {},
   "outputs": [
    {
     "name": "stdout",
     "output_type": "stream",
     "text": [
      "simple linear regression model R-squared: 0.809726797708\n",
      "quadratic regression R-squared: 0.867544365635\n"
     ]
    }
   ],
   "source": [
    "# evaluating model\n",
    "print('simple linear regression model R-squared:', regressor.score(X_test, y_test))\n",
    "print('quadratic regression R-squared:', regressor_quadratic.score(X_test_quadratic, y_test))"
   ]
  },
  {
   "cell_type": "code",
   "execution_count": 25,
   "metadata": {},
   "outputs": [
    {
     "data": {
      "image/png": "[encoded data removed]",
      "text/plain": [
       "<matplotlib.figure.Figure at 0x1c537390d68>"
      ]
     },
     "metadata": {},
     "output_type": "display_data"
    },
    {
     "name": "stdout",
     "output_type": "stream",
     "text": [
      "cubic linear regression R-squared: 0.835692415604\n"
     ]
    }
   ],
   "source": [
    "# 可以增加次数，看看效果如何\n",
    "cubic_featurizer = PolynomialFeatures(degree=3)\n",
    "X_train_cubic = cubic_featurizer.fit_transform(X_train)\n",
    "X_test_cubic = cubic_featurizer.transform(X_test)\n",
    "\n",
    "# modeling\n",
    "regressor_cubic = LinearRegression()\n",
    "regressor_cubic.fit(X_train_cubic, y_train)\n",
    "\n",
    "# plot\n",
    "xx_cubic = cubic_featurizer.transform(xx.reshape(xx.shape[0], 1))\n",
    "plt.plot(xx, regressor_cubic.predict(xx_cubic), \n",
    "         c = 'r', \n",
    "         linestyle = '--')\n",
    "plt.plot(xx, regressor_quadratic.predict(xx_quadratic))\n",
    "plt.scatter(X_test, y_test)\n",
    "plt.show()\n",
    "\n",
    "# evaluating model\n",
    "print('cubic linear regression R-squared:', regressor_cubic.score(X_test_cubic, y_test))\n",
    "# 发现三次的模型的效果不如二次"
   ]
  },
  {
   "cell_type": "code",
   "execution_count": null,
   "metadata": {},
   "outputs": [],
   "source": []
  },
  {
   "cell_type": "code",
   "execution_count": 21,
   "metadata": {},
   "outputs": [],
   "source": []
  },
  {
   "cell_type": "code",
   "execution_count": null,
   "metadata": {},
   "outputs": [],
   "source": []
  },
  {
   "cell_type": "code",
   "execution_count": null,
   "metadata": {
    "collapsed": true
   },
   "outputs": [],
   "source": []
  },
  {
   "cell_type": "code",
   "execution_count": null,
   "metadata": {
    "collapsed": true
   },
   "outputs": [],
   "source": []
  },
  {
   "cell_type": "code",
   "execution_count": null,
   "metadata": {
    "collapsed": true
   },
   "outputs": [],
   "source": []
  },
  {
   "cell_type": "markdown",
   "metadata": {
    "collapsed": true
   },
   "source": [
    "### 2.4 how to train models & cost function"
   ]
  },
  {
   "cell_type": "code",
   "execution_count": null,
   "metadata": {
    "collapsed": true
   },
   "outputs": [],
   "source": []
  },
  {
   "cell_type": "code",
   "execution_count": null,
   "metadata": {
    "collapsed": true
   },
   "outputs": [],
   "source": []
  },
  {
   "cell_type": "code",
   "execution_count": null,
   "metadata": {
    "collapsed": true
   },
   "outputs": [],
   "source": []
  },
  {
   "cell_type": "code",
   "execution_count": null,
   "metadata": {
    "collapsed": true
   },
   "outputs": [],
   "source": []
  },
  {
   "cell_type": "code",
   "execution_count": null,
   "metadata": {
    "collapsed": true
   },
   "outputs": [],
   "source": []
  },
  {
   "cell_type": "code",
   "execution_count": null,
   "metadata": {
    "collapsed": true
   },
   "outputs": [],
   "source": []
  },
  {
   "cell_type": "code",
   "execution_count": null,
   "metadata": {
    "collapsed": true
   },
   "outputs": [],
   "source": []
  },
  {
   "cell_type": "code",
   "execution_count": null,
   "metadata": {
    "collapsed": true
   },
   "outputs": [],
   "source": []
  },
  {
   "cell_type": "code",
   "execution_count": null,
   "metadata": {
    "collapsed": true
   },
   "outputs": [],
   "source": []
  },
  {
   "cell_type": "code",
   "execution_count": null,
   "metadata": {
    "collapsed": true
   },
   "outputs": [],
   "source": []
  }
 ],
 "metadata": {
  "kernelspec": {
   "display_name": "Python 3",
   "language": "python",
   "name": "python3"
  },
  "language_info": {
   "codemirror_mode": {
    "name": "ipython",
    "version": 3
   },
   "file_extension": ".py",
   "mimetype": "text/x-python",
   "name": "python",
   "nbconvert_exporter": "python",
   "pygments_lexer": "ipython3",
   "version": "3.6.1"
  }
 },
 "nbformat": 4,
 "nbformat_minor": 2
}
