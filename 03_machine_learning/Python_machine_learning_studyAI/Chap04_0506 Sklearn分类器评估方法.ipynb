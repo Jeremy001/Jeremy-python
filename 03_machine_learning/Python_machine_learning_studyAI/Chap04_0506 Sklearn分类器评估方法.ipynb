{
 "cells": [
  {
   "cell_type": "markdown",
   "metadata": {},
   "source": [
    "### 第5节：Sklearn 分类器评估方法\n",
    "- 1.分类器性能度量指标\n",
    "- 2.回归器性能度量指标\n",
    "- 3.聚类性能度量指标\n",
    "- 4.两两"
   ]
  },
  {
   "cell_type": "markdown",
   "metadata": {},
   "source": [
    "#### 1.分类器性能度量指标\n",
    "- 1.只限于二元单标签分类问题\n",
    "    - matthews_corrcoef(y_true, y_pred[, ...]) 计算二元分类中的Matthews相关系数\n",
    "    - precision_recall_curve(y_true, probas_pred) 在不同的概率阈值下计算precision-recall点，形成曲线\n",
    "    - roc_curve(y_true, y_score[, pos_label, ...]) 计算roc曲线\n",
    "\n",
    "- 2.可用于二元多标签分类问题\n",
    "    - average_precision_score(y_true, y_score[, ...]) 计算预测得分的平均精度（mAP）\n",
    "    - roc_auc_score(y_true, y_score[, average, ...]) 计算预测得分的AUC值\n",
    "- 3.可用于多分类问题\n",
    "    - 很多"
   ]
  },
  {
   "cell_type": "code",
   "execution_count": 5,
   "metadata": {
    "collapsed": false
   },
   "outputs": [
    {
     "data": {
      "text/plain": [
       "0.5"
      ]
     },
     "execution_count": 5,
     "metadata": {},
     "output_type": "execute_result"
    }
   ],
   "source": [
    "# accuracy_score\n",
    "import numpy as np\n",
    "from sklearn.metrics import accuracy_score\n",
    "y_pred = [0, 2, 3, 1]\n",
    "y_true = [0, 1, 2, 1]\n",
    "# 准确率\n",
    "accuracy_score(y_true, y_pred)"
   ]
  },
  {
   "cell_type": "code",
   "execution_count": 2,
   "metadata": {
    "collapsed": false
   },
   "outputs": [
    {
     "data": {
      "text/plain": [
       "2"
      ]
     },
     "execution_count": 2,
     "metadata": {},
     "output_type": "execute_result"
    }
   ],
   "source": [
    "# 预测准确的样本数量\n",
    "accuracy_score(y_true, y_pred, normalize= False)"
   ]
  },
  {
   "cell_type": "code",
   "execution_count": 7,
   "metadata": {
    "collapsed": false
   },
   "outputs": [
    {
     "data": {
      "text/plain": [
       "array([[1, 0, 0, 0],\n",
       "       [0, 1, 1, 0],\n",
       "       [0, 0, 0, 1],\n",
       "       [0, 0, 0, 0]], dtype=int64)"
      ]
     },
     "execution_count": 7,
     "metadata": {},
     "output_type": "execute_result"
    }
   ],
   "source": [
    "# confusion matrix\n",
    "from sklearn.metrics import confusion_matrix\n",
    "confusion_matrix(y_true, y_pred)"
   ]
  },
  {
   "cell_type": "code",
   "execution_count": null,
   "metadata": {
    "collapsed": true
   },
   "outputs": [],
   "source": []
  },
  {
   "cell_type": "code",
   "execution_count": null,
   "metadata": {
    "collapsed": true
   },
   "outputs": [],
   "source": []
  }
 ],
 "metadata": {
  "anaconda-cloud": {},
  "kernelspec": {
   "display_name": "Python [default]",
   "language": "python",
   "name": "python3"
  },
  "language_info": {
   "codemirror_mode": {
    "name": "ipython",
    "version": 3
   },
   "file_extension": ".py",
   "mimetype": "text/x-python",
   "name": "python",
   "nbconvert_exporter": "python",
   "pygments_lexer": "ipython3",
   "version": "3.5.2"
  }
 },
 "nbformat": 4,
 "nbformat_minor": 1
}
