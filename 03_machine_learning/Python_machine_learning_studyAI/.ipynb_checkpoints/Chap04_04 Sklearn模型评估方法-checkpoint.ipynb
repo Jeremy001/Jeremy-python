{
 "cells": [
  {
   "cell_type": "markdown",
   "metadata": {},
   "source": [
    "### SKlearn模型预测效果评估方法\n",
    "- 1.Estimator对象的score方法\n",
    "- 2.交叉验证中使用scoring参数\n",
    "    - 对于scoring,值越大代表模型性能越好\n",
    "    - 对于error,已转成负数，因此也是值越大代表模型性能越好\n",
    "- 3.使用sklearn.metric模块的分类器性能度量函数"
   ]
  },
  {
   "cell_type": "code",
   "execution_count": 1,
   "metadata": {
    "collapsed": false
   },
   "outputs": [
    {
     "data": {
      "text/plain": [
       "array([-0.0757138 , -0.16816241, -0.07091847])"
      ]
     },
     "execution_count": 1,
     "metadata": {},
     "output_type": "execute_result"
    }
   ],
   "source": [
    "# case\n",
    "from sklearn import svm\n",
    "from sklearn.datasets import load_iris\n",
    "from sklearn.model_selection import cross_val_score\n",
    "iris = load_iris()\n",
    "X, y = iris.data, iris.target\n",
    "clf = svm.SVC(probability = True, random_state = 0)\n",
    "cross_val_score(clf, X, y, scoring = 'neg_log_loss')"
   ]
  },
  {
   "cell_type": "code",
   "execution_count": 4,
   "metadata": {
    "collapsed": false
   },
   "outputs": [],
   "source": [
    "model = svm.SVC()\n",
    "# 以下代码会报错，因为并没有wrong_choice这样的scoring参数值\n",
    "# cross_val_score(model, X, y, scoring = 'wrong_choice')"
   ]
  },
  {
   "cell_type": "code",
   "execution_count": 5,
   "metadata": {
    "collapsed": true
   },
   "outputs": [],
   "source": [
    "# 还可以使用自定义的scoring参数\n",
    "from sklearn.metrics import fbeta_score, make_scorer\n",
    "ftwo_scorer = make_scorer(fbeta_score, beta = 2)\n",
    "from sklearn.model_selection import GridSearchCV\n",
    "from sklearn.svm import LinearSVC\n",
    "grid = GridSearchCV(LinearSVC(), param_grid = {'C':[1, 10]}, scoring = ftwo_scorer)\n",
    "# 说明：\n",
    "# 由于fbeta中必须有参数beta,因此不能把fbeta直接传入到scoring=fbeta,而是要先用make_scorer，传入beta参数，封装成可用"
   ]
  },
  {
   "cell_type": "code",
   "execution_count": null,
   "metadata": {
    "collapsed": true
   },
   "outputs": [],
   "source": []
  },
  {
   "cell_type": "code",
   "execution_count": null,
   "metadata": {
    "collapsed": true
   },
   "outputs": [],
   "source": []
  }
 ],
 "metadata": {
  "anaconda-cloud": {},
  "kernelspec": {
   "display_name": "Python [default]",
   "language": "python",
   "name": "python3"
  },
  "language_info": {
   "codemirror_mode": {
    "name": "ipython",
    "version": 3
   },
   "file_extension": ".py",
   "mimetype": "text/x-python",
   "name": "python",
   "nbconvert_exporter": "python",
   "pygments_lexer": "ipython3",
   "version": "3.5.2"
  }
 },
 "nbformat": 4,
 "nbformat_minor": 1
}
