{
 "cells": [
  {
   "cell_type": "markdown",
   "metadata": {},
   "source": [
    "# pandas"
   ]
  },
  {
   "cell_type": "markdown",
   "metadata": {},
   "source": [
    "## introduction"
   ]
  },
  {
   "cell_type": "code",
   "execution_count": 15,
   "metadata": {
    "collapsed": false
   },
   "outputs": [
    {
     "name": "stdout",
     "output_type": "stream",
     "text": [
      "0     1.0\n",
      "1     3.0\n",
      "2     6.0\n",
      "3     NaN\n",
      "4    67.0\n",
      "5     4.0\n",
      "dtype: float64\n",
      "DatetimeIndex(['2017-01-01', '2017-01-02', '2017-01-03', '2017-01-04',\n",
      "               '2017-01-05', '2017-01-06'],\n",
      "              dtype='datetime64[ns]', freq='D')\n",
      "                   a         b         c         d\n",
      "2017-01-01 -0.506652  0.208121  1.064361 -0.465262\n",
      "2017-01-02  1.271673  1.658515 -1.176396  1.249311\n",
      "2017-01-03 -0.991712  0.600136  0.722521 -2.312928\n",
      "2017-01-04  1.459415 -0.657185  1.235445 -0.675061\n",
      "2017-01-05  0.597027 -1.393711  0.195447 -0.194661\n",
      "2017-01-06 -0.218653  1.360652  1.022581 -0.135605\n",
      "   0  1   2   3\n",
      "0  0  1   2   3\n",
      "1  4  5   6   7\n",
      "2  8  9  10  11\n",
      "     A          B    C  D      E    F\n",
      "0  1.0 2017-01-01  1.0  3   test  foo\n",
      "1  1.0 2017-01-01  1.0  3  train  foo\n",
      "2  1.0 2017-01-01  1.0  3   test  foo\n",
      "3  1.0 2017-01-01  1.0  3  train  foo\n",
      "B: 2017-01-01 00:00:00\n",
      "C: 0    1.0\n",
      "1    1.0\n",
      "2    1.0\n",
      "3    1.0\n",
      "dtype: float32\n",
      "D: [3 3 3 3]\n"
     ]
    }
   ],
   "source": [
    "import numpy as np\n",
    "import pandas as pd\n",
    "\n",
    "# Series\n",
    "s = pd.Series([1, 3, 6, np.nan, 67, 4])\n",
    "print(s)\n",
    "\n",
    "# 生成日期\n",
    "dates = pd.date_range('20170101', periods = 6)\n",
    "print(dates)\n",
    "\n",
    "# 生成dataframe\n",
    "df = pd.DataFrame(np.random.randn(6, 4), index = dates, columns = ['a', 'b', 'c', 'd'])\n",
    "print(df)\n",
    "\n",
    "df = pd.DataFrame(np.arange(12).reshape((3, 4)))\n",
    "print(df)\n",
    "\n",
    "# 根据字典生成DataFrame\n",
    "df = pd.DataFrame({'A':1., \n",
    "                   'B':pd.Timestamp('20170101'), \n",
    "                   'C':pd.Series(1, index = list(range(4)), dtype = 'float32'), \n",
    "                   'D':np.array([3] * 4, dtype = 'int32'), \n",
    "                   'E':pd.Categorical(['test', 'train', 'test', 'train']), \n",
    "                   'F':'foo'})\n",
    "print(df)\n",
    "B = pd.Timestamp('20170101')\n",
    "print('B:', B)\n",
    "C = pd.Series(1, index = list(range(4)), dtype = 'float32')\n",
    "print('C:', C)\n",
    "D = np.array([3] * 4, dtype = 'int32')\n",
    "print('D:', D)"
   ]
  },
  {
   "cell_type": "code",
   "execution_count": 23,
   "metadata": {
    "collapsed": false
   },
   "outputs": [
    {
     "name": "stdout",
     "output_type": "stream",
     "text": [
      "A           float64\n",
      "B    datetime64[ns]\n",
      "C           float32\n",
      "D             int32\n",
      "E          category\n",
      "F            object\n",
      "dtype: object\n",
      "Int64Index([0, 1, 2, 3], dtype='int64')\n",
      "Index(['A', 'B', 'C', 'D', 'E', 'F'], dtype='object')\n",
      "[[1.0 Timestamp('2017-01-01 00:00:00') 1.0 3 'test' 'foo']\n",
      " [1.0 Timestamp('2017-01-01 00:00:00') 1.0 3 'train' 'foo']\n",
      " [1.0 Timestamp('2017-01-01 00:00:00') 1.0 3 'test' 'foo']\n",
      " [1.0 Timestamp('2017-01-01 00:00:00') 1.0 3 'train' 'foo']]\n",
      "         A    C    D\n",
      "count  4.0  4.0  4.0\n",
      "mean   1.0  1.0  3.0\n",
      "std    0.0  0.0  0.0\n",
      "min    1.0  1.0  3.0\n",
      "25%    1.0  1.0  3.0\n",
      "50%    1.0  1.0  3.0\n",
      "75%    1.0  1.0  3.0\n",
      "max    1.0  1.0  3.0\n",
      "                     0                    1                    2  \\\n",
      "A                    1                    1                    1   \n",
      "B  2017-01-01 00:00:00  2017-01-01 00:00:00  2017-01-01 00:00:00   \n",
      "C                    1                    1                    1   \n",
      "D                    3                    3                    3   \n",
      "E                 test                train                 test   \n",
      "F                  foo                  foo                  foo   \n",
      "\n",
      "                     3  \n",
      "A                    1  \n",
      "B  2017-01-01 00:00:00  \n",
      "C                    1  \n",
      "D                    3  \n",
      "E                train  \n",
      "F                  foo  \n"
     ]
    }
   ],
   "source": [
    "# DataFrame的属性\n",
    "## 各列的数据类型\n",
    "print(df.dtypes)\n",
    "## 行index\n",
    "print(df.index)\n",
    "## columns\n",
    "print(df.columns)\n",
    "## 数据值\n",
    "print(df.values)\n",
    "## 描述DataFrame，数值类型的字段\n",
    "print(df.describe())\n",
    "## 转置\n",
    "print(df.T)"
   ]
  },
  {
   "cell_type": "code",
   "execution_count": 27,
   "metadata": {
    "collapsed": false
   },
   "outputs": [
    {
     "name": "stdout",
     "output_type": "stream",
     "text": [
      "     A          B    C  D      E    F\n",
      "3  1.0 2017-01-01  1.0  3  train  foo\n",
      "2  1.0 2017-01-01  1.0  3   test  foo\n",
      "1  1.0 2017-01-01  1.0  3  train  foo\n",
      "0  1.0 2017-01-01  1.0  3   test  foo\n",
      "     F      E  D    C          B    A\n",
      "0  foo   test  3  1.0 2017-01-01  1.0\n",
      "1  foo  train  3  1.0 2017-01-01  1.0\n",
      "2  foo   test  3  1.0 2017-01-01  1.0\n",
      "3  foo  train  3  1.0 2017-01-01  1.0\n",
      "     A          B    C  D      E    F\n",
      "3  1.0 2017-01-01  1.0  3  train  foo\n",
      "1  1.0 2017-01-01  1.0  3  train  foo\n",
      "2  1.0 2017-01-01  1.0  3   test  foo\n",
      "0  1.0 2017-01-01  1.0  3   test  foo\n"
     ]
    }
   ],
   "source": [
    "# 排序\n",
    "## 根据index排序\n",
    "### 行\n",
    "print(df.sort_index(axis = 0, ascending = False))\n",
    "### 列\n",
    "print(df.sort_index(axis = 1, ascending = False))\n",
    "\n",
    "## 根据值进行排序\n",
    "print(df.sort_values('E', ascending = False))"
   ]
  },
  {
   "cell_type": "code",
   "execution_count": null,
   "metadata": {
    "collapsed": true
   },
   "outputs": [],
   "source": []
  },
  {
   "cell_type": "code",
   "execution_count": null,
   "metadata": {
    "collapsed": true
   },
   "outputs": [],
   "source": []
  },
  {
   "cell_type": "code",
   "execution_count": null,
   "metadata": {
    "collapsed": true
   },
   "outputs": [],
   "source": []
  },
  {
   "cell_type": "code",
   "execution_count": null,
   "metadata": {
    "collapsed": true
   },
   "outputs": [],
   "source": []
  },
  {
   "cell_type": "code",
   "execution_count": null,
   "metadata": {
    "collapsed": true
   },
   "outputs": [],
   "source": []
  },
  {
   "cell_type": "code",
   "execution_count": null,
   "metadata": {
    "collapsed": true
   },
   "outputs": [],
   "source": []
  },
  {
   "cell_type": "code",
   "execution_count": null,
   "metadata": {
    "collapsed": true
   },
   "outputs": [],
   "source": []
  },
  {
   "cell_type": "code",
   "execution_count": null,
   "metadata": {
    "collapsed": true
   },
   "outputs": [],
   "source": []
  },
  {
   "cell_type": "code",
   "execution_count": null,
   "metadata": {
    "collapsed": true
   },
   "outputs": [],
   "source": []
  },
  {
   "cell_type": "code",
   "execution_count": null,
   "metadata": {
    "collapsed": true
   },
   "outputs": [],
   "source": []
  }
 ],
 "metadata": {
  "anaconda-cloud": {},
  "kernelspec": {
   "display_name": "Python [conda root]",
   "language": "python",
   "name": "conda-root-py"
  },
  "language_info": {
   "codemirror_mode": {
    "name": "ipython",
    "version": 3
   },
   "file_extension": ".py",
   "mimetype": "text/x-python",
   "name": "python",
   "nbconvert_exporter": "python",
   "pygments_lexer": "ipython3",
   "version": "3.5.2"
  },
  "toc": {
   "colors": {
    "hover_highlight": "#DAA520",
    "navigate_num": "#000000",
    "navigate_text": "#333333",
    "running_highlight": "#FF0000",
    "selected_highlight": "#FFD700",
    "sidebar_border": "#EEEEEE",
    "wrapper_background": "#FFFFFF"
   },
   "moveMenuLeft": true,
   "nav_menu": {
    "height": "39px",
    "width": "254px"
   },
   "navigate_menu": true,
   "number_sections": true,
   "sideBar": true,
   "threshold": 4,
   "toc_cell": false,
   "toc_section_display": "block",
   "toc_window_display": false,
   "widenNotebook": false
  }
 },
 "nbformat": 4,
 "nbformat_minor": 1
}
