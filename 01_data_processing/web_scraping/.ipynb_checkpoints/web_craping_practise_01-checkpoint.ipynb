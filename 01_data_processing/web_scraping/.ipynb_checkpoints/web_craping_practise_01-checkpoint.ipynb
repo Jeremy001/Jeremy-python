{
 "cells": [
  {
   "cell_type": "code",
   "execution_count": 35,
   "metadata": {},
   "outputs": [],
   "source": [
    "# load packages\n",
    "import requests\n",
    "from bs4 import BeautifulSoup\n",
    "import csv"
   ]
  },
  {
   "cell_type": "code",
   "execution_count": 124,
   "metadata": {},
   "outputs": [],
   "source": [
    "# requests.get()的作用是下载页面\n",
    "page = requests.get(\"http://www.chinasspp.com/brand/家纺家饰/40/\")\n",
    "# 查看页面是否顺利下载，当返回的code是200时，表示顺利下载了\n",
    "# page\n",
    "# 如果code以4或5开头，一般表示报错了，未顺利下载"
   ]
  },
  {
   "cell_type": "code",
   "execution_count": 98,
   "metadata": {},
   "outputs": [],
   "source": [
    "# 查看页面内容\n",
    "# page.content"
   ]
  },
  {
   "cell_type": "code",
   "execution_count": 125,
   "metadata": {},
   "outputs": [],
   "source": [
    "# 用BeautifulSoup解析页面\n",
    "# from_encoding = 'gb18030'的作用是使中文正确显示，不会显示成乱码\n",
    "source = BeautifulSoup(page.content, 'html.parser', from_encoding='gb18030')"
   ]
  },
  {
   "cell_type": "code",
   "execution_count": 127,
   "metadata": {},
   "outputs": [
    {
     "name": "stdout",
     "output_type": "stream",
     "text": [
      "浙江杭州\n",
      "1888\n",
      "家纺家饰 家纺寝饰 嘉实家纺 杭州嘉实家纺有限公司 嘉实家纺....详情>> 浙江杭州 1888\n",
      "1888\n",
      "------------\n",
      "广东深圳\n",
      "3283\n",
      "家纺家饰 家居饰品 心顺心 深圳市心顺心实业有限公司 深圳市心顺心实业有限公司是专业生产、设计和销售家居饰品及花艺的专业化实业公司，是现代家庭，家具厂商，样板房，设计师的理想选择，深受广大客户和消费者的好评，产品不仅在国内占...详情>> 广东深圳 3283\n",
      "3283\n",
      "------------\n",
      "\n",
      "2151\n",
      "家纺家饰 家居饰品 鈺雲GOLDIE-DESIGN 上海逸灏科贸发展有限公司 “鈺雲”和“GOLDIE-DESIGN”布工藝禮品的品牌是由中外合資企業在二十一世紀初创立的。它由香港著名的工藝設計師Goldie Lee（日語、英語可）等以中國民族元素和西方的觀念為理念設計...详情>>  2151\n",
      "2151\n",
      "------------\n",
      "\n",
      "6195\n",
      "家纺家饰 家纺寝饰 皇威 皇威（集团）有限公司 皇威（集团）有限公司是中国棉纺织品商业协会成员企业，是集科研、生产、销售为一体的大型现代化集团公司。公司创建于1989年，占地面积三万多平方米，厂房建筑面积1.7万平方米，拥有...详情>>  6195\n",
      "6195\n",
      "------------\n",
      "\n",
      "1813\n",
      "家纺家饰 家纺寝饰 法馨娜 上海法馨娜纺织品有限公司 法馨娜公司以生产床上纺织用品为主,产品有:蚕丝被、纯棉被罩、活性染色被罩、夏季竹凉被、各种枕套等床上纺织用品． 本公司产品销往国内外各大商场，受到广大消费者一至好评．本公司...详情>>  1813\n",
      "1813\n",
      "------------\n",
      "广东深圳\n",
      "2068\n",
      "家纺家饰 家纺寝饰 雅美舒 深圳市祥辉商贸有限公司 深圳市祥辉商贸有限公司创办于一九九三年六月，致力于开发、加工、销售人们日常生活所需的家饰用品及床上用品系列。目前公司拥有自身知识产权“雅美舒”，并正通过专卖柜、专卖店和电...详情>> 广东深圳 2068\n",
      "2068\n",
      "------------\n",
      "广东深圳\n",
      "3217\n",
      "家纺家饰 家纺寝饰 罗兰 深圳罗兰实业有限公司 深圳罗兰实业有限公司创立于1987年，是深圳第一家专业生产床上用品的厂家和国家经贸部指定的出口产品生产基地。目前设定深圳和辽宁两个生产基地，面积达1.5万平方米，全国各地销售网...详情>> 广东深圳 3217\n",
      "3217\n",
      "------------\n",
      "\n",
      "3634\n",
      "家纺家饰 家纺寝饰 民光 上海民光国际企业有限公司 上海民光国际企业有限公司前身是上海毛巾被单公司也是我国历史最悠久、规模最大、门类最全的毛巾被单专业生产基地和出口基地。公司拥有企业34户，其中中外合资企业5户，进入龙头股份...详情>>  3634\n",
      "3634\n",
      "------------\n",
      "\n",
      "5846\n",
      "家纺家饰 家纺寝饰 斯丽佳 上海斯丽佳纺织制品有限公司 斯丽佳纺织制品有限公司成立于一九九四年。主要经营寝室用品的开发设计及生产业务。公司主要产品包括：素色系列，全面印花系列，彩格系列，高级绣花系列，套件系列，床罩系列，被、枕...详情>>  5846\n",
      "5846\n",
      "------------\n",
      "广东\n",
      "4006\n",
      "家纺家饰 窗帘布艺 LILILEE 深圳依格玛服饰有限公司 深圳依格玛服饰有限公司集多年外贸经验，将国际流行的家饰产品带入国内，与深圳梦甜甜家俱公司强强联合，拥有超前的设计师队伍，先进的生产设备，将国外健康、时尚、艺术的元素吸收后...详情>> 广东 4006\n",
      "4006\n",
      "------------\n",
      "\n",
      "2360\n",
      "家纺家饰 家居饰品 尚鼎 上海尚鼎家居饰品有限公司 上海尚鼎家居饰品是家居饰品的专业制造商与经营商。长期以来一直致力于促进东西方家居文化的融合与交流。致力于妆典家居、美化环境的工作。我们与国内外业者有着广泛的往来。迄今为止...详情>>  2360\n",
      "2360\n",
      "------------\n",
      "广东深圳\n",
      "9198\n",
      "家纺家饰 家纺寝饰 雅兰Airland 雅兰实业（深圳）公司 \"Airland\"，空气与大地融合，寓意恒久。凭藉这个意念，\"Airland\"雅兰床褥於三十多年前诞生，为重视家居生活的人士，带来舒适的睡眠享受，身心健康，自然恒久拥有...详情>> 广东深圳 9198\n",
      "9198\n",
      "------------\n",
      "广东深圳\n",
      "4246\n",
      "家纺家饰 家纺寝饰 黛妮思 深圳市黛妮思家居用品有限公司 深圳市黛妮思家居用品有限公司成立于2000年，是具有法人资格的民营企业。“黛妮思”商标经国家商标局注册，公司主要生产、经营床上用品、布艺、窗帘和酒店配套产品。 　　黛妮思在企...详情>> 广东深圳 4246\n",
      "4246\n",
      "------------\n",
      "其他无\n",
      "2519\n",
      "家纺家饰 家纺寝饰 适之宝 适之宝枕工坊连锁机构 适之宝的故事 相传五千年前，药祖神农氏日以继夜在深山里尝百草，随身携带的除了一个装草药的竹篓，就是一只粗麻布做成的枕头。白天，他把塞有各种野生植物中药材的枕头缠在腰际，晚...详情>> 其他无 2519\n",
      "2519\n",
      "------------\n",
      "广东深圳\n",
      "2546\n",
      "家纺家饰 家纺寝饰 法格伦斯 深圳埃迪蒙托居室用品有限公司 深圳埃迪蒙托居室用品有限公司于2000年又开发生产了面向成熟家庭生活的床上用品品牌“VERA DE FRAGANCE” “法格伦斯”。“让睡眠更艺术”的“法格伦斯”系列产品，将欧洲高贵、典雅...详情>> 广东深圳 2546\n",
      "2546\n",
      "------------\n",
      "北京通州区\n",
      "2497\n",
      "家纺家饰 家纺寝饰 华纳妮诗 北京华纳妮诗床上用品有限公司 北京华纳妮诗床上用品有限公司位于北京市通州区潞城食品工业园甘棠武兴路，交通便捷。　　本公司自成立以来，通过资金重组，企业通过ISO9001：2000国际质量体系认证，公司有丰富的管...详情>> 北京通州区 2497\n",
      "2497\n",
      "------------\n",
      "上海浦东新区\n",
      "2133\n",
      "家纺家饰 家纺寝饰 德菲雪 上海德菲雪家纺有限公司 以自然、时尚、朴实、高雅为主，源于生活，回归自然。人类对于生存环境最原始的记忆是森林，而我们今天所呼唤的，正是失却的自然森林和人类心灵的绿地回到我们身边。 产品风格：源于...详情>> 上海浦东新区 2133\n",
      "2133\n",
      "------------\n",
      "广东广州\n",
      "2140\n",
      "家纺家饰 家纺寝饰 Somlatx®索梦纳斯 索梦纳斯家居用品有限公司 Somlatx&reg;索梦纳斯源自欧洲比利时的品牌“Somnus”，意为“睡眠之神”，公司引进欧洲先进的制造设备、工艺技术，回归自然的设计理念。致力于为全球消费者提供世界级的睡眠系统...详情>> 广东广州 2140\n",
      "2140\n",
      "------------\n",
      "广东东莞\n",
      "4928\n",
      "家纺家饰 家纺寝饰 优雅诗/迪斯尼/圣大保罗 优雅诗（东莞）家居用品有限公司 优雅诗（东莞）家居用品有限公司为香港优雅诗集团附属企业，除自有品牌产品外，后者为迪斯尼（Disney）旗下众多形象品牌之床上用品及居家用品授权厂商，及圣大保罗（Santa Barbara Po...详情>> 广东东莞 4928\n",
      "4928\n",
      "------------\n",
      "江苏南通\n",
      "2443\n",
      "家纺家饰 家纺寝饰 爱丝兰黛 南通诺贝西卧室用品有限公司 1：国际品牌： 公司凭借“爱丝&middot;兰黛” 国际品牌独有的文化底蕴，依托公司欧洲设计师的前沿设计力量，以科学的管理理念和先进的生产设备有机的结合，使爱丝&middot;兰...详情>> 江苏南通 2443\n",
      "2443\n",
      "------------\n"
     ]
    }
   ],
   "source": [
    "# 提取页面上所有公司的信息\n",
    "for company_info in source.find_all('div', class_ = 'brand'):\n",
    "    # 取公司的基本信息：行业类别、品牌名称、公司名称\n",
    "    company_info1 = list(company_info.find('p', class_ = 'first').stripped_strings)\n",
    "    cat_level2 = company_info1[0].split('：')[1].split(\" - \")[0]\n",
    "    cat_level3 = company_info1[0].split('：')[1].split(\" - \")[1]\n",
    "    brand_name = company_info1[1]\n",
    "    company_name = company_info1[2]\n",
    "    # 取公司的介绍\n",
    "    temp_str = company_info.p\n",
    "    company_intro = temp_str.next_sibling.next_sibling.text\n",
    "    # 取地区和人气\n",
    "    company_info2 = list(company_info.find('p', class_ = 'last').stripped_strings)\n",
    "    renqi = company_info2[0].split('：')[1]\n",
    "    diqu = company_info2[1].split('：')[1]\n",
    "    print(diqu)\n",
    "    print(renqi)\n",
    "    # 打印出各条信息\n",
    "    print(cat_level2, cat_level3, brand_name, company_name, company_intro, diqu, renqi)\n",
    "    print(renqi)\n",
    "    print('------------')"
   ]
  },
  {
   "cell_type": "code",
   "execution_count": 129,
   "metadata": {},
   "outputs": [],
   "source": [
    "# 把数据保存到csv文件中\n",
    "## 打开csv文件\n",
    "csv_file = open('apparel_company_list.csv', 'w', \n",
    "                newline = '', \n",
    "                encoding='utf-8')\n",
    "csv_writer = csv.writer(csv_file)\n",
    "## 先命名字段\n",
    "csv_writer.writerow(['cat_level1', 'cat_level2', 'cat_level3', 'brand_name', \n",
    "                     'company_name', 'company_intro', 'renqi', 'diqu'])\n",
    "for company_info in source.find_all('div', class_ = 'brand'):\n",
    "    # 取公司的基本信息：行业类别、品牌名称、公司名称\n",
    "    company_info1 = list(company_info.find('p', class_ = 'first').stripped_strings)\n",
    "    cat_level1 = '服装品牌'\n",
    "    cat_level2 = company_info1[0].split('：')[1].split(\" - \")[0]\n",
    "    cat_level3 = company_info1[0].split('：')[1].split(\" - \")[1]\n",
    "    brand_name = company_info1[1]\n",
    "    company_name = company_info1[2]\n",
    "    # 取公司的介绍\n",
    "    temp_str = company_info.p\n",
    "    company_intro = temp_str.next_sibling.next_sibling.text\n",
    "    # 取地区和人气\n",
    "    company_info2 = list(company_info.find('p', class_ = 'last').stripped_strings)\n",
    "    renqi = company_info2[0].split('：')[1]\n",
    "    diqu = company_info2[1].split('：')[1]\n",
    "    # 逐条写入到csv文件中\n",
    "    csv_writer.writerow([cat_level1, cat_level2, cat_level3, brand_name, \n",
    "                         company_name, company_intro, renqi, diqu])\n",
    "csv_file.close()"
   ]
  },
  {
   "cell_type": "code",
   "execution_count": 113,
   "metadata": {},
   "outputs": [
    {
     "name": "stdout",
     "output_type": "stream",
     "text": [
      "<div class=\"brand\">\n",
      "<a class=\"logo\" href=\"http://www.chinasspp.com/brand/3509/\" target=\"_blank\" title=\"吉芬jefen\"><img alt=\"吉芬jefen\" src=\"http://pic.chinasspp.com/brand/logo/11101526_6290.jpg\" width=\"120\"/></a>\n",
      "<p class=\"first\">\n",
      "<span>行业类别：设计师品牌 - 设计师女装品牌</span>\n",
      "<a href=\"http://www.chinasspp.com/brand/3509/\" target=\"_blank\" title=\"吉芬jefen\">吉芬jefen</a>北京吉芬时装设计有限公司\r\n",
      "                    </p>\n",
      "<p>JEFEN吉芬女装由著名国际时装设计师Frnkie.Xie先生于2000年在意大利创立，以经营JEFEN吉芬高级女装为主。2006年经法国高级时装公会官方认定，成为在巴黎时装周举行发布会的80个国际流...<a href=\"http://www.chinasspp.com/brand/3509/\" rel=\"nofollow\" target=\"_blank\">详情&gt;&gt;</a></p>\n",
      "<p class=\"last\"><i>人气：12.3万</i>地区：北京朝阳区</p>\n",
      "</div>\n"
     ]
    }
   ],
   "source": [
    "# 提取第一家公司的所有信息\n",
    "# 注意，指定class时写的是class_,末尾有\"_\"符号\n",
    "company_info = source.find('div', class_ = 'brand')\n",
    "print(company_info)"
   ]
  },
  {
   "cell_type": "code",
   "execution_count": 112,
   "metadata": {},
   "outputs": [
    {
     "name": "stdout",
     "output_type": "stream",
     "text": [
      "['行业类别：设计师品牌 - 设计师女装品牌', '吉芬jefen', '北京吉芬时装设计有限公司']\n",
      "设计师品牌\n",
      "设计师女装品牌\n",
      "吉芬jefen\n",
      "北京吉芬时装设计有限公司\n"
     ]
    }
   ],
   "source": [
    "# 取公司的基本信息：行业类别、品牌名称、公司名称\n",
    "company_info1 = list(company_info.find('p', class_ = 'first').stripped_strings)\n",
    "cat_level2 = company_info1[0].split('：')[1].split(\" - \")[0]\n",
    "cat_level3 = company_info1[0].split('：')[1].split(\" - \")[1]\n",
    "brand_name = company_info1[1]\n",
    "company_name = company_info1[2]\n",
    "print(company_info1)\n",
    "print(cat_level2)\n",
    "print(cat_level3)\n",
    "print(brand_name)\n",
    "print(company_name)"
   ]
  },
  {
   "cell_type": "code",
   "execution_count": 104,
   "metadata": {},
   "outputs": [
    {
     "name": "stdout",
     "output_type": "stream",
     "text": [
      "深圳市子牧服饰有限公司是时尚类品牌专业的投资和运作机构，公司以快速有效的管理体制、一体的开发生产营销集成化发展思路、合理高效的资本运作，完成中高端时尚品牌投资运作。　　公...详情>>\n"
     ]
    }
   ],
   "source": [
    "# 取公司的介绍\n",
    "temp_1 = company_info.p\n",
    "company_intro = temp_1.next_sibling.next_sibling.text\n",
    "print(company_intro)"
   ]
  },
  {
   "cell_type": "code",
   "execution_count": 108,
   "metadata": {},
   "outputs": [
    {
     "name": "stdout",
     "output_type": "stream",
     "text": [
      "['人气：1.2万', '地区：广东深圳']\n",
      "1.2万\n",
      "广东深圳\n"
     ]
    }
   ],
   "source": [
    "# 取地区和人气\n",
    "company_info2 = list(company_info.find('p', class_ = 'last').stripped_strings)\n",
    "renqi = company_info2[0].split('：')[1]\n",
    "diqu = company_info2[1].split('：')[1]\n",
    "print(company_info2)\n",
    "print(renqi)\n",
    "print(diqu)"
   ]
  },
  {
   "cell_type": "code",
   "execution_count": null,
   "metadata": {},
   "outputs": [],
   "source": []
  },
  {
   "cell_type": "code",
   "execution_count": null,
   "metadata": {},
   "outputs": [],
   "source": []
  },
  {
   "cell_type": "code",
   "execution_count": null,
   "metadata": {},
   "outputs": [],
   "source": []
  }
 ],
 "metadata": {
  "kernelspec": {
   "display_name": "Python 3",
   "language": "python",
   "name": "python3"
  },
  "language_info": {
   "codemirror_mode": {
    "name": "ipython",
    "version": 3
   },
   "file_extension": ".py",
   "mimetype": "text/x-python",
   "name": "python",
   "nbconvert_exporter": "python",
   "pygments_lexer": "ipython3",
   "version": "3.6.4"
  }
 },
 "nbformat": 4,
 "nbformat_minor": 2
}
