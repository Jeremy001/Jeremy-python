{
 "cells": [
  {
   "cell_type": "code",
   "execution_count": 1,
   "metadata": {},
   "outputs": [],
   "source": [
    "# 加载包\n",
    "import pandas as pd\n",
    "import requests\n",
    "from bs4 import BeautifulSoup\n",
    "import csv\n",
    "import time"
   ]
  },
  {
   "cell_type": "code",
   "execution_count": 4,
   "metadata": {},
   "outputs": [],
   "source": [
    "# 基础设置\n",
    "base_url = 'https://www.moco.com'\n",
    "url_list = '/product/list.jhtml?brandId=18&productCategoryId=79'\n",
    "\n",
    "moco_para = {\n",
    "    'pageNumber':3\n",
    "}"
   ]
  },
  {
   "cell_type": "code",
   "execution_count": 32,
   "metadata": {},
   "outputs": [],
   "source": [
    "url = 'https://www.moco.com/product/list.jhtml?brandId=18&productCategoryId=79'\n",
    "page = requests.get(url)\n",
    "source = BeautifulSoup(page.content, 'html.parser', from_encoding = 'gb18030')"
   ]
  },
  {
   "cell_type": "code",
   "execution_count": 33,
   "metadata": {},
   "outputs": [
    {
     "name": "stdout",
     "output_type": "stream",
     "text": [
      "<div class=\"result clearfix\" id=\"result\" style=\"float:left;font-size:14px\">\n",
      "<ul id=\"listBox\" style=\"float:left;margin-top:30px;width:100%\">\n",
      "<li class=\"page_loading\" id=\"pageLoading\">\n",
      "<div class=\"loading\">\n",
      "<div class=\"rotate\"></div>\n",
      "</div>\n",
      "</li>\n",
      "<script type=\"text/javascript\">\r\n",
      "\t\t\t\t\t\t   var listUrl ='';\r\n",
      "\t\t\t\t\t\t\tif(pageParams.requestType && pageParams.requestType == \"filterProduct\"){\r\n",
      "\t\t\t\t\t\t\t   \r\n",
      "\t\t\t\t\t\t\t   listUrl = \"/product/doFilterProduct.jhtml?\";\r\n",
      "\t\t\t\t\t\t\t} else{\r\n",
      "\t\t\t\t\t\t\t   listUrl = \"/product/listProduct.jhtml?\";\r\n",
      "\t\t\t\t\t\t\t}\r\n",
      "\t\t\t\t\t\t\t\r\n",
      "\t\t\t\t\t\t\tvar listParam =  getListParam(pageParams);\r\n",
      "\t\t\t\t\t        var site = listUrl + listParam;\r\n",
      "\t\t\t\t\t        $.ajax({\r\n",
      "\t\t\t\t\t            url: site, \r\n",
      "\t\t\t\t\t            type: \"get\",\r\n",
      "\t\t\t\t\t            dataType: \"json\",\r\n",
      "\t\t\t\t\t            cache: false,\r\n",
      "\t\t\t\t\t            async: false,\r\n",
      "\t\t\t\t\t            success: function (data) {\r\n",
      "\t\t\t\t\t                if (data.page && data.page.content.length > 0) {\r\n",
      "\t\t\t\t\t                     /** 总页数*/\r\n",
      "\t\t\t\t\t\t\t            var totalPage = data.page.totalPages;\r\n",
      "\t\t\t\t\t\t\t            /** 商品列表*/\r\n",
      "\t\t\t\t\t\t\t            var productList = data.page.content;\r\n",
      "\t\t\t\t\t\t\t             /** 获取tag 默认之存在一个tag*/\r\n",
      "\t\t\t\t\t                    var tag = data.tags[0];\r\n",
      "\t\t\t\t\t                    assembleListBox(productList,tag);\r\n",
      "\t\t\t\t\t                    $('#pageLoading').before(nextPageHtml);\r\n",
      "\t\t\t\t                        pageParams.pageNumber = 2;\r\n",
      "\t\t\t\t\t                    pageParams.pageCount = data.totalPage;\r\n",
      "\t\t\t\t\t                    pageParams.productCatagoryArray = data.productCatagoryArray,\r\n",
      "\t\t\t\t\t\t\t\t\t\tpageParams.colorArray = data.colorArray;\r\n",
      "\t\t\t\t\t\t\t\t\t\tpageParams.sizeArray = data.sizeArray;\r\n",
      "\t\t\t\t\t\t\t\t\t\tpageParams.priceArray = data.priceArray;\r\n",
      "\t\t\t\t\t                    if(data.productCategoryId){\r\n",
      "\t\t\t\t\t                        pageParams.productCategoryId = data.productCategoryId;\r\n",
      "\t\t\t\t\t                    }\r\n",
      "\t\t\t\t\t                    if(data.orderType){\r\n",
      "      \t\t\t\t\t                    pageParams.orderType = data.orderType;\r\n",
      "\t\t\t\t\t                    }\r\n",
      "\t\t\t\t\t                    if(data.brandId){\r\n",
      "    \t\t\t\t\t                    pageParams.brandId = data.brandId;\r\n",
      "\t\t\t\t\t                    }\r\n",
      "\t\t\t\t\t                    if(data.requestType){\r\n",
      "      \t\t\t\t\t                    pageParams.requestType = data.requestType;\r\n",
      "\t\t\t\t\t                    }\r\n",
      "\t\t\t\t\t\t\t\t\t\tif(data.priceOrderBy){\r\n",
      "\t  \t\t\t\t\t\t\t\t\t\tpageParams.priceOrderBy = data.priceOrderBy;\r\n",
      "\t\t\t\t\t                    }\r\n",
      "\t\t\t\t\t\t\t\t\t\tif(data.saleAmountOrderBy){\r\n",
      "\t  \t\t\t\t\t\t\t\t\t\tpageParams.saleAmountOrderBy = data.saleAmountOrderBy;\r\n",
      "\t\t\t\t\t                    }\r\n",
      "\t\t\t\t\t\t\t\t\t    if(data.dateOrderBy){\r\n",
      "  \t\t\t\t\t\t\t\t\t\t\tpageParams.dateOrderBy = data.dateOrderBy;\r\n",
      "\t\t\t\t\t                    }\r\n",
      "\t\t\t\t\t                    if(data.promotionId){\r\n",
      "\t\t\t\t\t                         pageParams.promotionId = data.promotionId;\r\n",
      "\t\t\t\t\t                    }\r\n",
      "\t\t\t\t\t                    listParam = getListParam(pageParams);\r\n",
      "\t\t\t\t\t                    nextPageHtml = '';\r\n",
      "\t\t\t\t\t                    if (pageParams.pageCount == 2) {\r\n",
      "\t\t\t\t\t                        getList(listUrl, listParam, false);\r\n",
      "\t\t\t\t\t                    } else {\r\n",
      "\t\t\t\t\t                        nextPageIndex = pageParams.pageNumber + 1;\r\n",
      "\t\t\t\t\t                        if (nextPageIndex <= pageParams.pageCount) {\r\n",
      "\t\t\t\t\t                            getList(listUrl, listParam, false);\r\n",
      "\t\t\t\t\t                        } else {\r\n",
      "\t\t\t\t\t                            $('#pageLoading .loading').css('display', 'none');\r\n",
      "\t\t\t\t\t                        }\r\n",
      "\t\t\t\t\t                    }\r\n",
      "\t\t\t\t\t                   init('listBox');\r\n",
      "\t\t\t\t\t                } else {\r\n",
      "\t\t\t\t\t                \t $('#pageLoading').after('暂无商品数据');\r\n",
      "\t\t\t\t\t                }\r\n",
      "\t\t\t\t\t            }\r\n",
      "\t\t\t\t\t        });\r\n",
      "\t\t\t\t\t\t</script>\n",
      "</ul>\n",
      "</div>\n"
     ]
    }
   ],
   "source": [
    "goods_infos = source.find(id = 'result')\n",
    "print(goods_infos)"
   ]
  },
  {
   "cell_type": "code",
   "execution_count": 35,
   "metadata": {},
   "outputs": [
    {
     "name": "stdout",
     "output_type": "stream",
     "text": [
      "<li class=\"page_loading\" id=\"pageLoading\">\n",
      "<div class=\"loading\">\n",
      "<div class=\"rotate\"></div>\n",
      "</div>\n",
      "</li>\n"
     ]
    }
   ],
   "source": [
    "goods_infos = source.find(id = 'result').find('ul').find_all('li')\n",
    "for good in goods_infos:\n",
    "    #goods_name = good.find('span', class_ = 'productname').a.string\n",
    "    print(good)"
   ]
  },
  {
   "cell_type": "code",
   "execution_count": null,
   "metadata": {},
   "outputs": [],
   "source": []
  },
  {
   "cell_type": "code",
   "execution_count": null,
   "metadata": {},
   "outputs": [],
   "source": []
  },
  {
   "cell_type": "code",
   "execution_count": null,
   "metadata": {},
   "outputs": [],
   "source": []
  },
  {
   "cell_type": "code",
   "execution_count": null,
   "metadata": {},
   "outputs": [],
   "source": []
  }
 ],
 "metadata": {
  "kernelspec": {
   "display_name": "Python 3",
   "language": "python",
   "name": "python3"
  },
  "language_info": {
   "codemirror_mode": {
    "name": "ipython",
    "version": 3
   },
   "file_extension": ".py",
   "mimetype": "text/x-python",
   "name": "python",
   "nbconvert_exporter": "python",
   "pygments_lexer": "ipython3",
   "version": "3.6.4"
  }
 },
 "nbformat": 4,
 "nbformat_minor": 2
}
