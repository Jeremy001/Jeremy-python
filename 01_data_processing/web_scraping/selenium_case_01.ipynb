{
 "cells": [
  {
   "cell_type": "code",
   "execution_count": 1,
   "metadata": {},
   "outputs": [],
   "source": [
    "from selenium import webdriver"
   ]
  },
  {
   "cell_type": "code",
   "execution_count": 5,
   "metadata": {},
   "outputs": [
    {
     "name": "stdout",
     "output_type": "stream",
     "text": [
      "Carson Busses:$29.95\n",
      "Earl E. Byrd:$8.37\n",
      "Patty Cakes:$15.26\n",
      "Derri Anne Connecticut:$19.25\n",
      "Moe Dess:$19.25\n",
      "Leda Doggslife:$13.99\n",
      "Dan Druff:$31.57\n",
      "Al Fresco:$8.49\n",
      "Ido Hoe:$14.47\n",
      "Howie Kisses:$15.86\n",
      "Len Lease:$11.11\n",
      "Phil Meup:$15.98\n",
      "Ira Pent:$16.27\n",
      "Ben D. Rules:$7.50\n",
      "Ave Sectomy:$50.85\n",
      "Gary Shattire:$14.26\n",
      "Bobbi Soks:$5.68\n",
      "Sheila Takya:$15.00\n",
      "Rose Tattoo:$114.07\n",
      "Moe Tell:$10.09\n"
     ]
    }
   ],
   "source": [
    "# 使用Chrome浏览器\n",
    "driver = webdriver.Chrome()\n",
    "# url\n",
    "url = \"http://econpy.pythonanywhere.com/ex/001.html\"\n",
    "# 打开url地址\n",
    "driver.get(url)\n",
    "# 通过find_elements_by_*函数获取元素(所有符合的元素)\n",
    "buyers = driver.find_elements_by_xpath('//div[@title = \"buyer-name\"]')\n",
    "prices = driver.find_elements_by_xpath('//span[@class = \"item-price\"]')\n",
    "# 提取元素中的信息\n",
    "element_num = len(buyers)\n",
    "for i in range(element_num):\n",
    "    print(buyers[i].text + \":\" + prices[i].text)\n",
    "driver.close()"
   ]
  },
  {
   "cell_type": "code",
   "execution_count": null,
   "metadata": {},
   "outputs": [],
   "source": []
  },
  {
   "cell_type": "code",
   "execution_count": null,
   "metadata": {},
   "outputs": [],
   "source": []
  }
 ],
 "metadata": {
  "kernelspec": {
   "display_name": "Python 3",
   "language": "python",
   "name": "python3"
  },
  "language_info": {
   "codemirror_mode": {
    "name": "ipython",
    "version": 3
   },
   "file_extension": ".py",
   "mimetype": "text/x-python",
   "name": "python",
   "nbconvert_exporter": "python",
   "pygments_lexer": "ipython3",
   "version": "3.6.4"
  }
 },
 "nbformat": 4,
 "nbformat_minor": 2
}
