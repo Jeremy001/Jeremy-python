{
 "cells": [
  {
   "cell_type": "code",
   "execution_count": 1,
   "metadata": {},
   "outputs": [],
   "source": [
    "# 关于日期和时间的模块主要有：time 和 datetime\n"
   ]
  },
  {
   "cell_type": "code",
   "execution_count": 2,
   "metadata": {},
   "outputs": [
    {
     "name": "stdout",
     "output_type": "stream",
     "text": [
      "1539310690.295905\n"
     ]
    }
   ],
   "source": [
    "###############\n",
    "# 模块time\n",
    "###############\n",
    "import time\n",
    "print(time.time())"
   ]
  },
  {
   "cell_type": "code",
   "execution_count": null,
   "metadata": {},
   "outputs": [],
   "source": []
  },
  {
   "cell_type": "code",
   "execution_count": 3,
   "metadata": {},
   "outputs": [
    {
     "data": {
      "text/plain": [
       "'\\n1.datetime.date：表示日期的类\\n2.datetime.time：表示时间的类\\n3.datetime.datetime：表示日期时间的类\\n4.datetime.timedelta：表示时间间隔，即两个时间点的间隔\\n5.datetime.tzinfo：时区的相关信息\\n'"
      ]
     },
     "execution_count": 3,
     "metadata": {},
     "output_type": "execute_result"
    }
   ],
   "source": [
    "###############\n",
    "# 模块datetime\n",
    "###############\n",
    "import datetime\n",
    "# datetime 模块一共有5个类，分别是：\n",
    "'''\n",
    "1.datetime.date：表示日期的类\n",
    "2.datetime.time：表示时间的类\n",
    "3.datetime.datetime：表示日期时间的类\n",
    "4.datetime.timedelta：表示时间间隔，即两个时间点的间隔\n",
    "5.datetime.tzinfo：时区的相关信息\n",
    "'''"
   ]
  },
  {
   "cell_type": "code",
   "execution_count": 4,
   "metadata": {},
   "outputs": [
    {
     "name": "stdout",
     "output_type": "stream",
     "text": [
      "2018-10-12\n",
      "2018\n",
      "10\n",
      "12\n",
      "2018-10-10\n",
      "2018\n",
      "10\n",
      "10\n",
      "-----------------\n",
      "False\n",
      "True\n",
      "True\n",
      "False\n",
      "False\n",
      "True\n",
      "-----------------\n",
      "2 days, 0:00:00\n",
      "-2 days, 0:00:00\n",
      "2\n",
      "-----------------\n"
     ]
    }
   ],
   "source": [
    "##\n",
    "## 1. datetime.date\n",
    "##\n",
    "\n",
    "## 创建日期对象\n",
    "t1 = datetime.date.today()  # 今天\n",
    "print(t1)\n",
    "print(t1.year)\n",
    "print(t1.month)\n",
    "print(t1.day)\n",
    "\n",
    "t2 = datetime.date(2018, 10, 10)  # 指定日期\n",
    "print(t2)\n",
    "print(t2.year)\n",
    "print(t2.month)\n",
    "print(t2.day)\n",
    "\n",
    "print('-----------------')\n",
    "\n",
    "## 日期比较\n",
    "## t1.fun(t2)\n",
    "### 等于:__eq__,注意是两个下划线\n",
    "print(t1.__eq__(t2))\n",
    "\n",
    "### 大于等于:__ge__\n",
    "print(t1.__ge__(t2))\n",
    "\n",
    "### 大于:__gt__\n",
    "print(t1.__gt__(t2))\n",
    "\n",
    "### 小于等于:__le__\n",
    "print(t1.__le__(t2))\n",
    "\n",
    "### 小于:__lt__\n",
    "print(t1.__lt__(t2))\n",
    "\n",
    "### 不等于:__ne__\n",
    "print(t1.__ne__(t2))\n",
    "\n",
    "print('-----------------')\n",
    "\n",
    "## 比较两个日期相差天数\n",
    "## t1.__sub__(t2): t1 - t2\n",
    "## t1.__rsub__(t2): t2 - t1\n",
    "print(t1.__sub__(t2))\n",
    "print(t1.__rsub__(t2))\n",
    "\n",
    "## 返回的类型是 timedelta\n",
    "t1.__sub__(t2)\n",
    "\n",
    "## 如果想要获取相差天数1，则：\n",
    "print(t1.__sub__(t2).days)\n",
    "\n",
    "print('-----------------')\n"
   ]
  },
  {
   "cell_type": "code",
   "execution_count": 5,
   "metadata": {},
   "outputs": [
    {
     "name": "stdout",
     "output_type": "stream",
     "text": [
      "2018-10-12\n",
      "5\n",
      "4\n"
     ]
    }
   ],
   "source": [
    "## ISO标准\n",
    "### 日期：YYYY-MM-DD，如2018-10-11\n",
    "### 星期：周一为1，周日为7\n",
    "print(t1.isoformat())\n",
    "print(t1.isoweekday())\n",
    "print(t1.weekday())"
   ]
  },
  {
   "cell_type": "code",
   "execution_count": 6,
   "metadata": {},
   "outputs": [
    {
     "name": "stdout",
     "output_type": "stream",
     "text": [
      "1539310690.461712\n",
      "2018-10-12\n"
     ]
    }
   ],
   "source": [
    "## 根据给定的时间戳转换成日期格式\n",
    "print(time.time())\n",
    "t3 = datetime.date.fromtimestamp(time.time())\n",
    "print(t3)"
   ]
  },
  {
   "cell_type": "code",
   "execution_count": 7,
   "metadata": {},
   "outputs": [
    {
     "name": "stdout",
     "output_type": "stream",
     "text": [
      "2018-10-12\n",
      "18-10-12\n",
      "2018-10-12 Fri\n"
     ]
    }
   ],
   "source": [
    "## 设置日期的格式\n",
    "'''\n",
    "%y\t两位数的年份表示（00-99）\n",
    "%Y\t四位数的年份表示（000-9999）\n",
    "%m\t月份（01-12）\n",
    "%d\t月内中的一天（0-31）\n",
    "%H\t24小时制小时数（0-23）\n",
    "%I\t12小时制小时数（01-12）\n",
    "%M\t分钟数（00=59）\n",
    "%S\t秒（00-59）\n",
    "%a\t本地简化星期名称\n",
    "%A\t本地完整星期名称\n",
    "%b\t本地简化的月份名称\n",
    "%B\t本地完整的月份名称\n",
    "%c\t本地相应的日期表示和时间表示\n",
    "%j\t年内的一天（001-366）\n",
    "%p\t本地A.M.或P.M.的等价符\n",
    "%U\t一年中的星期数（00-53）星期天为星期的开始\n",
    "%w\t星期（0-6），星期天为星期的开始\n",
    "%W\t一年中的星期数（00-53）星期一为星期的开始\n",
    "%x\t本地相应的日期表示\n",
    "%X\t本地相应的时间表示\n",
    "%Z\t当前时区的名称\n",
    "'''\n",
    "\n",
    "## 两个函数可供使用\n",
    "## 日期.__format__(\"指定格式\")  貌似不可用了\n",
    "## 日期.strftime(\"指定格式\")\n",
    "\n",
    "print(t1.strftime('%Y-%m-%d'))\n",
    "print(t1.strftime('%y-%m-%d'))\n",
    "print(t1.strftime('%Y-%m-%d %a'))"
   ]
  },
  {
   "cell_type": "code",
   "execution_count": 8,
   "metadata": {},
   "outputs": [
    {
     "name": "stdout",
     "output_type": "stream",
     "text": [
      "16:20:30.000045\n",
      "16\n",
      "20\n",
      "30\n",
      "45\n",
      "None\n",
      "16:20:30.000045\n",
      "16:20:30\n"
     ]
    }
   ],
   "source": [
    "##\n",
    "## 2. datetime.time\n",
    "##\n",
    "\n",
    "## 创建时间对象:时、分、秒、毫秒、时区信息\n",
    "t4 = datetime.time(16, 20, 30, 45)\n",
    "print(t4)\n",
    "print(t4.hour)\n",
    "print(t4.minute)\n",
    "print(t4.second)\n",
    "print(t4.microsecond)\n",
    "print(t4.tzinfo)\n",
    "\n",
    "## 时间比较大小，同 date\n",
    "\n",
    "## 时间的格式\n",
    "print(t4.isoformat())\n",
    "print(t4.strftime('%H:%M:%S'))"
   ]
  },
  {
   "cell_type": "code",
   "execution_count": 47,
   "metadata": {},
   "outputs": [
    {
     "name": "stdout",
     "output_type": "stream",
     "text": [
      "2018-10-12 11:22:36.915143\n",
      "2018-10-12\n",
      "2018\n",
      "11:22:36.915143\n",
      "36\n",
      "2018-10-11 18:00:01\n",
      "2018-10-12\n",
      "11:01:18.777475\n",
      "2018-10-12 11:01:18.777475\n"
     ]
    }
   ],
   "source": [
    "##\n",
    "## 3. datetime.datetime\n",
    "##\n",
    "\n",
    "## 创建 datetime 对象\n",
    "t5 = datetime.datetime.now()\n",
    "print(t5)\n",
    "## 获取datetime 的 date\n",
    "print(t5.date())\n",
    "print(t5.year)\n",
    "## 获取 datetime 的 time\n",
    "print(t5.time())\n",
    "print(t5.second)\n",
    "\n",
    "## 设置 datetime 的格式\n",
    "t6 = datetime.datetime.strptime('2018-10-11 18:00:01', '%Y-%m-%d %H:%M:%S')\n",
    "print(t6)\n",
    "\n",
    "##  组合date and time\n",
    "d = now.date()\n",
    "t = now.time()\n",
    "dt = datetime.datetime.combine(d, t)\n",
    "print(d)\n",
    "print(t)\n",
    "print(dt)"
   ]
  },
  {
   "cell_type": "code",
   "execution_count": 60,
   "metadata": {},
   "outputs": [
    {
     "name": "stdout",
     "output_type": "stream",
     "text": [
      "8 days, 0:00:00\n"
     ]
    }
   ],
   "source": [
    "##\n",
    "## 4. datetime.timedelta\n",
    "##\n",
    "print(datetime.timedelta(days = 8))"
   ]
  },
  {
   "cell_type": "code",
   "execution_count": 43,
   "metadata": {},
   "outputs": [
    {
     "name": "stdout",
     "output_type": "stream",
     "text": [
      "2018-10-12\n",
      "2018\n",
      "2018-10-12 11:01:18.771808\n",
      "2018-10-12\n",
      "11:01:18.771808\n",
      "-------------\n",
      "2018-10-12\n",
      "2018-09-30\n",
      "2018-09-01\n",
      "2018-01-03\n",
      "2017-12-31\n",
      "2017-12-01\n",
      "-------------\n",
      "4 days, 23:01:18.777475\n",
      "4\n",
      "82878\n",
      "777475\n",
      "-------------\n",
      "2018-10-14 11:01:18.777475\n",
      "2018-10-12 19:01:18.777475\n",
      "2018-10-12 11:09:18.777475\n",
      "2018-10-14 19:09:18.777475\n",
      "-------------\n",
      "5\n",
      "2018-10-07\n",
      "2018-10-01\n",
      "-------------\n"
     ]
    }
   ],
   "source": [
    "##\n",
    "## 练习\n",
    "##\n",
    "\n",
    "## 1. 当前日期和时间\n",
    "today = datetime.date.today()\n",
    "print(today)\n",
    "print(today.year)\n",
    "\n",
    "now = datetime.datetime.now()\n",
    "print(now)\n",
    "print(now.date())\n",
    "print(now.time())\n",
    "\n",
    "print('-------------')\n",
    "\n",
    "## 2. 上月最后一天和第一天，利用上面的 today\n",
    "## 下面这个方法不是最完善的，因为如果当前月份是1月，就有问题\n",
    "print(today)\n",
    "mlast_day = datetime.date(today.year, today.month, 1) - datetime.timedelta(1)\n",
    "print(mlast_day)\n",
    "mfirst_day = datetime.date(mlast_day.year, mlast_day.month, 1)\n",
    "print(mfirst_day)\n",
    "## 利用 if 语句，先判断当前月份是否为1月\n",
    "thisday = datetime.date(2018, 1, 3)\n",
    "print(thisday)\n",
    "if today.month == 1:\n",
    "    mlast_day = datetime.date(thisday.year - 1, 12, 31)\n",
    "else:\n",
    "    mlast_day = datetime.date(thisday.year, thisday.month, 1) - datetime.timedelta(1)\n",
    "print(mlast_day)\n",
    "mfirst_day = datetime.date(mlast_day.year, mlast_day.month, 1)\n",
    "print(mfirst_day)\n",
    "\n",
    "print('-------------')\n",
    "\n",
    "## 3. 计算日期时间的时间差\n",
    "start_time = datetime.datetime(2018, 10, 7, 12, 0, 0)\n",
    "now = datetime.datetime.now()\n",
    "cha_time = now - start_time\n",
    "print(cha_time)\n",
    "print(cha_time.days)\n",
    "print(cha_time.seconds)\n",
    "print(cha_time.microseconds)\n",
    "\n",
    "print('-------------')\n",
    "\n",
    "## 4. 计算指定日期时间的指定时间差的日期时间\n",
    "## 利用 timedelta(指定时间差)，可以指定天days,小时hours,分minutes,秒seconds,微秒microseconds\n",
    "## 2天后\n",
    "now_2d = now + datetime.timedelta(days = 2)\n",
    "print(now_2d)\n",
    "## 8小时后\n",
    "now_8h = now + datetime.timedelta(hours = 8)\n",
    "print(now_8h)\n",
    "## 8分钟后\n",
    "now_8m = now + datetime.timedelta(minutes = 8)\n",
    "print(now_8m)\n",
    "## 2天8小时8分钟后[即：可以同时指定]\n",
    "now_2d8h8m = now + datetime.timedelta(days = 2, hours = 8, minutes = 8)\n",
    "print(now_2d8h8m)\n",
    "\n",
    "print('-------------')\n",
    "\n",
    "## 5. 上周日和上周一的日期\n",
    "today_weekday = today.isoweekday()\n",
    "print(today_weekday)\n",
    "last_sunday = today - datetime.timedelta(days = today_weekday)\n",
    "print(last_sunday)\n",
    "last_monday = last_sunday - datetime.timedelta(days = 6)\n",
    "print(last_monday)\n",
    "\n",
    "print('-------------')"
   ]
  },
  {
   "cell_type": "code",
   "execution_count": null,
   "metadata": {},
   "outputs": [],
   "source": []
  }
 ],
 "metadata": {
  "kernelspec": {
   "display_name": "Python 3",
   "language": "python",
   "name": "python3"
  },
  "language_info": {
   "codemirror_mode": {
    "name": "ipython",
    "version": 3
   },
   "file_extension": ".py",
   "mimetype": "text/x-python",
   "name": "python",
   "nbconvert_exporter": "python",
   "pygments_lexer": "ipython3",
   "version": "3.6.4"
  }
 },
 "nbformat": 4,
 "nbformat_minor": 2
}
