{
 "cells": [
  {
   "cell_type": "code",
   "execution_count": null,
   "metadata": {},
   "outputs": [],
   "source": [
    "# 关于日期和时间的模块主要有：time 和 datetime\n"
   ]
  },
  {
   "cell_type": "code",
   "execution_count": 25,
   "metadata": {},
   "outputs": [
    {
     "name": "stdout",
     "output_type": "stream",
     "text": [
      "1539249139.890194\n"
     ]
    }
   ],
   "source": [
    "###############\n",
    "# 模块time\n",
    "###############\n",
    "import time\n",
    "print(time.time())"
   ]
  },
  {
   "cell_type": "code",
   "execution_count": null,
   "metadata": {},
   "outputs": [],
   "source": []
  },
  {
   "cell_type": "code",
   "execution_count": 3,
   "metadata": {},
   "outputs": [
    {
     "data": {
      "text/plain": [
       "'\\n1.datetime.date：表示日期的类\\n2.datetime.datetime：表示日期时间的类\\n3.datetime.time：表示时间的类\\n4.datetime.timedelta：表示时间间隔，即两个时间点的间隔\\n5.datetime.tzinfo：时区的相关信息\\n'"
      ]
     },
     "execution_count": 3,
     "metadata": {},
     "output_type": "execute_result"
    }
   ],
   "source": [
    "###############\n",
    "# 模块datetime\n",
    "###############\n",
    "import datetime\n",
    "# datetime 模块一共有5个类，分别是：\n",
    "'''\n",
    "1.datetime.date：表示日期的类\n",
    "2.datetime.time：表示时间的类\n",
    "3.datetime.datetime：表示日期时间的类\n",
    "4.datetime.timedelta：表示时间间隔，即两个时间点的间隔\n",
    "5.datetime.tzinfo：时区的相关信息\n",
    "'''"
   ]
  },
  {
   "cell_type": "code",
   "execution_count": 54,
   "metadata": {},
   "outputs": [
    {
     "name": "stdout",
     "output_type": "stream",
     "text": [
      "2018-10-11\n",
      "2018\n",
      "10\n",
      "11\n",
      "2018-10-10\n",
      "2018\n",
      "10\n",
      "10\n",
      "-----------------\n",
      "False\n",
      "True\n",
      "True\n",
      "False\n",
      "False\n",
      "True\n",
      "-----------------\n",
      "1 day, 0:00:00\n",
      "-1 day, 0:00:00\n",
      "1\n",
      "-----------------\n"
     ]
    }
   ],
   "source": [
    "##\n",
    "## 1. datetime.date\n",
    "##\n",
    "\n",
    "## 创建日期对象\n",
    "t1 = datetime.date.today()  # 今天\n",
    "print(t1)\n",
    "print(t1.year)\n",
    "print(t1.month)\n",
    "print(t1.day)\n",
    "\n",
    "t2 = datetime.date(2018, 10, 10)  # 指定日期\n",
    "print(t2)\n",
    "print(t2.year)\n",
    "print(t2.month)\n",
    "print(t2.day)\n",
    "\n",
    "print('-----------------')\n",
    "\n",
    "## 日期比较\n",
    "## t1.fun(t2)\n",
    "### 等于:__eq__,注意是两个下划线\n",
    "print(t1.__eq__(t2))\n",
    "\n",
    "### 大于等于:__ge__\n",
    "print(t1.__ge__(t2))\n",
    "\n",
    "### 大于:__gt__\n",
    "print(t1.__gt__(t2))\n",
    "\n",
    "### 小于等于:__le__\n",
    "print(t1.__le__(t2))\n",
    "\n",
    "### 小于:__lt__\n",
    "print(t1.__lt__(t2))\n",
    "\n",
    "### 不等于:__ne__\n",
    "print(t1.__ne__(t2))\n",
    "\n",
    "print('-----------------')\n",
    "\n",
    "## 比较两个日期相差天数\n",
    "## t1.__sub__(t2): t1 - t2\n",
    "## t1.__rsub__(t2): t2 - t1\n",
    "print(t1.__sub__(t2))\n",
    "print(t1.__rsub__(t2))\n",
    "\n",
    "## 返回的类型是 timedelta\n",
    "t1.__sub__(t2)\n",
    "\n",
    "## 如果想要获取相差天数1，则：\n",
    "print(t1.__sub__(t2).days)\n",
    "\n",
    "print('-----------------')\n"
   ]
  },
  {
   "cell_type": "code",
   "execution_count": 23,
   "metadata": {},
   "outputs": [
    {
     "name": "stdout",
     "output_type": "stream",
     "text": [
      "2018-10-11\n",
      "4\n",
      "3\n"
     ]
    }
   ],
   "source": [
    "## ISO标准\n",
    "### 日期：YYYY-MM-DD，如2018-10-11\n",
    "### 星期：周一为1，周日为7\n",
    "print(t1.isoformat())\n",
    "print(t1.isoweekday())\n",
    "print(t1.weekday())"
   ]
  },
  {
   "cell_type": "code",
   "execution_count": 28,
   "metadata": {},
   "outputs": [
    {
     "name": "stdout",
     "output_type": "stream",
     "text": [
      "1539249187.066988\n",
      "2018-10-11\n"
     ]
    }
   ],
   "source": [
    "## 根据给定的时间戳转换成日期格式\n",
    "print(time.time())\n",
    "t3 = datetime.date.fromtimestamp(time.time())\n",
    "print(t3)"
   ]
  },
  {
   "cell_type": "code",
   "execution_count": 32,
   "metadata": {},
   "outputs": [
    {
     "name": "stdout",
     "output_type": "stream",
     "text": [
      "2018-10-11\n",
      "18-10-11\n",
      "2018-10-11 Thu\n"
     ]
    }
   ],
   "source": [
    "## 设置日期的格式\n",
    "'''\n",
    "%y\t两位数的年份表示（00-99）\n",
    "%Y\t四位数的年份表示（000-9999）\n",
    "%m\t月份（01-12）\n",
    "%d\t月内中的一天（0-31）\n",
    "%H\t24小时制小时数（0-23）\n",
    "%I\t12小时制小时数（01-12）\n",
    "%M\t分钟数（00=59）\n",
    "%S\t秒（00-59）\n",
    "%a\t本地简化星期名称\n",
    "%A\t本地完整星期名称\n",
    "%b\t本地简化的月份名称\n",
    "%B\t本地完整的月份名称\n",
    "%c\t本地相应的日期表示和时间表示\n",
    "%j\t年内的一天（001-366）\n",
    "%p\t本地A.M.或P.M.的等价符\n",
    "%U\t一年中的星期数（00-53）星期天为星期的开始\n",
    "%w\t星期（0-6），星期天为星期的开始\n",
    "%W\t一年中的星期数（00-53）星期一为星期的开始\n",
    "%x\t本地相应的日期表示\n",
    "%X\t本地相应的时间表示\n",
    "%Z\t当前时区的名称\n",
    "'''\n",
    "\n",
    "## 两个函数可供使用\n",
    "## 日期.__format__(\"指定格式\")  貌似不可用了\n",
    "## 日期.strftime(\"指定格式\")\n",
    "\n",
    "print(t1.strftime('%Y-%m-%d'))\n",
    "print(t1.strftime('%y-%m-%d'))\n",
    "print(t1.strftime('%Y-%m-%d %a'))"
   ]
  },
  {
   "cell_type": "code",
   "execution_count": 55,
   "metadata": {},
   "outputs": [
    {
     "name": "stdout",
     "output_type": "stream",
     "text": [
      "16:20:30.000045\n",
      "16\n",
      "20\n",
      "30\n",
      "45\n",
      "None\n",
      "16:20:30.000045\n",
      "16:20:30\n"
     ]
    }
   ],
   "source": [
    "##\n",
    "## 2. datetime.time\n",
    "##\n",
    "\n",
    "## 创建时间对象:时、分、秒、毫秒、时区信息\n",
    "t4 = datetime.time(16, 20, 30, 45)\n",
    "print(t4)\n",
    "print(t4.hour)\n",
    "print(t4.minute)\n",
    "print(t4.second)\n",
    "print(t4.microsecond)\n",
    "print(t4.tzinfo)\n",
    "\n",
    "## 时间比较大小，同 date\n",
    "\n",
    "## 时间的格式\n",
    "print(t4.isoformat())\n",
    "print(t4.strftime('%H:%M:%S'))"
   ]
  },
  {
   "cell_type": "code",
   "execution_count": 57,
   "metadata": {},
   "outputs": [
    {
     "name": "stdout",
     "output_type": "stream",
     "text": [
      "2018-10-11 17:48:30.582235\n",
      "2018-10-11\n",
      "2018\n",
      "17:48:30.582235\n",
      "30\n",
      "2018-10-11 18:00:01\n"
     ]
    }
   ],
   "source": [
    "##\n",
    "## 3. datetime.datetime\n",
    "##\n",
    "\n",
    "## 创建 datetime 对象\n",
    "t5 = datetime.datetime.now()\n",
    "print(t5)\n",
    "## 获取datetime 的 date\n",
    "print(t5.date())\n",
    "print(t5.year)\n",
    "## 获取 datetime 的 time\n",
    "print(t5.time())\n",
    "print(t5.second)\n",
    "\n",
    "## 设置 datetime 的格式\n",
    "t6 = datetime.datetime.strptime('2018-10-11 18:00:01', '%Y-%m-%d %H:%M:%S')\n",
    "print(t6)"
   ]
  },
  {
   "cell_type": "code",
   "execution_count": 60,
   "metadata": {},
   "outputs": [
    {
     "name": "stdout",
     "output_type": "stream",
     "text": [
      "8 days, 0:00:00\n"
     ]
    }
   ],
   "source": [
    "##\n",
    "## 4. datetime.timedelta\n",
    "##\n",
    "\n",
    "print(datetime.timedelta(days = 8))\n",
    "\n",
    "# print(t1.timedelta(t2))"
   ]
  },
  {
   "cell_type": "code",
   "execution_count": null,
   "metadata": {},
   "outputs": [],
   "source": []
  },
  {
   "cell_type": "code",
   "execution_count": null,
   "metadata": {},
   "outputs": [],
   "source": []
  },
  {
   "cell_type": "code",
   "execution_count": null,
   "metadata": {},
   "outputs": [],
   "source": []
  },
  {
   "cell_type": "code",
   "execution_count": null,
   "metadata": {},
   "outputs": [],
   "source": []
  },
  {
   "cell_type": "code",
   "execution_count": null,
   "metadata": {},
   "outputs": [],
   "source": []
  }
 ],
 "metadata": {
  "kernelspec": {
   "display_name": "Python 3",
   "language": "python",
   "name": "python3"
  },
  "language_info": {
   "codemirror_mode": {
    "name": "ipython",
    "version": 3
   },
   "file_extension": ".py",
   "mimetype": "text/x-python",
   "name": "python",
   "nbconvert_exporter": "python",
   "pygments_lexer": "ipython3",
   "version": "3.6.4"
  }
 },
 "nbformat": 4,
 "nbformat_minor": 2
}
