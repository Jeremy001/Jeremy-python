{
 "cells": [
  {
   "cell_type": "markdown",
   "metadata": {},
   "source": [
    "# Chapter04 模型选择与评估\n",
    "\n",
    "## 4.1 数据集划分方法\n",
    "\n",
    "- K折交叉验证\n",
    "    - KFold\n",
    "    - GroupKFold\n",
    "    - StratifiedKFold(分层K折交叉验证)\n",
    "- 留一法\n",
    "    - LeaveOneOut(LOO)\n",
    "    - LeaveOneGroupOut\n",
    "    - LeavePOut\n",
    "    - LeavePGroupsOut\n",
    "- 随机划分\n",
    "    - ShuffleSplit\n",
    "    - GroupShuffleSplit\n",
    "    - StratifiedShuffleSplit(分层随机划分)"
   ]
  },
  {
   "cell_type": "code",
   "execution_count": 5,
   "metadata": {},
   "outputs": [
    {
     "name": "stdout",
     "output_type": "stream",
     "text": [
      "KFold(n_splits=2, random_state=None, shuffle=True)\n",
      "Train_index: [0 3 5] , Test_index: [1 2 4]\n",
      "Train_index: [1 2 4] , Test_index: [0 3 5]\n"
     ]
    }
   ],
   "source": [
    "# KFold\n",
    "\n",
    "# import packages\n",
    "import numpy as np\n",
    "from sklearn.model_selection import KFold\n",
    "\n",
    "# 生成数据集\n",
    "X = np.array([[1, 2], [3, 4], [5, 6], [7, 8], [9, 10], [11, 12]])\n",
    "y = np.array([1, 2, 3, 4, 5, 6])\n",
    "\n",
    "# KFold\n",
    "# n_splits:几折？折成几段？\n",
    "# random_state:随机数种子，应该是跟随shuffle参数，如果shuffle=False,则无需随机数种子\n",
    "# shuffle:是否随机？如果shuffle=True,则先把数据集打乱顺序，然后再折\n",
    "kf = KFold(n_splits = 2)\n",
    "kf.get_n_splits(X)\n",
    "print(kf)\n",
    "\n",
    "# 划分数据集，打印结果\n",
    "for train_index, test_index in kf.split(X):\n",
    "    print('Train_index:', train_index, \", Test_index:\", test_index)\n",
    "    X_train, X_test = X[train_index], X[test_index]\n",
    "    y_train, y_test = y[train_index], y[test_index]\n",
    "\n",
    "# 注意“折”字的含义，就是对折，意味着数据集是对折的"
   ]
  },
  {
   "cell_type": "code",
   "execution_count": 12,
   "metadata": {},
   "outputs": [
    {
     "name": "stdout",
     "output_type": "stream",
     "text": [
      "GroupKFold(n_splits=2)\n",
      "Train_index: [2 3] , Test_index: [0 1 4 5]\n",
      "Train_index: [0 1 4 5] , Test_index: [2 3]\n"
     ]
    }
   ],
   "source": [
    "# GroupKFold\n",
    "# 设置groups，同一个groups的样本划分到同一个fold中，不能拆开\n",
    "\n",
    "from sklearn.model_selection import GroupKFold\n",
    "\n",
    "# 生成数据集\n",
    "X = np.array([[1, 2], [3, 4], [5, 6], [7, 8], [9, 10], [11, 12]])\n",
    "y = np.array([1, 2, 3, 4, 5, 6])\n",
    "\n",
    "groups = np.array([1, 2, 3, 4, 5, 6])\n",
    "group_kf = GroupKFold(n_splits = 2)\n",
    "group_kf.get_n_splits(X, y, groups)\n",
    "print(group_kf)\n",
    "\n",
    "# 划分数据集，打印结果\n",
    "for train_index, test_index in group_kf.split(X, y, groups):\n",
    "    print('Train_index:', train_index, \", Test_index:\", test_index)\n",
    "    X_train, X_test = X[train_index], X[test_index]\n",
    "    y_train, y_test = y[train_index], y[test_index]\n"
   ]
  },
  {
   "cell_type": "code",
   "execution_count": 15,
   "metadata": {},
   "outputs": [
    {
     "name": "stdout",
     "output_type": "stream",
     "text": [
      "StratifiedKFold(n_splits=3, random_state=None, shuffle=False)\n",
      "Train_index: [1 2 4 5] , Test_index: [0 3]\n",
      "Train_index: [0 2 3 5] , Test_index: [1 4]\n",
      "Train_index: [0 1 3 4] , Test_index: [2 5]\n"
     ]
    }
   ],
   "source": [
    "# StratifiedKFold(分层K折交叉验证)\n",
    "# 根据目标变量的取值分布，进行分层划分，保证训练集测试集的分布与总体一致\n",
    "\n",
    "from sklearn.model_selection import StratifiedKFold\n",
    "\n",
    "# 生成数据集\n",
    "X = np.array([[1, 2], [3, 4], [5, 6], [7, 8], [9, 10], [11, 12]])\n",
    "y = np.array([1, 1, 1, 2, 2, 2])\n",
    "# skf\n",
    "skf = StratifiedKFold(n_splits = 3)\n",
    "skf.get_n_splits(X, y)\n",
    "print(skf)\n",
    "# 划分数据集，打印结果：\n",
    "for train_index, test_index in skf.split(X, y):\n",
    "    print(\"Train_index:\", train_index, \", Test_index:\", test_index)\n",
    "    X_train, X_test = X[train_index], X[test_index]\n",
    "    y_train, y_test = y[train_index], y[test_index]\n",
    "\n",
    "# 其实分层K折，就是在每一层进行K折，且层与层之间是对应的，然后生成对应的样本集合\n"
   ]
  },
  {
   "cell_type": "code",
   "execution_count": 17,
   "metadata": {},
   "outputs": [
    {
     "name": "stdout",
     "output_type": "stream",
     "text": [
      "LeaveOneOut()\n",
      "Train_index: [1 2 3 4 5] , Test_index: [0]\n",
      "Train_index: [0 2 3 4 5] , Test_index: [1]\n",
      "Train_index: [0 1 3 4 5] , Test_index: [2]\n",
      "Train_index: [0 1 2 4 5] , Test_index: [3]\n",
      "Train_index: [0 1 2 3 5] , Test_index: [4]\n",
      "Train_index: [0 1 2 3 4] , Test_index: [5]\n"
     ]
    }
   ],
   "source": [
    "# LeaveOneOut\n",
    "\n",
    "from sklearn.model_selection import LeaveOneOut\n",
    "\n",
    "# 生成数据集\n",
    "X = np.array([[1, 2], [3, 4], [5, 6], [7, 8], [9, 10], [11, 12]])\n",
    "y = np.array([1, 2, 3, 4, 5, 6])\n",
    "\n",
    "loo = LeaveOneOut()\n",
    "loo.get_n_splits(X)\n",
    "print(loo)\n",
    "\n",
    "# 划分数据集，打印结果\n",
    "for train_index, test_index in loo.split(X, y):\n",
    "    print(\"Train_index:\", train_index, \", Test_index:\", test_index)\n",
    "    X_train, X_test = X[train_index], X[test_index]\n",
    "    y_train, y_test = y[train_index], y[test_index]\n",
    "\n",
    "# 没啥好解释的，特别好懂，而且实际上并不太会用到，计算成本太高了！\n"
   ]
  },
  {
   "cell_type": "code",
   "execution_count": 19,
   "metadata": {},
   "outputs": [
    {
     "name": "stdout",
     "output_type": "stream",
     "text": [
      "LeavePOut(p=3)\n",
      "Train_index: [3 4 5] Test_index: [0 1 2]\n",
      "Train_index: [2 4 5] Test_index: [0 1 3]\n",
      "Train_index: [2 3 5] Test_index: [0 1 4]\n",
      "Train_index: [2 3 4] Test_index: [0 1 5]\n",
      "Train_index: [1 4 5] Test_index: [0 2 3]\n",
      "Train_index: [1 3 5] Test_index: [0 2 4]\n",
      "Train_index: [1 3 4] Test_index: [0 2 5]\n",
      "Train_index: [1 2 5] Test_index: [0 3 4]\n",
      "Train_index: [1 2 4] Test_index: [0 3 5]\n",
      "Train_index: [1 2 3] Test_index: [0 4 5]\n",
      "Train_index: [0 4 5] Test_index: [1 2 3]\n",
      "Train_index: [0 3 5] Test_index: [1 2 4]\n",
      "Train_index: [0 3 4] Test_index: [1 2 5]\n",
      "Train_index: [0 2 5] Test_index: [1 3 4]\n",
      "Train_index: [0 2 4] Test_index: [1 3 5]\n",
      "Train_index: [0 2 3] Test_index: [1 4 5]\n",
      "Train_index: [0 1 5] Test_index: [2 3 4]\n",
      "Train_index: [0 1 4] Test_index: [2 3 5]\n",
      "Train_index: [0 1 3] Test_index: [2 4 5]\n",
      "Train_index: [0 1 2] Test_index: [3 4 5]\n"
     ]
    }
   ],
   "source": [
    "# LeavePOut\n",
    "\n",
    "from sklearn.model_selection import LeavePOut\n",
    "\n",
    "# 生成数据集\n",
    "X = np.array([[1, 2], [3, 4], [5, 6], [7, 8], [9, 10], [11, 12]])\n",
    "y = np.array([1, 2, 3, 4, 5, 6])\n",
    "\n",
    "lpo = LeavePOut(p = 3)\n",
    "lpo.get_n_splits(X)\n",
    "print(lpo)\n",
    "\n",
    "for train_index, test_index in lpo.split(X, y):\n",
    "    print(\"Train_index:\", train_index, \"Test_index:\", test_index)\n",
    "    X_train, X_test = X[train_index], X[test_index]\n",
    "    y_train, y_test = y[train_index], y[test_index]\n",
    "    \n",
    "# 留一法的变体，留出p个样本作为测试集，至于是哪p个样本，那就是用排列组合方式取得了\n"
   ]
  },
  {
   "cell_type": "code",
   "execution_count": 30,
   "metadata": {},
   "outputs": [
    {
     "name": "stdout",
     "output_type": "stream",
     "text": [
      "ShuffleSplit(n_splits=3, random_state=0, test_size=0.25, train_size=None)\n",
      "Train_index: [1 3 0 4] , Test_index: [5 2]\n",
      "Train_index: [4 0 2 5] , Test_index: [1 3]\n",
      "Train_index: [1 2 4 0] , Test_index: [3 5]\n",
      "=============================================\n",
      "ShuffleSplit(n_splits=3, random_state=0, test_size=0.25, train_size=0.5)\n",
      "Train_index: [1 3 0] , Test_index: [5 2]\n",
      "Train_index: [4 0 2] , Test_index: [1 3]\n",
      "Train_index: [1 2 4] , Test_index: [3 5]\n"
     ]
    }
   ],
   "source": [
    "# ShuffleSplit\n",
    "\n",
    "from sklearn.model_selection import ShuffleSplit\n",
    "\n",
    "# 生成数据集\n",
    "X = np.array([[1, 2], [3, 4], [5, 6], [7, 8], [9, 10], [11, 12]])\n",
    "y = np.array([1, 1, 1, 2, 2, 2])\n",
    "\n",
    "ss = ShuffleSplit(n_splits = 3, \n",
    "                  test_size = 0.25, \n",
    "                  random_state = 0)\n",
    "ss.get_n_splits(X)\n",
    "print(ss)\n",
    "\n",
    "# 拆分数据集，打印结果\n",
    "for train_index, test_index in ss.split(X, y):\n",
    "    print(\"Train_index:\", train_index, \", Test_index:\", test_index)\n",
    "\n",
    "print('=============================================')\n",
    "ss = ShuffleSplit(n_splits = 3, \n",
    "                  test_size = 0.25, \n",
    "                  train_size = 0.5,   # train_size + test_size <= 1，可以小于1\n",
    "                  random_state = 0)\n",
    "print(ss)\n",
    "for train_index, test_index in ss.split(X, y):\n",
    "    print(\"Train_index:\", train_index, \", Test_index:\", test_index)\n"
   ]
  },
  {
   "cell_type": "code",
   "execution_count": 27,
   "metadata": {},
   "outputs": [
    {
     "name": "stdout",
     "output_type": "stream",
     "text": [
      "StratifiedShuffleSplit(n_splits=5, random_state=0, test_size=0.25,\n",
      "            train_size=None)\n",
      "Train_index: [2 5 1 3] Test_index: [0 4]\n",
      "Train_index: [0 4 3 1] Test_index: [2 5]\n",
      "Train_index: [0 4 3 1] Test_index: [2 5]\n",
      "Train_index: [5 4 1 2] Test_index: [0 3]\n",
      "Train_index: [1 5 2 4] Test_index: [0 3]\n"
     ]
    }
   ],
   "source": [
    "# StratifiedShuffleSplit\n",
    "\n",
    "from sklearn.model_selection import StratifiedShuffleSplit\n",
    "\n",
    "# 生成数据集\n",
    "X = np.array([[1, 2], [3, 4], [5, 6], [7, 8], [9, 10], [11, 12]])\n",
    "y = np.array([1, 1, 1, 2, 2, 2])\n",
    "\n",
    "sss = StratifiedShuffleSplit(n_splits = 5, \n",
    "                             test_size = 0.25, \n",
    "                             random_state = 0)\n",
    "print(sss)\n",
    "\n",
    "for train_index, test_index in sss.split(X, y):\n",
    "    print(\"Train_index:\", train_index, \"Test_index:\", test_index)\n",
    "\n",
    "# 分层随机比分层K折来得更随意，如果K折的shuffle=True，那么就跟随机没啥差别了"
   ]
  }
 ],
 "metadata": {
  "anaconda-cloud": {},
  "kernelspec": {
   "display_name": "Python 3",
   "language": "python",
   "name": "python3"
  },
  "language_info": {
   "codemirror_mode": {
    "name": "ipython",
    "version": 3
   },
   "file_extension": ".py",
   "mimetype": "text/x-python",
   "name": "python",
   "nbconvert_exporter": "python",
   "pygments_lexer": "ipython3",
   "version": "3.6.1"
  }
 },
 "nbformat": 4,
 "nbformat_minor": 2
}
