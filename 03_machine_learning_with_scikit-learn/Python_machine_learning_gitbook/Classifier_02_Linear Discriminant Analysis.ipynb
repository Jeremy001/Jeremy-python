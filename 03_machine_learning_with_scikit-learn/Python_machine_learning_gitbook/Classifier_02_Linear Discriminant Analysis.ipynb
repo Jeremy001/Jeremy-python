{
 "cells": [
  {
   "cell_type": "markdown",
   "metadata": {},
   "source": [
    "Linear Discriminant Analysis(LDA),线性判别分析"
   ]
  },
  {
   "cell_type": "code",
   "execution_count": 1,
   "metadata": {
    "collapsed": true
   },
   "outputs": [],
   "source": [
    "# import libraries\n",
    "%matplotlib inline\n",
    "from __future__ import division\n",
    "import numpy as np\n",
    "import pandas as pd\n",
    "from matplotlib import pyplot as plt\n",
    "from sklearn.datasets import make_blobs\n",
    "from sklearn.discriminant_analysis import LinearDiscriminantAnalysis"
   ]
  },
  {
   "cell_type": "code",
   "execution_count": 3,
   "metadata": {},
   "outputs": [
    {
     "name": "stdout",
     "output_type": "stream",
     "text": [
      "     y    X0    X1    X2    X2    X4\n",
      "0  0.0 -1.49 -0.85  0.91  0.58  1.86\n",
      "1  0.0 -1.96  0.86 -0.32 -0.49 -0.54\n",
      "2  1.0  1.23  0.04 -2.21  0.47  1.60\n",
      "3  1.0  1.42  0.35  0.21 -0.17  2.23\n",
      "4  1.0  2.84 -0.63  1.37  2.28  0.02\n",
      "5  0.0 -1.78  0.42  1.52 -1.95  0.13\n",
      "6  0.0 -1.52 -0.52  1.20  1.37 -1.03\n",
      "7  1.0  3.53 -1.43 -0.27  2.34  0.50\n",
      "8  1.0  2.62  0.55  0.42 -0.76  0.63\n",
      "9  0.0 -2.61 -0.07 -0.34  0.31 -1.07\n"
     ]
    }
   ],
   "source": [
    "# 产生数据集\n",
    "n_train = 20\n",
    "n_test = 200\n",
    "n_average = 50\n",
    "n_feature_max = 75\n",
    "step = 4\n",
    "def generate_data(n_samples, n_features):\n",
    "    X, y = make_blobs(n_samples=n_samples, \n",
    "                      n_features = 1, \n",
    "                      centers = [[-2], [2]])\n",
    "    if n_features > 1:\n",
    "        X = np.hstack([X, np.random.randn(n_samples, n_features - 1)])\n",
    "    return X, y\n",
    "X, y = generate_data(10, 5)\n",
    "pd.set_option('precision', 2)\n",
    "df = pd.DataFrame(np.hstack([y.reshape(10, 1), X]))\n",
    "df.columns = ['y', 'X0', 'X1', 'X2', 'X2', 'X4']\n",
    "print(df)"
   ]
  },
  {
   "cell_type": "code",
   "execution_count": null,
   "metadata": {
    "collapsed": true
   },
   "outputs": [],
   "source": []
  },
  {
   "cell_type": "code",
   "execution_count": null,
   "metadata": {
    "collapsed": true
   },
   "outputs": [],
   "source": []
  },
  {
   "cell_type": "code",
   "execution_count": null,
   "metadata": {
    "collapsed": true
   },
   "outputs": [],
   "source": []
  },
  {
   "cell_type": "code",
   "execution_count": null,
   "metadata": {
    "collapsed": true
   },
   "outputs": [],
   "source": []
  },
  {
   "cell_type": "code",
   "execution_count": null,
   "metadata": {
    "collapsed": true
   },
   "outputs": [],
   "source": []
  },
  {
   "cell_type": "code",
   "execution_count": null,
   "metadata": {
    "collapsed": true
   },
   "outputs": [],
   "source": []
  },
  {
   "cell_type": "code",
   "execution_count": null,
   "metadata": {
    "collapsed": true
   },
   "outputs": [],
   "source": []
  },
  {
   "cell_type": "code",
   "execution_count": null,
   "metadata": {
    "collapsed": true
   },
   "outputs": [],
   "source": []
  },
  {
   "cell_type": "code",
   "execution_count": null,
   "metadata": {
    "collapsed": true
   },
   "outputs": [],
   "source": []
  },
  {
   "cell_type": "code",
   "execution_count": null,
   "metadata": {
    "collapsed": true
   },
   "outputs": [],
   "source": []
  },
  {
   "cell_type": "code",
   "execution_count": null,
   "metadata": {
    "collapsed": true
   },
   "outputs": [],
   "source": []
  }
 ],
 "metadata": {
  "kernelspec": {
   "display_name": "Python 3",
   "language": "python",
   "name": "python3"
  },
  "language_info": {
   "codemirror_mode": {
    "name": "ipython",
    "version": 3
   },
   "file_extension": ".py",
   "mimetype": "text/x-python",
   "name": "python",
   "nbconvert_exporter": "python",
   "pygments_lexer": "ipython3",
   "version": "3.6.1"
  }
 },
 "nbformat": 4,
 "nbformat_minor": 2
}
