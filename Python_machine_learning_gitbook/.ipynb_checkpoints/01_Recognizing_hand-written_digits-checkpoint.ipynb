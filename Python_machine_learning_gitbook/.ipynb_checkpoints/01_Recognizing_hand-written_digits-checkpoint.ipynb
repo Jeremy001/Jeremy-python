{
 "cells": [
  {
   "cell_type": "markdown",
   "metadata": {},
   "source": [
    "### 1.Step 1:import libraries and dataset\n",
    "\n",
    "- matplotlib.pyplot: 绘制图像\n",
    "- sklearn.datasets.load_digits: 手写数据集\n",
    "- svm: svm模型\n",
    "- metrics: 评估模型"
   ]
  },
  {
   "cell_type": "code",
   "execution_count": 26,
   "metadata": {
    "collapsed": false
   },
   "outputs": [],
   "source": [
    "# import libraries and dataset\n",
    "%matplotlib inline\n",
    "from matplotlib import pyplot as plt\n",
    "from sklearn.datasets import load_digits\n",
    "from sklearn import svm, metrics\n",
    "digits = load_digits()"
   ]
  },
  {
   "cell_type": "markdown",
   "metadata": {},
   "source": [
    "### 2.Step 2:Get to know the dataset"
   ]
  },
  {
   "cell_type": "code",
   "execution_count": 22,
   "metadata": {
    "collapsed": false
   },
   "outputs": [
    {
     "name": "stdout",
     "output_type": "stream",
     "text": [
      "dict_keys(['data', 'DESCR', 'images', 'target_names', 'target'])\n",
      "<class 'sklearn.utils.Bunch'>\n",
      "(1797, 64)\n",
      "(1797,)\n",
      "[[  0.   0.   5.  13.   9.   1.   0.   0.]\n",
      " [  0.   0.  13.  15.  10.  15.   5.   0.]\n",
      " [  0.   3.  15.   2.   0.  11.   8.   0.]\n",
      " [  0.   4.  12.   0.   0.   8.   8.   0.]\n",
      " [  0.   5.   8.   0.   0.   9.   8.   0.]\n",
      " [  0.   4.  11.   0.   1.  12.   7.   0.]\n",
      " [  0.   2.  14.   5.  10.  12.   0.   0.]\n",
      " [  0.   0.   6.  13.  10.   0.   0.   0.]]\n",
      "[0 1 2 3 4 5 6 7 8 9]\n",
      "[0 1 2 3 4 5 6 7 8 9]\n"
     ]
    }
   ],
   "source": [
    "# get to know the dataset\n",
    "## digits的数据类型是bunch，类似字典\n",
    "## 查看digits的键名\n",
    "print(digits.keys())\n",
    "print(type(digits))\n",
    "## 一共有1797个样本\n",
    "print(digits.data.shape)\n",
    "## 特征变量有64个，是把手写数字的图像拆解成8*8的像素\n",
    "print(digits.target.shape)\n",
    "## 查看第一个数字\n",
    "print(digits.images[0])\n",
    "## 查看目标变量的所有取值\n",
    "print(digits.target_names)\n",
    "## 查看前10个数字的目标变量值\n",
    "print(digits.target[0:10])"
   ]
  },
  {
   "cell_type": "code",
   "execution_count": 23,
   "metadata": {
    "collapsed": false
   },
   "outputs": [
    {
     "name": "stdout",
     "output_type": "stream",
     "text": [
      "data (1797, 64)\n",
      "DESCR\n",
      "images (1797, 8, 8)\n",
      "target_names (10,)\n",
      "target (1797,)\n"
     ]
    }
   ],
   "source": [
    "# 打印出数据集的信息\n",
    "for key, value in digits.items():\n",
    "    try:\n",
    "        print(key, value.shape)\n",
    "    except:\n",
    "        print(key)"
   ]
  },
  {
   "cell_type": "code",
   "execution_count": 27,
   "metadata": {
    "collapsed": false
   },
   "outputs": [
    {
     "data": {
      "image/png": "[encoded data removed]",
      "text/plain": [
       "<matplotlib.figure.Figure at 0x9d8f2e8>"
      ]
     },
     "metadata": {},
     "output_type": "display_data"
    }
   ],
   "source": [
    "# 查看一下数字的图像\n",
    "images_and_labels = list(zip(digits.images, digits.target))\n",
    "for index, (image, label) in enumerate(images_and_labels[:4]):\n",
    "    plt.subplot(2, 4, index + 1)\n",
    "    plt.axis('off')\n",
    "    plt.imshow(image, cmap = plt.cm.gray_r, interpolation='nearest')\n",
    "    plt.title('Training: %i' % label)"
   ]
  },
  {
   "cell_type": "markdown",
   "metadata": {},
   "source": [
    "### 3.Step 3: preprocessing and modeling"
   ]
  },
  {
   "cell_type": "code",
   "execution_count": 40,
   "metadata": {
    "collapsed": false
   },
   "outputs": [],
   "source": [
    "# 样本量\n",
    "n_samples = len(digits.images)\n",
    "# 用reshape函数把每个样本的8*8特征向量摊开得到64*1\n",
    "data = digits.images.reshape(n_samples, -1)\n",
    "# SVC分类器\n",
    "clf = svm.SVC(gamma = 0.001)\n",
    "# 把数据集拆分成: 50%为训练集，50%为测试集\n",
    "from sklearn.cross_validation import train_test_split\n",
    "X_train, X_test, y_train, y_test = train_test_split(data, \n",
    "                                                    digits.target, \n",
    "                                                    test_size = 0.5, \n",
    "                                                    random_state = 123)\n",
    "clf.fit(X_train, y_train)\n",
    "# 预测\n",
    "y_pred = clf.predict(X_test)"
   ]
  },
  {
   "cell_type": "code",
   "execution_count": 44,
   "metadata": {
    "collapsed": false
   },
   "outputs": [
    {
     "name": "stdout",
     "output_type": "stream",
     "text": [
      "[3 3 4 4 1 3 1 0 7 4]\n",
      "[3 3 4 4 1 3 1 0 7 4]\n"
     ]
    }
   ],
   "source": [
    "# 检查一下前10个目标值，发现都预测准确\n",
    "print(y_test[:10])\n",
    "print(y_pred[:10])"
   ]
  },
  {
   "cell_type": "markdown",
   "metadata": {},
   "source": [
    "### 4.Model evaluation\n",
    "\n",
    "- precision\n",
    "- recall\n",
    "- f1-score\n",
    "- ..."
   ]
  },
  {
   "cell_type": "code",
   "execution_count": 45,
   "metadata": {
    "collapsed": false
   },
   "outputs": [
    {
     "name": "stdout",
     "output_type": "stream",
     "text": [
      "confusion matrix:\n",
      "[[ 94   0   0   0   0   0   0   0   0   0]\n",
      " [  0  88   0   0   0   0   0   0   0   0]\n",
      " [  0   0  92   0   0   0   0   1   0   0]\n",
      " [  0   0   0  79   0   0   0   1   0   0]\n",
      " [  0   0   0   0 101   0   0   0   0   0]\n",
      " [  0   0   0   0   0  95   0   0   0   2]\n",
      " [  0   0   0   0   0   0  93   0   0   0]\n",
      " [  0   0   0   0   0   0   0  90   0   0]\n",
      " [  0   3   0   0   0   0   0   0  75   0]\n",
      " [  0   0   0   1   0   1   0   1   1  81]]\n"
     ]
    }
   ],
   "source": [
    "# confusion matrix\n",
    "print('confusion matrix:\\n%s'\n",
    "      % metrics.confusion_matrix(y_test, y_pred))"
   ]
  },
  {
   "cell_type": "code",
   "execution_count": 49,
   "metadata": {
    "collapsed": false
   },
   "outputs": [],
   "source": [
    "# 定义函数，用来绘制混淆矩阵\n",
    "def plot_confusion_matrix(cm, title = 'Confusion Matrix', cmap = plt.cm.Blues):\n",
    "    import numpy as np\n",
    "    plt.imshow(cm, interpolation='nearest', cmap = cmap)\n",
    "    plt.title(title)\n",
    "    plt.colorbar()\n",
    "    tick_marks = np.arange(len(digits.target_names))\n",
    "    plt.xticks(tick_marks, digits.target_names)\n",
    "    plt.yticks(tick_marks, digits.target_names)\n",
    "    plt.tight_layout()\n",
    "    plt.ylabel('True_label')\n",
    "    plt.xlabel('Predicted label')"
   ]
  },
  {
   "cell_type": "code",
   "execution_count": 50,
   "metadata": {
    "collapsed": false
   },
   "outputs": [
    {
     "data": {
      "image/png": "[encoded data removed]",
      "text/plain": [
       "<matplotlib.figure.Figure at 0x9d89ef0>"
      ]
     },
     "metadata": {},
     "output_type": "display_data"
    }
   ],
   "source": [
    "# 用上面定义的plot_confusion_matrix函数来绘制混淆矩阵\n",
    "plt.figure()\n",
    "plot_confusion_matrix(metrics.confusion_matrix(y_test, y_pred))"
   ]
  },
  {
   "cell_type": "code",
   "execution_count": 52,
   "metadata": {
    "collapsed": false
   },
   "outputs": [
    {
     "name": "stdout",
     "output_type": "stream",
     "text": [
      "Classification reort for claasifier SVC(C=1.0, cache_size=200, class_weight=None, coef0=0.0,\n",
      "  decision_function_shape='ovr', degree=3, gamma=0.001, kernel='rbf',\n",
      "  max_iter=-1, probability=False, random_state=None, shrinking=True,\n",
      "  tol=0.001, verbose=False):\n",
      "             precision    recall  f1-score   support\n",
      "\n",
      "          0       1.00      1.00      1.00        94\n",
      "          1       0.97      1.00      0.98        88\n",
      "          2       1.00      0.99      0.99        93\n",
      "          3       0.99      0.99      0.99        80\n",
      "          4       1.00      1.00      1.00       101\n",
      "          5       0.99      0.98      0.98        97\n",
      "          6       1.00      1.00      1.00        93\n",
      "          7       0.97      1.00      0.98        90\n",
      "          8       0.99      0.96      0.97        78\n",
      "          9       0.98      0.95      0.96        85\n",
      "\n",
      "avg / total       0.99      0.99      0.99       899\n",
      "\n",
      "\n"
     ]
    }
   ],
   "source": [
    "# 用metrics展示各个目标变量的评估值\n",
    "print('Classification reort for claasifier %s:\\n%s\\n'\n",
    "      % (clf, metrics.classification_report(y_test, y_pred)))"
   ]
  },
  {
   "cell_type": "code",
   "execution_count": null,
   "metadata": {
    "collapsed": true
   },
   "outputs": [],
   "source": []
  },
  {
   "cell_type": "code",
   "execution_count": null,
   "metadata": {
    "collapsed": true
   },
   "outputs": [],
   "source": []
  },
  {
   "cell_type": "code",
   "execution_count": null,
   "metadata": {
    "collapsed": true
   },
   "outputs": [],
   "source": []
  },
  {
   "cell_type": "code",
   "execution_count": null,
   "metadata": {
    "collapsed": true
   },
   "outputs": [],
   "source": []
  }
 ],
 "metadata": {
  "anaconda-cloud": {},
  "kernelspec": {
   "display_name": "Python [default]",
   "language": "python",
   "name": "python3"
  },
  "language_info": {
   "codemirror_mode": {
    "name": "ipython",
    "version": 3
   },
   "file_extension": ".py",
   "mimetype": "text/x-python",
   "name": "python",
   "nbconvert_exporter": "python",
   "pygments_lexer": "ipython3",
   "version": "3.5.2"
  }
 },
 "nbformat": 4,
 "nbformat_minor": 1
}
