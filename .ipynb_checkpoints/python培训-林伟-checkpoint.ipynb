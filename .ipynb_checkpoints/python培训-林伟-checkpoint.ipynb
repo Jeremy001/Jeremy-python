{
 "cells": [
  {
   "cell_type": "markdown",
   "metadata": {},
   "source": [
    "# <font color=#800080 >数据挖掘流程 </font>\n",
    "- <font color=#228B22 size=3> 1、定义目标 </font>  目标需求是什么，业务情况是什么，需要优化那个环节得到一个什么样的结果。\n",
    " \n",
    " \n",
    "- <font color=#228B22 size=3> 2、获取数据 </font> 可以利用的数据有那些\n",
    "\n",
    "\n",
    "- <font color=#228B22 size=3> 3、数据探索 </font> 分析这些数据情况，那些特征可以选取，那些潜在特征可以被发现\n",
    "\n",
    "\n",
    "- <font color=#228B22 size=3> 4、数据预处理 </font> 数据清洗-去掉脏数据、数据集成-集中、数据变换-规范化、数据规约-精简\n",
    "\n",
    "\n",
    "- <font color=#228B22 size=3> 5、挖掘建模 </font> 分类、聚类、关联、预测。挖掘建模是根据业务目标来的可以归结到那个类型来建立挖掘类型。根据业务类型选择相应的模型分别进行建模，使用模型工程进行优化。\n",
    "\n",
    "\n",
    "- <font color=#228B22 size=3> 6、模型评价与发布 </font> 模型评估与测试，模型结果的应用\n",
    "\n",
    "![<font color=#228B22 size=3>数据挖掘流程图</font>](timg.jpg \"数据挖掘流程图\")\n",
    "\n"
   ]
  },
  {
   "cell_type": "markdown",
   "metadata": {},
   "source": [
    "## <font color=#800080 >数据探索 </font>\n",
    "\n",
    "- <font color=#8A2BE2 size=3 face='微软雅黑'> 变量的识别</font>\n",
    "\n",
    "- <font color=#8A2BE2 size=3 face='微软雅黑'>单变量的分析</font>\n",
    "\n",
    "- <font color=#8A2BE2 size=3 face='微软雅黑'>双变量的分析</font>\n",
    "\n",
    "- <font color=#8A2BE2 size=3 face='微软雅黑'>处理缺失值</font>\n",
    "\n",
    "- <font color=#8A2BE2 size=3 face='微软雅黑'>处理异常值</font>\n",
    "\n",
    "- <font color=#8A2BE2 size=3 face='微软雅黑'>特征提取(Feature Engineering)</font>\n",
    "\n",
    "\n",
    "\n",
    "\n",
    "### 变量识别：分类变量，连续变量，离散型变量\n",
    "---\n",
    "### 单变量的分析：\n",
    "\n",
    "#### 连续型变量：\n",
    "\n",
    "> **均数，中位数，众数，最大值，最小值，极差，百分位数，四分位数，方差，标准差，偏度和峰度**\n",
    "\n",
    "> 图形：直方图和箱型图\n",
    "\n",
    "> 检验：检验其分布：P－P图和K－S单样本检验\n",
    "\n",
    "> 分类型变量：主要是要频数表(频率表)去了解其分布，图形主要是用条形图，也可以用游程检验去检验其是否随机，以判定抽样是否随机。\n",
    "\n",
    "### 双变量的分析\n",
    "为了<font color=Blue size=3 face='微软雅黑'>\n",
    "\n",
    "- 目标变量与已知变量 之间关系\n",
    "\n",
    "- 验证在单变量分析中得出的假设。\n",
    "</font>\n",
    "双变量的分析可以分为三类： \n",
    "\n",
    "> <font color=Blue size=3 face='微软雅黑'>连续型与连续型</font>： 散点图和相关系数去判定。通过散点图看出两者是否有线性关系，在通过计算相关系数去判定关系的强弱。\n",
    "\n",
    "> <font color=Blue size=3 face='微软雅黑'>分类型与分类型</font>： 而对于两个分类型数据的分析，我们可以用交叉分组表，堆积条形图和卡方检验去验证两者之间的关系。\n",
    "\n",
    "> <font color=Blue size=3 face='微软雅黑'>分类型与连续型</font>： 分类型和连续型数据的分析，我们主要用到t检验和方差分析\n",
    "\n",
    "### 处理缺失值\n",
    "\n",
    "缺失值处理：\n",
    "> <font color=Blue size=3 face='微软雅黑'>删除</font>：1.整行删除：对有缺失值的数据，整行删除。这样虽然简单，但是也削弱了模型的功能；2.只删除缺失值：这样虽然保存了较多的数据，但是使得数据中不同的变量有不同的样本量，不利于比较。\n",
    "\n",
    "> <font color=Blue size=3 face='微软雅黑'>替代</font>：计算其均值／中位数／众数去代替缺失值，这也是最常用的方法。\n",
    "预测模型：以没有缺失值的数据为训练数据，以有缺失值的数据为测试数据，建立预测模型，预测其缺失值。缺点是，若变量之间没有关系，则预测的值根本不准。\n",
    "\n",
    "> <font color=Blue size=3 face='微软雅黑'>KNN代替</font>：用最邻近算法计算出其最邻近的属性，以那个属性的值代替缺失值。优点是，不管是分类型还是数值型的都可以操作，缺点是，太费时间。\n",
    "\n",
    "### 处理异常值\n",
    "\n",
    "对于异常值，我们可以说是对它喜忧参半，如果异常值是自然存在的，我们就可以对异常值进行一系列分析，比如用于欺诈检测，入侵检测等。但是大部分异常值的是人为产生的，其产生原因可能是录入错误、测量误差、实验误差、抽样误差等产生。这些异常值通常会混淆我们的视听，影响我们对数据的理解，破坏数据之间的联系，因此我们该学会如何去处理异常值。 \n",
    "\n",
    "#### 检测异常值：\n",
    "\n",
    "> 图形：箱图、直方图、散点图\n",
    "\n",
    "> 在1.5倍的四分位差之外的数据可定为异常值\n",
    " \n",
    "> 在数据的5%－95%之外的数据可定为异常值\n",
    "\n",
    "> 在均值的三个标准差之外的数据\n",
    "\n",
    "> 用聚类分析的方法检测异常值（马氏距离和Cook’s D距离）\n",
    "\n",
    "#### 处理异常值：\n",
    "\n",
    "> <font color=Blue size=3 face='微软雅黑'>删除</font>：如果是录入错误，或数据为很小的一部分即可删除。\n",
    "\n",
    "> <font color=Blue size=3 face='微软雅黑'>转换变量和聚类</font>：有时候通过一些简单的变量转换和聚类即可减少异常值对整体数据的影响\n",
    "\n",
    "> <font color=Blue size=3 face='微软雅黑'>替换</font>：用均值／中位数／众数去代替异常值\n",
    "\n",
    "> <font color=Blue size=3 face='微软雅黑'>分开处理</font>：若其为自然的异常值，且数据较多，我们就可以将其另分一组，进行分析\n",
    "\n",
    "### 特征提取(Feature Engineering)\n",
    "\n",
    "> 特征工程（机器的）\n",
    "\n",
    "> 基于业务和数据理解构建（专家的）\n",
    "\n",
    "\n"
   ]
  },
  {
   "cell_type": "markdown",
   "metadata": {},
   "source": [
    "# <font color=#800080 >数据预处理 </font>\n",
    "![<font color=#228B22 size=3>数据预处理</font>](yuchuli.png \"数据预处理\")\n"
   ]
  },
  {
   "cell_type": "markdown",
   "metadata": {},
   "source": [
    "## <font color=#800080 >特征工程 </font>\n",
    "\n"
   ]
  },
  {
   "cell_type": "markdown",
   "metadata": {},
   "source": [
    "## <font color=#800080 >挖掘建模</font>\n",
    "\n",
    "![<font color=#228B22 size=3>scikit learn algorithm cheat sheet</font>](ml_map.png \"scikit learn algorithm cheat sheet\")"
   ]
  },
  {
   "cell_type": "markdown",
   "metadata": {},
   "source": [
    "## <font color=#800080 >模型评价</font>\n",
    "\n",
    "\n",
    "\n",
    "\n",
    "![<font color=#228B22 size=3>模型评价</font>]( Model+Evaluation+www.ismartsoft.com+Evaluation+Classification.jpg \"数据预处理\")\n"
   ]
  },
  {
   "cell_type": "code",
   "execution_count": null,
   "metadata": {
    "collapsed": true
   },
   "outputs": [],
   "source": []
  }
 ],
 "metadata": {
  "anaconda-cloud": {},
  "kernelspec": {
   "display_name": "Python [conda root]",
   "language": "python",
   "name": "conda-root-py"
  },
  "language_info": {
   "codemirror_mode": {
    "name": "ipython",
    "version": 3
   },
   "file_extension": ".py",
   "mimetype": "text/x-python",
   "name": "python",
   "nbconvert_exporter": "python",
   "pygments_lexer": "ipython3",
   "version": "3.5.2"
  },
  "toc": {
   "colors": {
    "hover_highlight": "#DAA520",
    "navigate_num": "#000000",
    "navigate_text": "#333333",
    "running_highlight": "#FF0000",
    "selected_highlight": "#FFD700",
    "sidebar_border": "#EEEEEE",
    "wrapper_background": "#FFFFFF"
   },
   "moveMenuLeft": true,
   "nav_menu": {
    "height": "268px",
    "width": "254px"
   },
   "navigate_menu": true,
   "number_sections": true,
   "sideBar": true,
   "threshold": 4,
   "toc_cell": false,
   "toc_section_display": "block",
   "toc_window_display": false,
   "widenNotebook": false
  }
 },
 "nbformat": 4,
 "nbformat_minor": 2
}
