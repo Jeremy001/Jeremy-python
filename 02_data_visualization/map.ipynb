{
 "cells": [
  {
   "cell_type": "code",
   "execution_count": 2,
   "metadata": {
    "collapsed": false
   },
   "outputs": [],
   "source": [
    "import vincent"
   ]
  },
  {
   "cell_type": "code",
   "execution_count": 4,
   "metadata": {
    "collapsed": false
   },
   "outputs": [
    {
     "ename": "TypeError",
     "evalue": "'NoneType' object is not iterable",
     "output_type": "error",
     "traceback": [
      "\u001b[0;31m---------------------------------------------------------------------------\u001b[0m",
      "\u001b[0;31mTypeError\u001b[0m                                 Traceback (most recent call last)",
      "\u001b[0;32m<ipython-input-4-2aebca44a9ef>\u001b[0m in \u001b[0;36m<module>\u001b[0;34m()\u001b[0m\n\u001b[1;32m      1\u001b[0m \u001b[0mworld_countries\u001b[0m \u001b[1;33m=\u001b[0m \u001b[1;34mr'world-countries.json'\u001b[0m\u001b[1;33m\u001b[0m\u001b[0m\n\u001b[0;32m----> 2\u001b[0;31m \u001b[0mworld\u001b[0m \u001b[1;33m=\u001b[0m \u001b[0mvincent\u001b[0m\u001b[1;33m.\u001b[0m\u001b[0mMap\u001b[0m\u001b[1;33m(\u001b[0m\u001b[0mwidth\u001b[0m \u001b[1;33m=\u001b[0m \u001b[1;36m200\u001b[0m\u001b[1;33m,\u001b[0m \u001b[0mheight\u001b[0m \u001b[1;33m=\u001b[0m \u001b[1;36m1000\u001b[0m\u001b[1;33m)\u001b[0m\u001b[1;33m\u001b[0m\u001b[0m\n\u001b[0m\u001b[1;32m      3\u001b[0m \u001b[0mworld\u001b[0m\u001b[1;33m.\u001b[0m\u001b[0mgeo_data\u001b[0m\u001b[1;33m(\u001b[0m\u001b[0mprojection\u001b[0m \u001b[1;33m=\u001b[0m \u001b[1;34m'winkel3'\u001b[0m\u001b[1;33m,\u001b[0m \u001b[0mscale\u001b[0m \u001b[1;33m=\u001b[0m \u001b[1;36m200\u001b[0m\u001b[1;33m,\u001b[0m \u001b[0mworld\u001b[0m \u001b[1;33m=\u001b[0m \u001b[0mworld_countries\u001b[0m\u001b[1;33m)\u001b[0m\u001b[1;33m\u001b[0m\u001b[0m\n\u001b[1;32m      4\u001b[0m \u001b[0mworld\u001b[0m\u001b[1;33m.\u001b[0m\u001b[0mto_json\u001b[0m\u001b[1;33m(\u001b[0m\u001b[0mpath\u001b[0m\u001b[1;33m)\u001b[0m\u001b[1;33m\u001b[0m\u001b[0m\n",
      "\u001b[0;32mC:\\Program Files\\Anaconda3\\lib\\site-packages\\vincent\\charts.py\u001b[0m in \u001b[0;36m__init__\u001b[0;34m(self, data, geo_data, projection, center, translate, scale, rotate, data_bind, data_key, map_key, brew, *args, **kwargs)\u001b[0m\n\u001b[1;32m    409\u001b[0m \u001b[1;33m\u001b[0m\u001b[0m\n\u001b[1;32m    410\u001b[0m         \u001b[1;31m# Add Data\u001b[0m\u001b[1;33m\u001b[0m\u001b[1;33m\u001b[0m\u001b[0m\n\u001b[0;32m--> 411\u001b[0;31m         \u001b[1;32mfor\u001b[0m \u001b[0mdat\u001b[0m \u001b[1;32min\u001b[0m \u001b[0mgeo_data\u001b[0m\u001b[1;33m:\u001b[0m\u001b[1;33m\u001b[0m\u001b[0m\n\u001b[0m\u001b[1;32m    412\u001b[0m             \u001b[1;31m# Data\u001b[0m\u001b[1;33m\u001b[0m\u001b[1;33m\u001b[0m\u001b[0m\n\u001b[1;32m    413\u001b[0m             \u001b[0mtransforms\u001b[0m \u001b[1;33m=\u001b[0m \u001b[1;33m[\u001b[0m\u001b[1;33m]\u001b[0m\u001b[1;33m\u001b[0m\u001b[0m\n",
      "\u001b[0;31mTypeError\u001b[0m: 'NoneType' object is not iterable"
     ]
    }
   ],
   "source": [
    "world_countries = r'world-countries.json'\n",
    "world = vincent.Map(width = 200, height = 1000)\n",
    "world.geo_data(projection = 'winkel3', scale = 200, world = world_countries)\n",
    "world.to_json(path)"
   ]
  },
  {
   "cell_type": "code",
   "execution_count": 6,
   "metadata": {
    "collapsed": false
   },
   "outputs": [
    {
     "ename": "TypeError",
     "evalue": "'NoneType' object is not iterable",
     "output_type": "error",
     "traceback": [
      "\u001b[0;31m---------------------------------------------------------------------------\u001b[0m",
      "\u001b[0;31mTypeError\u001b[0m                                 Traceback (most recent call last)",
      "\u001b[0;32m<ipython-input-6-64e068373a7c>\u001b[0m in \u001b[0;36m<module>\u001b[0;34m()\u001b[0m\n\u001b[0;32m----> 1\u001b[0;31m \u001b[0mvis\u001b[0m \u001b[1;33m=\u001b[0m \u001b[0mvincent\u001b[0m\u001b[1;33m.\u001b[0m\u001b[0mMap\u001b[0m\u001b[1;33m(\u001b[0m\u001b[0mwidth\u001b[0m\u001b[1;33m=\u001b[0m\u001b[1;36m1000\u001b[0m\u001b[1;33m,\u001b[0m \u001b[0mheight\u001b[0m\u001b[1;33m=\u001b[0m\u001b[1;36m800\u001b[0m\u001b[1;33m)\u001b[0m\u001b[1;33m\u001b[0m\u001b[0m\n\u001b[0m\u001b[1;32m      2\u001b[0m \u001b[1;33m\u001b[0m\u001b[0m\n\u001b[1;32m      3\u001b[0m \u001b[1;31m#Add the US county data and a new line color\u001b[0m\u001b[1;33m\u001b[0m\u001b[1;33m\u001b[0m\u001b[0m\n\u001b[1;32m      4\u001b[0m \u001b[1;33m\u001b[0m\u001b[0m\n\u001b[1;32m      5\u001b[0m \u001b[0mvis\u001b[0m\u001b[1;33m.\u001b[0m\u001b[0mgeo_data\u001b[0m\u001b[1;33m(\u001b[0m\u001b[0mprojection\u001b[0m\u001b[1;33m=\u001b[0m\u001b[1;34m'albersUsa'\u001b[0m\u001b[1;33m,\u001b[0m \u001b[0mscale\u001b[0m\u001b[1;33m=\u001b[0m\u001b[1;36m1000\u001b[0m\u001b[1;33m,\u001b[0m \u001b[0mcounties\u001b[0m\u001b[1;33m=\u001b[0m\u001b[0mcounty_geo\u001b[0m\u001b[1;33m)\u001b[0m\u001b[1;33m\u001b[0m\u001b[0m\n",
      "\u001b[0;32mC:\\Program Files\\Anaconda3\\lib\\site-packages\\vincent\\charts.py\u001b[0m in \u001b[0;36m__init__\u001b[0;34m(self, data, geo_data, projection, center, translate, scale, rotate, data_bind, data_key, map_key, brew, *args, **kwargs)\u001b[0m\n\u001b[1;32m    409\u001b[0m \u001b[1;33m\u001b[0m\u001b[0m\n\u001b[1;32m    410\u001b[0m         \u001b[1;31m# Add Data\u001b[0m\u001b[1;33m\u001b[0m\u001b[1;33m\u001b[0m\u001b[0m\n\u001b[0;32m--> 411\u001b[0;31m         \u001b[1;32mfor\u001b[0m \u001b[0mdat\u001b[0m \u001b[1;32min\u001b[0m \u001b[0mgeo_data\u001b[0m\u001b[1;33m:\u001b[0m\u001b[1;33m\u001b[0m\u001b[0m\n\u001b[0m\u001b[1;32m    412\u001b[0m             \u001b[1;31m# Data\u001b[0m\u001b[1;33m\u001b[0m\u001b[1;33m\u001b[0m\u001b[0m\n\u001b[1;32m    413\u001b[0m             \u001b[0mtransforms\u001b[0m \u001b[1;33m=\u001b[0m \u001b[1;33m[\u001b[0m\u001b[1;33m]\u001b[0m\u001b[1;33m\u001b[0m\u001b[0m\n",
      "\u001b[0;31mTypeError\u001b[0m: 'NoneType' object is not iterable"
     ]
    }
   ],
   "source": [
    "vis = vincent.Map(width=1000, height=800)\n",
    "\n",
    "#Add the US county data and a new line color\n",
    "\n",
    "vis.geo_data(projection='albersUsa', scale=1000, counties=county_geo)\n",
    "\n",
    "vis + ('2B4ECF', 'marks', 0, 'properties', 'enter', 'stroke', 'value')\n",
    "\n",
    " \n",
    "\n",
    "#Add the state data, remove the fill, write Vega spec output to JSON\n",
    "\n",
    "vis.geo_data(states=state_geo)\n",
    "\n",
    "vis - ('fill', 'marks', 1, 'properties', 'enter')\n",
    "\n",
    "vis.to_json(path)"
   ]
  },
  {
   "cell_type": "code",
   "execution_count": 8,
   "metadata": {
    "collapsed": false
   },
   "outputs": [
    {
     "name": "stdout",
     "output_type": "stream",
     "text": [
      "{\n",
      "    \"series\": [\n",
      "        {\n",
      "            \"label\": {\n",
      "                \"emphasis\": {\n",
      "                    \"textStyle\": {\n",
      "                        \"fontSize\": 12,\n",
      "                        \"color\": \"#fff\"\n",
      "                    },\n",
      "                    \"position\": null,\n",
      "                    \"show\": true\n",
      "                },\n",
      "                \"normal\": {\n",
      "                    \"textStyle\": {\n",
      "                        \"fontSize\": 12,\n",
      "                        \"color\": \"#00FF00\"\n",
      "                    },\n",
      "                    \"position\": \"inside\",\n",
      "                    \"formatter\": null,\n",
      "                    \"show\": true\n",
      "                }\n",
      "            },\n",
      "            \"showEffectOn\": \"render\",\n",
      "            \"rippleEffect\": {\n",
      "                \"scale\": 2.5,\n",
      "                \"brushType\": \"stroke\",\n",
      "                \"period\": 4\n",
      "            },\n",
      "            \"type\": \"effectScatter\",\n",
      "            \"symbolSize\": 20,\n",
      "            \"coordinateSystem\": \"geo\",\n",
      "            \"symbol\": \"circle\",\n",
      "            \"data\": [\n",
      "                {\n",
      "                    \"value\": [\n",
      "                        112.239741,\n",
      "                        30.335165,\n",
      "                        20\n",
      "                    ],\n",
      "                    \"name\": \"\\u8346\\u5dde\"\n",
      "                },\n",
      "                {\n",
      "                    \"value\": [\n",
      "                        113,\n",
      "                        28.21,\n",
      "                        30\n",
      "                    ],\n",
      "                    \"name\": \"\\u957f\\u6c99\"\n",
      "                },\n",
      "                {\n",
      "                    \"value\": [\n",
      "                        109.5,\n",
      "                        34.52,\n",
      "                        40\n",
      "                    ],\n",
      "                    \"name\": \"\\u6e2d\\u5357\"\n",
      "                },\n",
      "                {\n",
      "                    \"value\": [\n",
      "                        111.5,\n",
      "                        36.08,\n",
      "                        60\n",
      "                    ],\n",
      "                    \"name\": \"\\u4e34\\u6c7e\"\n",
      "                },\n",
      "                {\n",
      "                    \"value\": [\n",
      "                        110.47,\n",
      "                        32.4,\n",
      "                        70\n",
      "                    ],\n",
      "                    \"name\": \"\\u5341\\u5830\"\n",
      "                },\n",
      "                {\n",
      "                    \"value\": [\n",
      "                        118.02,\n",
      "                        39.63,\n",
      "                        80\n",
      "                    ],\n",
      "                    \"name\": \"\\u5510\\u5c71\"\n",
      "                },\n",
      "                {\n",
      "                    \"value\": [\n",
      "                        113.02,\n",
      "                        25.46,\n",
      "                        90\n",
      "                    ],\n",
      "                    \"name\": \"\\u90f4\\u5dde\"\n",
      "                },\n",
      "                {\n",
      "                    \"value\": [\n",
      "                        117.48,\n",
      "                        30.56,\n",
      "                        100\n",
      "                    ],\n",
      "                    \"name\": \"\\u94dc\\u9675\"\n",
      "                },\n",
      "                {\n",
      "                    \"value\": [\n",
      "                        111.65,\n",
      "                        40.82,\n",
      "                        10\n",
      "                    ],\n",
      "                    \"name\": \"\\u547c\\u548c\\u6d69\\u7279\"\n",
      "                }\n",
      "            ],\n",
      "            \"name\": \"\\u547c\\u548c\\u6d69\\u7279\"\n",
      "        }\n",
      "    ],\n",
      "    \"tooltip\": {\n",
      "        \"textStyle\": {\n",
      "            \"fontSize\": 14,\n",
      "            \"color\": \"#fff\"\n",
      "        },\n",
      "        \"axisPointer\": {\n",
      "            \"type\": \"line\"\n",
      "        },\n",
      "        \"formatter\": \"{b}: {c}\",\n",
      "        \"triggerOn\": \"mousemove|click\",\n",
      "        \"trigger\": \"item\"\n",
      "    },\n",
      "    \"toolbox\": {\n",
      "        \"left\": \"95%\",\n",
      "        \"feature\": {\n",
      "            \"dataView\": {\n",
      "                \"show\": true\n",
      "            },\n",
      "            \"restore\": {\n",
      "                \"show\": true\n",
      "            },\n",
      "            \"saveAsImage\": {\n",
      "                \"title\": \"\\u4e0b\\u8f7d\\u56fe\\u7247\",\n",
      "                \"show\": true\n",
      "            }\n",
      "        },\n",
      "        \"orient\": \"vertical\",\n",
      "        \"top\": \"center\",\n",
      "        \"show\": true\n",
      "    },\n",
      "    \"legend\": [\n",
      "        {\n",
      "            \"data\": [\n",
      "                \"\\u547c\\u548c\\u6d69\\u7279\"\n",
      "            ],\n",
      "            \"left\": \"center\",\n",
      "            \"orient\": \"horizontal\",\n",
      "            \"show\": true,\n",
      "            \"selectedMode\": \"multiple\",\n",
      "            \"textStyle\": {\n",
      "                \"fontSize\": 12,\n",
      "                \"color\": \"#333\"\n",
      "            },\n",
      "            \"top\": \"top\"\n",
      "        }\n",
      "    ],\n",
      "    \"backgroundColor\": \"#fff\",\n",
      "    \"color\": [\n",
      "        \"#c23531\",\n",
      "        \"#2f4554\",\n",
      "        \"#61a0a8\",\n",
      "        \"#d48265\",\n",
      "        \"#749f83\",\n",
      "        \"#ca8622\",\n",
      "        \"#bda29a\",\n",
      "        \"#6e7074\",\n",
      "        \"#546570\",\n",
      "        \"#c4ccd3\",\n",
      "        \"#f05b72\",\n",
      "        \"#ef5b9c\",\n",
      "        \"#f47920\",\n",
      "        \"#905a3d\",\n",
      "        \"#fab27b\",\n",
      "        \"#2a5caa\",\n",
      "        \"#444693\",\n",
      "        \"#726930\",\n",
      "        \"#b2d235\",\n",
      "        \"#6d8346\",\n",
      "        \"#ac6767\",\n",
      "        \"#1d953f\",\n",
      "        \"#6950a1\",\n",
      "        \"#918597\",\n",
      "        \"#f6f5ec\"\n",
      "    ],\n",
      "    \"title\": [\n",
      "        {\n",
      "            \"subtextStyle\": {\n",
      "                \"fontSize\": 12,\n",
      "                \"color\": \"#aaa\"\n",
      "            },\n",
      "            \"left\": \"auto\",\n",
      "            \"subtext\": \"\",\n",
      "            \"text\": \"\\u5168\\u56fd\\u5404\\u5730\\u9500\\u91cf\\u56fe\",\n",
      "            \"textStyle\": {\n",
      "                \"fontSize\": 18,\n",
      "                \"color\": \"#000\"\n",
      "            },\n",
      "            \"top\": \"auto\"\n",
      "        }\n",
      "    ],\n",
      "    \"geo\": {\n",
      "        \"label\": {\n",
      "            \"emphasis\": {\n",
      "                \"textStyle\": {\n",
      "                    \"color\": \"#eee\"\n",
      "                },\n",
      "                \"show\": true\n",
      "            }\n",
      "        },\n",
      "        \"itemStyle\": {\n",
      "            \"emphasis\": {\n",
      "                \"areaColor\": \"#0000ff\"\n",
      "            },\n",
      "            \"normal\": {\n",
      "                \"areaColor\": \"#006edd\",\n",
      "                \"borderColor\": \"#ffffff\"\n",
      "            }\n",
      "        },\n",
      "        \"roam\": true,\n",
      "        \"map\": \"china\"\n",
      "    },\n",
      "    \"series_id\": 3857033\n",
      "}\n"
     ]
    }
   ],
   "source": [
    "# use pyecharts\n",
    "import numpy as np\n",
    "import pandas as pd\n",
    "from pyecharts import Geo\n",
    "\n",
    "value = [20,30,40,60,70,80,90,100,10]  \n",
    "attr = ['荆州','长沙','渭南','临汾','十堰','唐山','郴州','铜陵','呼和浩特']\n",
    "geo = Geo('全国各地销量图', width = 1200, height = 600)\n",
    "geo.add(\"各网点销售量\",attr,value,type=\"effectScatter\",border_color=\"#ffffff\",symbol_size=20,\n",
    "        is_label_show=True,label_text_color=\"#00FF00\",label_pos=\"inside\",symbol=\"circle\",\n",
    "        symbol_color=\"FF0000\",geo_normal_color=\"#006edd\",geo_emphasis_color=\"#0000ff\")\n",
    "geo.show_config()\n",
    "geo.render('geo.html')"
   ]
  },
  {
   "cell_type": "code",
   "execution_count": null,
   "metadata": {
    "collapsed": true
   },
   "outputs": [],
   "source": []
  },
  {
   "cell_type": "code",
   "execution_count": null,
   "metadata": {
    "collapsed": true
   },
   "outputs": [],
   "source": []
  },
  {
   "cell_type": "code",
   "execution_count": null,
   "metadata": {
    "collapsed": true
   },
   "outputs": [],
   "source": []
  },
  {
   "cell_type": "code",
   "execution_count": null,
   "metadata": {
    "collapsed": true
   },
   "outputs": [],
   "source": []
  },
  {
   "cell_type": "code",
   "execution_count": null,
   "metadata": {
    "collapsed": true
   },
   "outputs": [],
   "source": []
  },
  {
   "cell_type": "code",
   "execution_count": null,
   "metadata": {
    "collapsed": true
   },
   "outputs": [],
   "source": []
  },
  {
   "cell_type": "code",
   "execution_count": null,
   "metadata": {
    "collapsed": true
   },
   "outputs": [],
   "source": []
  }
 ],
 "metadata": {
  "anaconda-cloud": {},
  "kernelspec": {
   "display_name": "Python [default]",
   "language": "python",
   "name": "python3"
  },
  "language_info": {
   "codemirror_mode": {
    "name": "ipython",
    "version": 3
   },
   "file_extension": ".py",
   "mimetype": "text/x-python",
   "name": "python",
   "nbconvert_exporter": "python",
   "pygments_lexer": "ipython3",
   "version": "3.5.2"
  }
 },
 "nbformat": 4,
 "nbformat_minor": 1
}
