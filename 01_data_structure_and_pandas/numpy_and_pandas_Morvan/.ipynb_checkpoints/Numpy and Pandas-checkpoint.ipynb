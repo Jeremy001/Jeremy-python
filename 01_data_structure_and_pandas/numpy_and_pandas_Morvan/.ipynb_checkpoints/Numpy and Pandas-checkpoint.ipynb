{
 "cells": [
  {
   "cell_type": "markdown",
   "metadata": {},
   "source": [
    "# Numpy and Pandas"
   ]
  },
  {
   "cell_type": "markdown",
   "metadata": {},
   "source": [
    "## array的属性"
   ]
  },
  {
   "cell_type": "code",
   "execution_count": 1,
   "metadata": {
    "collapsed": false
   },
   "outputs": [
    {
     "name": "stdout",
     "output_type": "stream",
     "text": [
      "[[1 2 3]\n",
      " [2 3 4]]\n",
      "number of dim; 2\n",
      "shape: (2, 3)\n",
      "size: 6\n"
     ]
    }
   ],
   "source": [
    "import numpy as np\n",
    "array = np.array([[1, 2, 3], \n",
    "                  [2, 3, 4]])\n",
    "print(array)\n",
    "# 数组的维数\n",
    "print('number of dim;', array.ndim)\n",
    "# 数据的行列数\n",
    "print('shape:', array.shape)\n",
    "# 数组的大小，指的是包含元素的个数\n",
    "print('size:', array.size)"
   ]
  },
  {
   "cell_type": "markdown",
   "metadata": {},
   "source": [
    "## 创建array"
   ]
  },
  {
   "cell_type": "code",
   "execution_count": 2,
   "metadata": {
    "collapsed": false
   },
   "outputs": [
    {
     "name": "stdout",
     "output_type": "stream",
     "text": [
      "[1 2 3]\n",
      "[1 2 3]\n",
      "int32\n",
      "[ 1.  2.  3.]\n",
      "float64\n",
      "[[ 0.  0.  0.  0.]\n",
      " [ 0.  0.  0.  0.]\n",
      " [ 0.  0.  0.  0.]]\n",
      "[[ 1.  1.  1.  1.]\n",
      " [ 1.  1.  1.  1.]\n",
      " [ 1.  1.  1.  1.]]\n",
      "[10 12 14 16 18]\n",
      "[[ 0  1  2  3]\n",
      " [ 4  5  6  7]\n",
      " [ 8  9 10 11]]\n",
      "[  0.    2.5   5.    7.5  10. ]\n"
     ]
    }
   ],
   "source": [
    "a = np.array([1, 2, 3])\n",
    "print(a)\n",
    "\n",
    "# 创建数组时可以定义数据类型\n",
    "a = np.array([1, 2, 3], dtype = int)\n",
    "print(a)\n",
    "print(a.dtype)\n",
    "\n",
    "a = np.array([1, 2, 3], dtype = float)\n",
    "print(a)\n",
    "print(a.dtype)\n",
    "\n",
    "# 创建各种矩阵\n",
    "## 全部为0\n",
    "a = np.zeros( (3, 4) )\n",
    "print(a)\n",
    "## 全部为1\n",
    "a = np.ones( (3, 4) )\n",
    "print(a)\n",
    "## 生成序列，arange:10开始，20结束，步长为2\n",
    "a = np.arange(10, 20, 2)\n",
    "print(a)\n",
    "## 根据序列生成矩阵\n",
    "a = np.arange(12).reshape( (3,4) )\n",
    "print(a)\n",
    "## 生成序列，linspace:0开始，10结束，取5个数据点 \n",
    "a = np.linspace(0, 10, 5)\n",
    "print(a)"
   ]
  },
  {
   "cell_type": "markdown",
   "metadata": {
    "collapsed": true
   },
   "source": [
    "## array的运算"
   ]
  },
  {
   "cell_type": "code",
   "execution_count": 14,
   "metadata": {
    "collapsed": false
   },
   "outputs": [
    {
     "name": "stdout",
     "output_type": "stream",
     "text": [
      "a: [10 20 30 40]\n",
      "b: [0 1 2 3]\n",
      "a - b: [10 19 28 37]\n",
      "a + b: [10 21 32 43]\n",
      "a * b: [  0  20  60 120]\n",
      "a / b: [         inf  20.          15.          13.33333333]\n",
      "b的平方: [0 1 4 9]\n",
      "sin(b): [ 0.          0.84147098  0.90929743  0.14112001]\n",
      "cos(b): [ 1.          0.54030231 -0.41614684 -0.9899925 ]\n",
      "哪些元素大于3： [ True  True  True False]\n",
      "哪些元素等于3： [False False False  True]\n",
      "[[1 1]\n",
      " [0 1]]\n",
      "[[0 1]\n",
      " [2 3]]\n",
      "a * b: [[0 1]\n",
      " [0 3]]\n",
      "矩阵乘法： [[2 4]\n",
      " [2 3]]\n",
      "[[ 0.48828859  0.48115898  0.93287271  0.87184191]\n",
      " [ 0.45004799  0.04470621  0.89000832  0.34918644]]\n",
      "4.50811115079\n",
      "0.044706208959\n",
      "0.93287271136\n"
     ]
    },
    {
     "name": "stderr",
     "output_type": "stream",
     "text": [
      "C:\\Program Files\\Anaconda3\\lib\\site-packages\\ipykernel\\__main__.py:12: RuntimeWarning: divide by zero encountered in true_divide\n"
     ]
    }
   ],
   "source": [
    "a = np.array([10, 20, 30, 40])\n",
    "b = np.arange(4)\n",
    "print('a:', a)\n",
    "print(\"b:\", b)\n",
    "# 减法：逐个元素相减\n",
    "print(\"a - b:\", a - b)\n",
    "# 加法：逐个元素相加\n",
    "print(\"a + b:\", a + b)\n",
    "# 乘法：逐个元素相乘\n",
    "print(\"a * b:\", a * b)\n",
    "# 除法：逐个元素相除\n",
    "print(\"a / b:\", a / b)\n",
    "# n次方：双星**\n",
    "print(\"b的平方:\", b ** 2)\n",
    "# 调用numpy中的函数\n",
    "print(\"sin(b):\", np.sin(b))\n",
    "print(\"cos(b):\", np.cos(b))\n",
    "# 将元素与某值比较\n",
    "print(\"哪些元素大于3：\", b < 3)\n",
    "print(\"哪些元素等于3：\", b == 3)\n",
    "# 元素相乘与矩阵点乘\n",
    "a = np.array([[1, 1], [0, 1]])\n",
    "b = np.arange(4).reshape((2, 2))\n",
    "print(a)\n",
    "print(b)\n",
    "c = a * b\n",
    "print(\"a * b:\", c)\n",
    "c_dot = np.dot(a, b)\n",
    "print(\"矩阵乘法：\", c_dot)\n",
    "# 随机数矩阵\n",
    "a = np.random.random((2, 4))\n",
    "print(a)\n",
    "# 统计函数\n",
    "print(np.sum(a))\n",
    "print(np.min(a))\n",
    "print(np.max(a))"
   ]
  },
  {
   "cell_type": "code",
   "execution_count": 18,
   "metadata": {
    "collapsed": false
   },
   "outputs": [
    {
     "name": "stdout",
     "output_type": "stream",
     "text": [
      "[ 2.77416218  1.73394897]\n",
      "[ 0.93833658  0.52586519  1.82288104  1.22102835]\n",
      "[ 0.48115898  0.04470621]\n",
      "[ 0.45004799  0.04470621  0.89000832  0.34918644]\n"
     ]
    }
   ],
   "source": [
    "# 在不同维度统计\n",
    "## axis=1代表列，及时要把列干掉\n",
    "print(np.sum(a, axis = 1))\n",
    "## axis=1代表行，及时要把行干掉\n",
    "print(np.sum(a, axis = 0))\n",
    "\n",
    "print(np.min(a, axis = 1))\n",
    "print(np.min(a, axis = 0))\n",
    "\n",
    "print(np.max(a, axis = 1))\n",
    "print(np.max(a, axis = 0))"
   ]
  },
  {
   "cell_type": "markdown",
   "metadata": {
    "collapsed": true
   },
   "source": [
    "## array的运算【2】"
   ]
  },
  {
   "cell_type": "code",
   "execution_count": 38,
   "metadata": {
    "collapsed": false
   },
   "outputs": [
    {
     "name": "stdout",
     "output_type": "stream",
     "text": [
      "[[ 2  3  4  5]\n",
      " [ 6  7  8  9]\n",
      " [10 11 12 13]]\n",
      "0\n",
      "11\n",
      "7.5\n",
      "7.5\n",
      "90\n",
      "90\n",
      "7.5\n",
      "7.5\n",
      "[ 2  5  9 14 20 27 35 44 54 65 77 90]\n",
      "[[ 2  3  4  5]\n",
      " [ 8 10 12 14]\n",
      " [18 21 24 27]]\n",
      "[[ 2  5  9 14]\n",
      " [ 6 13 21 30]\n",
      " [10 21 33 46]]\n",
      "[[1 1 1]\n",
      " [1 1 1]\n",
      " [1 1 1]]\n",
      "[[4 4 4 4]\n",
      " [4 4 4 4]]\n",
      "[[1 1 1]\n",
      " [1 1 1]\n",
      " [1 1 1]]\n",
      "(array([0, 0, 0, 0, 1, 1, 1, 1, 2, 2, 2, 2], dtype=int64), array([0, 1, 2, 3, 0, 1, 2, 3, 0, 1, 2, 3], dtype=int64))\n",
      "[[11 12 13 14]\n",
      " [ 7  8  9 10]\n",
      " [ 3  4  5  6]]\n",
      "[[14 10  6]\n",
      " [13  9  5]\n",
      " [12  8  4]\n",
      " [11  7  3]]\n",
      "[[14 10  6]\n",
      " [13  9  5]\n",
      " [12  8  4]\n",
      " [11  7  3]]\n",
      "[[332 302 272 242]\n",
      " [302 275 248 221]\n",
      " [272 248 224 200]\n",
      " [242 221 200 179]]\n",
      "[[9 9 9 9]\n",
      " [9 9 8 7]\n",
      " [6 5 5 5]]\n"
     ]
    }
   ],
   "source": [
    "A = np.arange(2, 14).reshape((3, 4))\n",
    "print(A)\n",
    "# 满足条件的值的索引\n",
    "print(np.argmin(A))\n",
    "print(np.argmax(A))\n",
    "# 统计函数的两种形式\n",
    "print(np.mean(A))\n",
    "print(A.mean())\n",
    "print(np.sum(A))\n",
    "print(A.sum())\n",
    "# 部分统计函数不支持第二种形式\n",
    "print(np.median(A))\n",
    "print(np.average(A))\n",
    "\n",
    "# 帕累托求和\n",
    "print(np.cumsum(A))\n",
    "print(np.cumsum(A, axis = 0))\n",
    "print(np.cumsum(A, axis = 1))\n",
    "\n",
    "# 累差\n",
    "print(np.diff(A))\n",
    "print(np.diff(A, axis = 0))\n",
    "print(np.diff(A, axis = 1))\n",
    "\n",
    "# 非零元素\n",
    "print(np.nonzero(A))\n",
    "## 返回两个数组，分别表示非零元素所在的行和列\n",
    "\n",
    "# 排序\n",
    "A = np.arange(14, 2, -1).reshape((3, 4))\n",
    "print(np.sort(A))\n",
    "\n",
    "# 转置和乘法\n",
    "print(np.transpose(A))\n",
    "print(A.T)\n",
    "print(A.T.dot(A))\n",
    "\n",
    "# clip\n",
    "print(np.clip(A, 5, 9))\n",
    "## A矩阵中，所有小于5的数都改写成5，大于9的数都改写成9，在两者之间的保留；"
   ]
  },
  {
   "cell_type": "markdown",
   "metadata": {
    "collapsed": true
   },
   "source": [
    "## 索引"
   ]
  },
  {
   "cell_type": "code",
   "execution_count": 50,
   "metadata": {
    "collapsed": false
   },
   "outputs": [
    {
     "name": "stdout",
     "output_type": "stream",
     "text": [
      "[ 3  4  5  6  7  8  9 10 11 12 13 14]\n",
      "6\n",
      "[[ 3  4  5  6]\n",
      " [ 7  8  9 10]\n",
      " [11 12 13 14]]\n",
      "3\n",
      "3\n",
      "[ 3  7 11]\n",
      "[3 4 5 6]\n",
      "[3 4]\n",
      "[3 4 5 6]\n",
      "[ 7  8  9 10]\n",
      "[11 12 13 14]\n",
      "[ 3  7 11]\n",
      "[ 4  8 12]\n",
      "[ 5  9 13]\n",
      "[ 6 10 14]\n",
      "[ 3  4  5  6  7  8  9 10 11 12 13 14]\n",
      "3\n",
      "4\n",
      "5\n",
      "6\n",
      "7\n",
      "8\n",
      "9\n",
      "10\n",
      "11\n",
      "12\n",
      "13\n",
      "14\n"
     ]
    }
   ],
   "source": [
    "# 一维数组\n",
    "A = np.arange(3, 15)\n",
    "print(A)\n",
    "print(A[3])\n",
    "\n",
    "# 二维数组\n",
    "A = np.arange(3, 15).reshape((3, 4))\n",
    "print(A)\n",
    "print(A[0][0])\n",
    "print(A[0, 0])\n",
    "## 冒号表示整行或整列的所有元素\n",
    "print(A[:, 0])\n",
    "print(A[0, :])\n",
    "## n1:n2表示从n1开始到n2-1\n",
    "print(A[0, 0:2])\n",
    "\n",
    "# for循环\n",
    "## 行循环\n",
    "for row in A:\n",
    "    print(row)\n",
    "## 列循环\n",
    "for column in A.T:\n",
    "    print(column)\n",
    "## 迭代元素\n",
    "print(A.flatten())\n",
    "for item in A.flat:\n",
    "    print(item)"
   ]
  },
  {
   "cell_type": "markdown",
   "metadata": {},
   "source": [
    "## array的合并"
   ]
  },
  {
   "cell_type": "code",
   "execution_count": 65,
   "metadata": {
    "collapsed": false
   },
   "outputs": [
    {
     "name": "stdout",
     "output_type": "stream",
     "text": [
      "A: [1 1 1]\n",
      "B: [2 2 2]\n",
      "[[1 1 1]\n",
      " [2 2 2]]\n",
      "(3,) (2, 3)\n",
      "[1 1 1 2 2 2]\n",
      "(3,) (6,)\n",
      "[[1 1 1]]\n",
      "(1, 3)\n",
      "[[1]\n",
      " [1]\n",
      " [1]]\n",
      "(3, 1)\n",
      "[[1 2]\n",
      " [1 2]\n",
      " [1 2]]\n",
      "(3, 2)\n",
      "[[1]\n",
      " [1]\n",
      " [1]\n",
      " [2]\n",
      " [2]\n",
      " [2]\n",
      " [2]\n",
      " [2]\n",
      " [2]\n",
      " [1]\n",
      " [1]\n",
      " [1]]\n",
      "[[1 2 2 1]\n",
      " [1 2 2 1]\n",
      " [1 2 2 1]]\n"
     ]
    }
   ],
   "source": [
    "A = np.array([1, 1, 1])\n",
    "B = np.array([2, 2, 2])\n",
    "print(\"A:\", A)\n",
    "print(\"B:\", B)\n",
    "# 行合并\n",
    "C = np.vstack((A, B))\n",
    "print(C)\n",
    "print(A.shape, C.shape)\n",
    "# 列合并\n",
    "C = np.hstack((A, B))\n",
    "print(C)\n",
    "print(A.shape, C.shape)\n",
    "\n",
    "# 一维数组可以转置吗？\n",
    "# print(A.T)\n",
    "## 报错，发现不可转置\n",
    "\n",
    "# 增加维度，让一维数组变成二维\n",
    "print(A[np.newaxis, :])\n",
    "print(A[np.newaxis, :].shape)\n",
    "print(A[:, np.newaxis])\n",
    "print(A[:, np.newaxis].shape)\n",
    "\n",
    "# 列合并2\n",
    "D = np.hstack((A[:, np.newaxis], B[:, np.newaxis]))\n",
    "print(D)\n",
    "print(D.shape)\n",
    "\n",
    "# 行列合并\n",
    "A = np.array([1, 1, 1])[:, np.newaxis]\n",
    "B = np.array([2, 2, 2])[:, np.newaxis]\n",
    "print(np.concatenate((A, B, B, A), axis = 0))\n",
    "print(np.concatenate((A, B, B, A), axis = 1))"
   ]
  },
  {
   "cell_type": "code",
   "execution_count": null,
   "metadata": {
    "collapsed": true
   },
   "outputs": [],
   "source": []
  },
  {
   "cell_type": "code",
   "execution_count": null,
   "metadata": {
    "collapsed": true
   },
   "outputs": [],
   "source": []
  },
  {
   "cell_type": "code",
   "execution_count": null,
   "metadata": {
    "collapsed": true
   },
   "outputs": [],
   "source": []
  }
 ],
 "metadata": {
  "anaconda-cloud": {},
  "kernelspec": {
   "display_name": "Python [conda root]",
   "language": "python",
   "name": "conda-root-py"
  },
  "language_info": {
   "codemirror_mode": {
    "name": "ipython",
    "version": 3
   },
   "file_extension": ".py",
   "mimetype": "text/x-python",
   "name": "python",
   "nbconvert_exporter": "python",
   "pygments_lexer": "ipython3",
   "version": "3.5.2"
  },
  "toc": {
   "colors": {
    "hover_highlight": "#DAA520",
    "navigate_num": "#000000",
    "navigate_text": "#333333",
    "running_highlight": "#FF0000",
    "selected_highlight": "#FFD700",
    "sidebar_border": "#EEEEEE",
    "wrapper_background": "#FFFFFF"
   },
   "moveMenuLeft": true,
   "nav_menu": {
    "height": "56px",
    "width": "254px"
   },
   "navigate_menu": true,
   "number_sections": true,
   "sideBar": true,
   "threshold": 4,
   "toc_cell": false,
   "toc_section_display": "block",
   "toc_window_display": false,
   "widenNotebook": false
  }
 },
 "nbformat": 4,
 "nbformat_minor": 1
}
