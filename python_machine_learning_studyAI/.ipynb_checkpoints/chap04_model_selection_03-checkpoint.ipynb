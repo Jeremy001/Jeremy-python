{
 "cells": [
  {
   "cell_type": "markdown",
   "metadata": {},
   "source": [
    "# Chapter04 模型选择与评估\n",
    "\n",
    "## 4.3 模型验证方法（Model Validation）\n",
    "\n",
    "- 通过交叉验证计算得分\n",
    "```\n",
    "model_selection.cross_val_score(estimator, X)\n",
    "```\n",
    "- 对每个输入数据点产生交叉验证估计\n",
    "```\n",
    "model_selection.cross_val_predict(estimator, X)\n",
    "```\n",
    "- 计算并绘制模型的学习率曲线\n",
    "```\n",
    "model_selection.learning_curve(estimator, X, y)\n",
    "```\n",
    "- 计算并绘制模型的验证曲线\n",
    "```\n",
    "model_selection.validation_curve(estimator, ...)\n",
    "```\n",
    "- 通过排序评估交叉验证得分的重要性\n",
    "```\n",
    "model_selection.permutation_test_score(...)\n",
    "```"
   ]
  },
  {
   "cell_type": "code",
   "execution_count": null,
   "metadata": {
    "collapsed": true
   },
   "outputs": [],
   "source": []
  },
  {
   "cell_type": "code",
   "execution_count": null,
   "metadata": {
    "collapsed": true
   },
   "outputs": [],
   "source": []
  },
  {
   "cell_type": "code",
   "execution_count": null,
   "metadata": {
    "collapsed": true
   },
   "outputs": [],
   "source": []
  },
  {
   "cell_type": "code",
   "execution_count": null,
   "metadata": {
    "collapsed": true
   },
   "outputs": [],
   "source": []
  }
 ],
 "metadata": {
  "kernelspec": {
   "display_name": "Python 3",
   "language": "python",
   "name": "python3"
  },
  "language_info": {
   "codemirror_mode": {
    "name": "ipython",
    "version": 3
   },
   "file_extension": ".py",
   "mimetype": "text/x-python",
   "name": "python",
   "nbconvert_exporter": "python",
   "pygments_lexer": "ipython3",
   "version": "3.6.1"
  }
 },
 "nbformat": 4,
 "nbformat_minor": 2
}
