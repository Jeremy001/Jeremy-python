{
 "cells": [
  {
   "cell_type": "markdown",
   "metadata": {},
   "source": [
    "# Chapter04 模型选择与评估\n",
    "\n",
    "## 4.2 超参数优化方法\n",
    "\n",
    "### 什么是超参数？\n",
    "\n",
    "- 参数\n",
    "    - 可以根据数据集估计得到的模型参数\n",
    "- 超参数\n",
    "    - 不能根据数据集估计得到的参数，通常需要人为手工设定\n",
    "\n",
    "### 超参数优化方法\n",
    "\n",
    "- GridSearch网格搜索\n",
    "\n",
    "- RandomizedSearch随机采样\n"
   ]
  },
  {
   "cell_type": "code",
   "execution_count": 4,
   "metadata": {
    "collapsed": false
   },
   "outputs": [
    {
     "name": "stdout",
     "output_type": "stream",
     "text": [
      "SVC(C=1, cache_size=200, class_weight=None, coef0=0.0,\n",
      "  decision_function_shape='ovr', degree=3, gamma='auto', kernel='linear',\n",
      "  max_iter=-1, probability=False, random_state=None, shrinking=True,\n",
      "  tol=0.001, verbose=False)\n"
     ]
    }
   ],
   "source": [
    "# GridSearchCV\n",
    "\n",
    "from sklearn.datasets import load_iris\n",
    "from sklearn import svm\n",
    "from sklearn.model_selection import GridSearchCV\n",
    "\n",
    "iris = load_iris()\n",
    "\n",
    "# 定义参数网格(字典)\n",
    "parameters = {'kernel':('rbf', 'linear'), 'C':[1, 5, 10]}\n",
    "svr = svm.SVC()\n",
    "clf = GridSearchCV(svr, parameters)\n",
    "clf.fit(iris.data, iris.target)\n",
    "print(clf.best_estimator_)\n"
   ]
  },
  {
   "cell_type": "code",
   "execution_count": 10,
   "metadata": {
    "collapsed": false
   },
   "outputs": [
    {
     "name": "stdout",
     "output_type": "stream",
     "text": [
      "RandomizedSearchCV took 2.76 seconds for 20 candidatesparameter settings.\n",
      "Model with rank:1\n",
      "Mean validation score:0.928 (std: 0.009)\n",
      "Parameters:{'criterion': 'entropy', 'max_features': 3, 'min_samples_split': 6, 'bootstrap': False, 'min_samples_leaf': 2, 'max_depth': None}\n",
      "\n",
      "Model with rank:2\n",
      "Mean validation score:0.921 (std: 0.015)\n",
      "Parameters:{'criterion': 'entropy', 'max_features': 9, 'min_samples_split': 8, 'bootstrap': False, 'min_samples_leaf': 3, 'max_depth': None}\n",
      "\n",
      "Model with rank:3\n",
      "Mean validation score:0.916 (std: 0.013)\n",
      "Parameters:{'criterion': 'gini', 'max_features': 3, 'min_samples_split': 8, 'bootstrap': True, 'min_samples_leaf': 1, 'max_depth': None}\n",
      "\n",
      "Model with rank:3\n",
      "Mean validation score:0.916 (std: 0.011)\n",
      "Parameters:{'criterion': 'gini', 'max_features': 7, 'min_samples_split': 9, 'bootstrap': True, 'min_samples_leaf': 2, 'max_depth': None}\n",
      "\n"
     ]
    }
   ],
   "source": [
    "# RandomizedSearchCV\n",
    "\n",
    "import numpy as np\n",
    "from time import time\n",
    "from scipy.stats import randint as sp_randint\n",
    "from sklearn.model_selection import RandomizedSearchCV\n",
    "from sklearn.datasets import load_digits\n",
    "from sklearn.ensemble import RandomForestClassifier\n",
    "\n",
    "# 定义一个用于报告超参数搜索最好结果的函数\n",
    "def report(results, n_top = 3):\n",
    "    for i in range(1, n_top + 1):\n",
    "        candidates = np.flatnonzero(results['rank_test_score'] == i)\n",
    "        for candidate in candidates:\n",
    "            print('Model with rank:{0}'.format(i))\n",
    "            print(\"Mean validation score:{0:.3f} (std: {1:.3f})\".format(\n",
    "                results['mean_test_score'][candidate],\n",
    "                results['std_test_score'][candidate]))\n",
    "            print(\"Parameters:{0}\".format(results['params'][candidate]))\n",
    "            print(\"\")\n",
    "\n",
    "# dataset\n",
    "digits = load_digits()\n",
    "X, y = digits.data, digits.target\n",
    "\n",
    "# # classifier\n",
    "clf = RandomForestClassifier(n_estimators= 20)\n",
    "\n",
    "# # 设置超参数及其取值分布\n",
    "param_dist = {\"max_depth\": [3, None], \n",
    "              \"max_features\": sp_randint(1, 11), \n",
    "              \"min_samples_split\": sp_randint(2, 11), \n",
    "              \"min_samples_leaf\": sp_randint(1, 11), \n",
    "              \"bootstrap\": [True, False], \n",
    "              \"criterion\": ['gini', 'entropy']}\n",
    "\n",
    "# # 随机搜索\n",
    "n_iter_search = 20\n",
    "random_search = RandomizedSearchCV(clf, param_distributions = param_dist, n_iter = n_iter_search)\n",
    "start = time()\n",
    "random_search.fit(X, y)\n",
    "print(\"RandomizedSearchCV took %.2f seconds for %d candidates\"\n",
    "      \" parameter settings.\" % ((time() - start), n_iter_search))\n",
    "report(random_search.cv_results_)\n"
   ]
  },
  {
   "cell_type": "code",
   "execution_count": null,
   "metadata": {
    "collapsed": true
   },
   "outputs": [],
   "source": []
  },
  {
   "cell_type": "code",
   "execution_count": null,
   "metadata": {
    "collapsed": true
   },
   "outputs": [],
   "source": []
  },
  {
   "cell_type": "code",
   "execution_count": null,
   "metadata": {
    "collapsed": true
   },
   "outputs": [],
   "source": []
  },
  {
   "cell_type": "code",
   "execution_count": null,
   "metadata": {
    "collapsed": true
   },
   "outputs": [],
   "source": []
  },
  {
   "cell_type": "code",
   "execution_count": null,
   "metadata": {
    "collapsed": true
   },
   "outputs": [],
   "source": []
  }
 ],
 "metadata": {
  "anaconda-cloud": {},
  "kernelspec": {
   "display_name": "Python [default]",
   "language": "python",
   "name": "python3"
  },
  "language_info": {
   "codemirror_mode": {
    "name": "ipython",
    "version": 3
   },
   "file_extension": ".py",
   "mimetype": "text/x-python",
   "name": "python",
   "nbconvert_exporter": "python",
   "pygments_lexer": "ipython3",
   "version": "3.5.2"
  }
 },
 "nbformat": 4,
 "nbformat_minor": 1
}
